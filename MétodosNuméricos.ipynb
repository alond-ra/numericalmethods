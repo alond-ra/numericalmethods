{
  "nbformat": 4,
  "nbformat_minor": 0,
  "metadata": {
    "colab": {
      "name": "MétodosNuméricos.ipynb",
      "provenance": [],
      "collapsed_sections": [
        "LYcJKaneJ5n0"
      ],
      "include_colab_link": true
    },
    "kernelspec": {
      "name": "python3",
      "display_name": "Python 3"
    },
    "language_info": {
      "name": "python"
    }
  },
  "cells": [
    {
      "cell_type": "markdown",
      "metadata": {
        "id": "view-in-github",
        "colab_type": "text"
      },
      "source": [
        "<a href=\"https://colab.research.google.com/github/alond-ra/numericalmethods/blob/main/M%C3%A9todosNum%C3%A9ricos.ipynb\" target=\"_parent\"><img src=\"https://colab.research.google.com/assets/colab-badge.svg\" alt=\"Open In Colab\"/></a>"
      ]
    },
    {
      "cell_type": "markdown",
      "source": [
        "Alondra Galván Patlán \n",
        "\n",
        "Guías Métodos Numéricos\n",
        "\n",
        "09/12/21"
      ],
      "metadata": {
        "id": "lU_6JH81Cume"
      }
    },
    {
      "cell_type": "code",
      "execution_count": null,
      "metadata": {
        "id": "xSN2m_u0Cj8I"
      },
      "outputs": [],
      "source": [
        "import numpy as np\n",
        "import matplotlib.pyplot as plt\n",
        "import math"
      ]
    },
    {
      "cell_type": "markdown",
      "source": [
        "# Primer parcial"
      ],
      "metadata": {
        "id": "jt732QX1DLhv"
      }
    },
    {
      "cell_type": "markdown",
      "source": [
        "## Problema 1"
      ],
      "metadata": {
        "id": "ddkIgf9nJywG"
      }
    },
    {
      "cell_type": "markdown",
      "source": [
        "1. Usa el método de Gauss-Jordan para resolver el siguiente sistema\n",
        "\n",
        "\\begin{align*} \n",
        "    \\begin{pmatrix}\n",
        "         4 & 4 & 8 & 4 & | & 1 \\\\\n",
        "         4 & 5 & 3 & 7 & | & 2 \\\\\n",
        "         8 & 3 & 9 & 9 & | & 3 \\\\\n",
        "         4 & 7 & 9 & 5 & | & 4\n",
        "    \\end{pmatrix}\n",
        "\\end{align*}\n",
        "Comenta el comportamiento del método y las dificultades que posiblemente presentaste.\\\\\n",
        "Luego aplica un método iterativo apropiado y justifica la elección. Además, estudia el\n",
        "número de condición de la matriz de coeficientes asociada, y justifica si es un problema bien\n",
        "condicionado."
      ],
      "metadata": {
        "id": "zUPp2lo0IDCr"
      }
    },
    {
      "cell_type": "markdown",
      "source": [
        "**Respuesta**: Notemos que no es un sistema bien condicionado ya que\n",
        "\n",
        "\n",
        "\\begin{align*}\n",
        "    k(A) &= 27603999.9409\\\\\n",
        "    det(A) &= 0.\n",
        "\\end{align*}\n",
        "Esto es, tiene un número de condición muy grande y un determinante muy pequeño; por lo que el sistema está mal condicionado.\n",
        "Además, como el determinante es 0, no se puede aplicar el método de Gauss-Jordan.\n",
        "\n",
        "Por otro lado, notamos que no es diagonalmente dominante, basta con tan solo observar el primer renglón $4 < 16$.\n",
        "Este sistema no puede reordenarse para ser diagonalmente convergente ya que, en el 3er renglón, el número 9 es el más grande, pero está dos veces, por lo que la suma del resto de elementos que no estén en la diagonal (sea cual sea el que esté en la diagonal) siempre será mayor que el elemento en la diagonal. \n",
        "\n",
        "Reafirmando lo anterior, se tiene que, las condiciones para tener convergencia en los métodos de Jacobi y de Gauss Jordan, que dependen de los siguientes radios espectrales:\n",
        "\\begin{align*}\n",
        "    \\textrm{Jacobi: } \\rho(D^{-1}(L+U)) &=17.16666\\\\\n",
        "    \\textrm{Gauss-Seidel: } \\rho((L+D)^{-1}U) &=5.733333\\\\\n",
        "\\end{align*}\n",
        "\n",
        "Para tener una convergencia en cada uno de los casos, es necesario que dichos radios espectrales sean $<1$. \n",
        "\n",
        "De modo que no se puede aplicar un método iterativo al sistema establecido."
      ],
      "metadata": {
        "id": "uAU9gFmNS_5u"
      }
    },
    {
      "cell_type": "markdown",
      "source": [],
      "metadata": {
        "id": "dHMTj39tS_-l"
      }
    },
    {
      "cell_type": "code",
      "source": [
        "# códigos pertinentes\n",
        "\n",
        "# Gauss - Jordan -----------------------------------------------------------------\n",
        "def min_api_not_zero(A,i,n): #A es matriz, i >=0\n",
        "  for p in range(i,n+1):\n",
        "    if (A[p,i] != 0):\n",
        "      return p\n",
        "  return -1 # significa que no hay un p que haga a_pi distinto de 0\n",
        "\n",
        "def gauss_jordan(a,n):  # a = matriz de n x n+1 correspondiente al sistema de ecuaciones a resolver\n",
        "  #if np.linalg.det(a) == 0:\n",
        "   # return\n",
        "\n",
        "  x = np.zeros(n) #respuesta que se regresará\n",
        "  for i in range(0,n):\n",
        "    p = min_api_not_zero(a,i,n) #p es el entero más pequeño tq i<=p<=n y A_pi != 0\n",
        "    \n",
        "    if p == -1:\n",
        "      print('no existe solución única')\n",
        "    \n",
        "    if p != i:  # intercambio de renglones\n",
        "      #d = np.copy(a[0])\n",
        "      d = [a[0,0],a[0,1],a[0,2],a[0,3],a[0,4],a[0,5]]\n",
        "      #d = a[0]\n",
        "      a[0] = a[1]  \n",
        "      a[1] = d  \n",
        "\n",
        "  for i in range(n):\n",
        "      for j in range(n):\n",
        "          if i != j:\n",
        "              if a[i,i] == 0:\n",
        "                print('No hay solución, a_',i,',',i,'=', a[i,i])\n",
        "                print('Se perturba el sistema asignando a[i,i] = 10^-1')\n",
        "                a[i,i] = 0.1 # ESTA ES LA MODIFICACIÓN PARA NO DIVIDIR ENTRE CERO\n",
        "                #return\n",
        "\n",
        "              m_ji = float(a[j,i])/float(a[i,i])\n",
        "\n",
        "              for k in range(n+1):\n",
        "                  a[j,k] = float(a[j,k]) - float(m_ji) * float(a[i,k])\n",
        "\n",
        "  for i in range(n):\n",
        "    x[i] = a[i,n]/a[i,i]\n",
        "    if a[i,i] != 0: a[i,i] = 1\n",
        "    #a[i,i] = 1\n",
        "    a[i,n] = x[i]\n",
        "\n",
        "  return x\n",
        "\n",
        "\n",
        "# Gauss- Seidel -------------------------------------------------------------------\n",
        "def gauss_Seidel(n, A, b, x0, tol, N ):\n",
        "  k = 1\n",
        "  x = np.zeros(n)\n",
        "  while k<=N:\n",
        "    for i in range(n):\n",
        "      AX = 0\n",
        "      AX0 = 0\n",
        "      for j in range(i):\n",
        "        AX = AX + A[i,j]*x[j]\n",
        "      for j in range(i+1,n):\n",
        "        AX0 = AX0 + A[i,j]*x0[j]\n",
        "\n",
        "      x[i] = (1/A[i,i]) *(-AX -AX0 + b[i])\n",
        "      \n",
        "      if norma_vect(x-x0) < tol:\n",
        "        print(k,'&' ,x[0],'&' ,x[1],'&' ,x[2], '\\\\\\\\')\n",
        "        print('Número de iteraciones hasta convergencia: ',k)\n",
        "        return x\n",
        "\n",
        "      print(k,'&' ,x[0],'&' ,x[1],'&' ,x[2], '\\\\\\\\')\n",
        "      k = k+1\n",
        "      x0 = np.array(x, copy = True)\n",
        "\n",
        "  return('falló en el max de iteraciones') \n",
        "\n",
        "# SOR --------------------------------------------------------------------------\n",
        "def SOR(n, A, b, x0 , omega, tol, N): # num de ecs, matriz del sist, vect sol, \n",
        "  k = 1                               # sol inicial, param relaj , tolerancia, # max its\n",
        "  x = np.zeros(n)\n",
        "\n",
        "  while k <= N :\n",
        "    for i in range(n):\n",
        "      AX = 0\n",
        "      AX0 = 0\n",
        "      for j in range(i):\n",
        "        AX = AX + A[i,j]*x[j]\n",
        "      for j in range(i+1,n):\n",
        "        AX0 = AX0 + A[i,j]*x0[j]\n",
        "\n",
        "      x[i] = (1-omega)*x0[i] + (1/A[i,i]) * omega*( - AX - AX0 + b[i])\n",
        "      \n",
        "      if norma_vect(x-x0) < tol:\n",
        "        print(k,'&' ,x[0],'&' ,x[1],'&' ,x[2], '\\\\\\\\')\n",
        "        print('Número de iteraciones hasta convergencia: ',k)\n",
        "        return x\n",
        "\n",
        "      print(k,'&' ,x[0],'&' ,x[1],'&' ,x[2], '\\\\\\\\')\n",
        "      k = k+1\n",
        "      x0 = np.array(x, copy = True)\n",
        "\n",
        "  return 'falló en el max de iteraciones' "
      ],
      "metadata": {
        "id": "ylCsRBWXIDtJ"
      },
      "execution_count": null,
      "outputs": []
    },
    {
      "cell_type": "code",
      "source": [
        "# implementación del problema\n",
        "# Para Gauss-Jordan\n",
        "n = 4\n",
        "A = np.array([[4.,4.,8.,4., 1.],\n",
        "               [4.,5.,3.,7., 2.],\n",
        "               [8.,3.,9.,9., 3.],\n",
        "               [4.,7.,9.,5., 4.]])\n",
        "print(A)\n",
        "\n",
        "# matriz asociada al sistema ; para el metodo iterativo\n",
        "B = np.matrix([[4,4,8,4],\n",
        "               [4,5,3,7],\n",
        "               [8,3,9,9],\n",
        "               [4,7,9,5]])\n",
        "\n",
        "x = gauss_jordan(A,n)\n",
        "print(x)"
      ],
      "metadata": {
        "colab": {
          "base_uri": "https://localhost:8080/"
        },
        "id": "cc_X-gs5TVru",
        "outputId": "9660748e-f465-428b-9fa0-d671c81c7253"
      },
      "execution_count": null,
      "outputs": [
        {
          "output_type": "stream",
          "name": "stdout",
          "text": [
            "[[4. 4. 8. 4. 1.]\n",
            " [4. 5. 3. 7. 2.]\n",
            " [8. 3. 9. 9. 3.]\n",
            " [4. 7. 9. 5. 4.]]\n",
            "No hay solución, a_ 3 , 3 = 0.0\n",
            "Se perturba el sistema asignando a[i,i] = 10^-1\n",
            "[-44.4375 -14.9375  14.8125  30.    ]\n"
          ]
        }
      ]
    },
    {
      "cell_type": "code",
      "source": [
        "B = np.matrix([[4,4,8,4],\n",
        "               [4,5,3,7],\n",
        "               [8,3,9,9],\n",
        "               [4,7,9,5]])\n",
        "print(B@x)\n",
        "\n",
        "print('Debería imprimir el vector respuesta b; no lo hace porque el sistema no tiene \\nsolución y modifiqué Gauss-Jordan para no dividir entre 0 sino entre 0.1')\n",
        "print('Se perturbará el sistema para obtener una solución cercana')"
      ],
      "metadata": {
        "colab": {
          "base_uri": "https://localhost:8080/"
        },
        "id": "7lwElewvTcO8",
        "outputId": "dc3c4bdb-e1c6-44f3-e033-1fc186df3e53"
      },
      "execution_count": null,
      "outputs": [
        {
          "output_type": "stream",
          "name": "stdout",
          "text": [
            "[[1. 2. 3. 1.]]\n",
            "Debería imprimir el vector respuesta b; no lo hace porque el sistema no tiene \n",
            "solución y modifiqué Gauss-Jordan para no dividir entre 0 sino entre 0.1\n",
            "Se perturbará el sistema para obtener una solución cercana\n"
          ]
        }
      ]
    },
    {
      "cell_type": "code",
      "source": [
        "# Para Gauss-Jordan\n",
        "n = 4\n",
        "A = np.array([[4.,4.,8.,4., 1.],\n",
        "               [4.,5.,3.,7., 2.],\n",
        "               [8.,3.,9.,9., 3.],\n",
        "               [4.,7.,9.,5.1, 4.]])\n",
        "print(A)\n",
        "\n",
        "# matriz asociada al sistema ; para el metodo iterativo\n",
        "B = np.matrix([[4,4,8,4],\n",
        "               [4,5,3,7],\n",
        "               [8,3,9,9],\n",
        "               [4,7,9,5.1]])\n",
        "\n",
        "x = gauss_jordan(A,n)\n",
        "\n",
        "print('solución:',x)\n",
        "print('Verificar b = ', B@x)\n",
        "\n",
        "\n",
        "B = np.matrix([[4,4,8,4],\n",
        "               [4,5,3,7],\n",
        "               [8,3,9,9],\n",
        "               [4,7,9,5]])\n",
        "\n",
        "print('¿Funciona con el sistema original?') # pero con el sistema inicial no jala)\n",
        "print('No,no funciona, porque b!=', B@x) # pero con el sistema inicial no jala)"
      ],
      "metadata": {
        "colab": {
          "base_uri": "https://localhost:8080/"
        },
        "id": "bapVw6DZTzUf",
        "outputId": "7e340357-bbae-47ce-eb9a-e78702ce6465"
      },
      "execution_count": null,
      "outputs": [
        {
          "output_type": "stream",
          "name": "stdout",
          "text": [
            "[[4.  4.  8.  4.  1. ]\n",
            " [4.  5.  3.  7.  2. ]\n",
            " [8.  3.  9.  9.  3. ]\n",
            " [4.  7.  9.  5.1 4. ]]\n",
            "solución: [-44.4375 -14.9375  14.8125  30.    ]\n",
            "Verificar b =  [[1. 2. 3. 4.]]\n",
            "¿Funciona con el sistema original?\n",
            "No,no funciona, porque b!= [[1. 2. 3. 1.]]\n"
          ]
        }
      ]
    },
    {
      "cell_type": "markdown",
      "source": [
        "Otros métodos: ¿Se puede usar Gauss-Seidel?\n",
        "\n",
        "\n",
        "Metodo iterativo (Gauss-seidel):\n",
        "\n",
        "La matriz no es diagonalmente dominante ni se puede modificar para que lo sea. El método no es convergente."
      ],
      "metadata": {
        "id": "gEd7o6mgUBSQ"
      }
    },
    {
      "cell_type": "code",
      "source": [
        "# fcn número de condición\n",
        "def diag(A):\n",
        "  n = len(A)\n",
        "  D = np.empty((n,n))\n",
        "  for i in range(n):\n",
        "    for j in range(n):\n",
        "      if i == j:\n",
        "        D[i,j] = A[i,j]\n",
        "      else:\n",
        "        D[i,j] = 0\n",
        "  return D\n",
        "\n",
        "def norma_mat(A):\n",
        "  a = np.zeros(len(A))\n",
        "  for i in range(len(A)):\n",
        "    for j in range(len(A)):\n",
        "      a[i] = a[i] + abs(A[i,j])\n",
        "  return max(a)\n",
        "\n",
        "def k(A):\n",
        "  return norma_mat(A)*norma_mat(np.linalg.inv(A))\n",
        "\n",
        "#\n",
        "\n",
        "# Otras funciones\n",
        "def lower(A):\n",
        "  n = len(A)\n",
        "  L = np.empty((n,n))\n",
        "  for i in range(n):\n",
        "    for j in range(n):\n",
        "      if i > j:\n",
        "        L[i,j] = A[i,j]\n",
        "      else:\n",
        "        L[i,j] = 0\n",
        "  return L\n",
        "\n",
        "def upper(A):\n",
        "  n = len(A)\n",
        "  U = np.empty((n,n))\n",
        "  for i in range(n):\n",
        "    for j in range(n):\n",
        "      if i < j:\n",
        "        U[i,j] = A[i,j]\n",
        "      else:\n",
        "        U[i,j] = 0\n",
        "  return U\n",
        "\n",
        "#\n",
        "\n",
        "n = 4\n",
        "A = np.matrix([[4.,4.,8.,4.],\n",
        "               [4.,5.,3.,7.],\n",
        "               [8.,3.,9.,9.],\n",
        "               [4.,7.,9.,5.]])\n",
        "\n",
        "print(A)\n",
        "print(k(A))\n",
        "print('El número de condición es ', 27603999.9409)\n",
        "\n",
        "b = np.array([1.,2.,3.,4.])\n",
        "x0 = np.array([0.,0.,0.])\n",
        "\n",
        "D = diag(A)\n",
        "D_inv = np.linalg.inv(D)\n",
        "L = lower(A)\n",
        "U = upper(A)"
      ],
      "metadata": {
        "colab": {
          "base_uri": "https://localhost:8080/"
        },
        "id": "LjV5cdKKUJF9",
        "outputId": "ee5b5f22-5d60-4e41-8d13-2c396a189e38"
      },
      "execution_count": null,
      "outputs": [
        {
          "output_type": "stream",
          "name": "stdout",
          "text": [
            "[[4. 4. 8. 4.]\n",
            " [4. 5. 3. 7.]\n",
            " [8. 3. 9. 9.]\n",
            " [4. 7. 9. 5.]]\n",
            "1.1427884054452634e+17\n",
            "El número de condición es  27603999.9409\n"
          ]
        }
      ]
    },
    {
      "cell_type": "markdown",
      "source": [
        "Se verifica que los métodos de Gauss-Seidel y Jacobi no convergen para esta matriz:"
      ],
      "metadata": {
        "id": "Xu0PdHy5UoGx"
      }
    },
    {
      "cell_type": "code",
      "source": [
        "LD_inv = np.matrix([[0.25, 0.,0.,0.],\n",
        "               [-0.2, 0.2,0.,0.],\n",
        "               [-7/45 , -1/15 , 0.,0. ],\n",
        "               [9/25, -4/25 , -1/5 , 1/5]])\n",
        "\n",
        "T_j = LD_inv*U\n",
        "rho_mat = max(abs(np.linalg.eig(T_j)[0])) #este es el radio espectral que debería ser menor a 1\n",
        "print('Gauss-Seidel no converge ya que 1 <',rho_mat)  \n",
        "\n",
        "#si quisiera utilizar Jacobi, tampoco sirve\n",
        "D_inv = np.linalg.inv(D)\n",
        "LU = L+U\n",
        "T_j = D_inv@LU\n",
        "print('Jacobi no converge ya que 1 <',max(abs(np.linalg.eig(T_j)[0]))) \n",
        "#este es el radio espectral que debería ser menor a 1"
      ],
      "metadata": {
        "colab": {
          "base_uri": "https://localhost:8080/"
        },
        "id": "kClbUhEpUu0w",
        "outputId": "f87e1495-45b8-49f4-9104-f1429b7298e1"
      },
      "execution_count": null,
      "outputs": [
        {
          "output_type": "stream",
          "name": "stdout",
          "text": [
            "Gauss-Seidel no converge ya que 1 < 2.2170148589745287\n",
            "Jacobi no converge ya que 1 < 3.177615663704768\n"
          ]
        }
      ]
    },
    {
      "cell_type": "markdown",
      "source": [
        "## Problema 2"
      ],
      "metadata": {
        "id": "d4gupzPtJ1h3"
      }
    },
    {
      "cell_type": "markdown",
      "source": [
        "2. Modifica el algoritmo de Gauss-Jacobi para resolver sistemas del estilo\n",
        "\\begin{align*}\n",
        "     (A|b) =  \\begin{pmatrix}\n",
        "         4 & -1 & 0 & 0 & \\cdots & 0 & 0 & 0 & -1 & | & 1\\\\\n",
        "         -1 & 4 & -1 & 0 & \\cdots & 0 & 0 & 0 & 0 & | &  1 \\\\\n",
        "         0 & -1 & 4 & -1  & \\cdots & 0 & 0 & 0 & 0 &| &  1 \\\\\n",
        "          \\vdots  &  \\vdots  &  \\vdots  &  \\vdots  &  \\ddots  &  \\vdots  &  \\vdots  &  \\vdots  &  \\vdots  & | &  \\vdots   \\\\\n",
        "         0 & 0 & 0 & 0 &  \\cdots  & -1 & 4 & -1 & 0 & | &  1  \\\\\n",
        "         0 & 0 & 0 & 0 &  \\cdots  & 0 & -1 & 4 & -1 & | & 1 \\\\\n",
        "         0 & 0 & 0 & 0 &  \\cdots  & 0 & 0 & -1 & 4  & | & 1 \\\\\n",
        "    \\end{pmatrix}\n",
        "\\end{align*}\n",
        "\n",
        "Tu programa sólo debe requerir la dimensión que en este caso será de $n=10$, la tolerancia de 0.00001 y el número de iteraciones nada más. \n"
      ],
      "metadata": {
        "id": "CjZzK1boIFwL"
      }
    },
    {
      "cell_type": "code",
      "source": [
        "def mat(n): #n = dimensión del sistema\n",
        "  A = np.zeros((n, n+1))\n",
        "  for i in range(0,n):\n",
        "    A[i][n] = 1 # vector solución\n",
        "    A[i][i] = 4 # diagonal\n",
        "\n",
        "    if i > 0: # diagonales secundarias\n",
        "      A[i-1][i] = -1\n",
        "      A[i][i-1] = -1\n",
        "\n",
        "  A[0][n-1] = -1\n",
        "  A[n-1][0] = -1\n",
        "  return A"
      ],
      "metadata": {
        "id": "zFb_ogmhWS4T"
      },
      "execution_count": null,
      "outputs": []
    },
    {
      "cell_type": "code",
      "source": [
        "# modificación a Gauss-Jacobi\n",
        "\n",
        "def GJacobi_2(n , tol , N): # dim de la matriz, tolerancia , num máx de its\n",
        "  A = mat(n) # crea el sistema de tamaño n\n",
        "  # método Jacobi :\n",
        "  k = 1\n",
        "  x = np.zeros(n) ; b = np.zeros(n) # incógnita / solución del sist\n",
        "  c = np.zeros(n) ; d = np.ones(n)\n",
        "  while k <= N:\n",
        "    print(k, x)\n",
        "    b = x.copy()\n",
        "    c = x.copy()\n",
        "    for i in range(n):\n",
        "      suma = 0\n",
        "      for j in range(n):\n",
        "        if j != i:\n",
        "          suma = suma + A[j,i]*b[j]\n",
        "      x[i] = (-suma + A[i,n])/(A[i,i])\n",
        "      \n",
        "      d[i] = x[i] - c[i]\n",
        "    #print(np.linalg.norm(d, np.inf) )# / np.linalg.norm(x-n , np.inf))\n",
        "    if np.linalg.norm(d , np.inf) / np.linalg.norm(x , np.inf) < tol: #condición de paro\n",
        "      print('Tolerancia alcanzada en ',k,' iteraciones')\n",
        "      print('Solución',x)\n",
        "      return x\n",
        "\n",
        "    k = k+1\n",
        "\n",
        "  print('Tolerancia no alcanzada en el máximo de iteraciones')\n",
        "  return "
      ],
      "metadata": {
        "id": "pJn1KHVHXBCL"
      },
      "execution_count": null,
      "outputs": []
    },
    {
      "cell_type": "code",
      "source": [
        "print('iteración, | Sol aprox')\n",
        "s = GJacobi_2(10,10**-3,20)"
      ],
      "metadata": {
        "colab": {
          "base_uri": "https://localhost:8080/"
        },
        "id": "SorsZYNSc3K9",
        "outputId": "6fa1374e-d87e-43cf-9095-a7a28985ea92"
      },
      "execution_count": null,
      "outputs": [
        {
          "output_type": "stream",
          "name": "stdout",
          "text": [
            "iteración, | Sol aprox\n",
            "1 [0. 0. 0. 0. 0. 0. 0. 0. 0. 0.]\n",
            "2 [0.25 0.25 0.25 0.25 0.25 0.25 0.25 0.25 0.25 0.25]\n",
            "3 [0.375 0.375 0.375 0.375 0.375 0.375 0.375 0.375 0.375 0.375]\n",
            "4 [0.4375 0.4375 0.4375 0.4375 0.4375 0.4375 0.4375 0.4375 0.4375 0.4375]\n",
            "5 [0.46875 0.46875 0.46875 0.46875 0.46875 0.46875 0.46875 0.46875 0.46875\n",
            " 0.46875]\n",
            "6 [0.484375 0.484375 0.484375 0.484375 0.484375 0.484375 0.484375 0.484375\n",
            " 0.484375 0.484375]\n",
            "7 [0.4921875 0.4921875 0.4921875 0.4921875 0.4921875 0.4921875 0.4921875\n",
            " 0.4921875 0.4921875 0.4921875]\n",
            "8 [0.49609375 0.49609375 0.49609375 0.49609375 0.49609375 0.49609375\n",
            " 0.49609375 0.49609375 0.49609375 0.49609375]\n",
            "9 [0.49804688 0.49804688 0.49804688 0.49804688 0.49804688 0.49804688\n",
            " 0.49804688 0.49804688 0.49804688 0.49804688]\n",
            "10 [0.49902344 0.49902344 0.49902344 0.49902344 0.49902344 0.49902344\n",
            " 0.49902344 0.49902344 0.49902344 0.49902344]\n",
            "Tolerancia alcanzada en  10  iteraciones\n",
            "Solución [0.49951172 0.49951172 0.49951172 0.49951172 0.49951172 0.49951172\n",
            " 0.49951172 0.49951172 0.49951172 0.49951172]\n"
          ]
        }
      ]
    },
    {
      "cell_type": "code",
      "source": [
        "print('La solución aproximada es ', s)"
      ],
      "metadata": {
        "colab": {
          "base_uri": "https://localhost:8080/"
        },
        "id": "eqFWWHAwgLIz",
        "outputId": "161d1f73-737b-4b92-ea1d-2f3197e8d192"
      },
      "execution_count": null,
      "outputs": [
        {
          "output_type": "stream",
          "name": "stdout",
          "text": [
            "La solución aproximada es  [0.49951172 0.49951172 0.49951172 0.49951172 0.49951172 0.49951172\n",
            " 0.49951172 0.49951172 0.49951172 0.49951172]\n"
          ]
        }
      ]
    },
    {
      "cell_type": "code",
      "source": [
        "B = np.array([[ 4., -1.,  0.,  0.,  0.,  0.,  0.,  0.,  0., -1.],\n",
        "       [-1.,  4., -1.,  0.,  0.,  0.,  0.,  0.,  0.,  0.],\n",
        "       [ 0., -1.,  4., -1.,  0.,  0.,  0.,  0.,  0.,  0.],\n",
        "       [ 0.,  0., -1.,  4., -1.,  0.,  0.,  0.,  0.,  0.],\n",
        "       [ 0.,  0.,  0., -1.,  4., -1.,  0.,  0.,  0.,  0.],\n",
        "       [ 0.,  0.,  0.,  0., -1.,  4., -1.,  0.,  0.,  0.],\n",
        "       [ 0.,  0.,  0.,  0.,  0., -1.,  4., -1.,  0.,  0.],\n",
        "       [ 0.,  0.,  0.,  0.,  0.,  0., -1.,  4., -1.,  0.],\n",
        "       [ 0.,  0.,  0.,  0.,  0.,  0.,  0., -1.,  4., -1.],\n",
        "       [-1.,  0.,  0.,  0.,  0.,  0.,  0.,  0., -1.,  4.]])\n",
        "\n",
        "print('Se verifica que la solución se acerca al vector unitario de dimensión 10:')\n",
        "print(B@s)"
      ],
      "metadata": {
        "colab": {
          "base_uri": "https://localhost:8080/"
        },
        "id": "PezdvY0bgTxl",
        "outputId": "1a8ba7e2-cad3-4f7a-ec6b-57eeed0b093c"
      },
      "execution_count": null,
      "outputs": [
        {
          "output_type": "stream",
          "name": "stdout",
          "text": [
            "Se verifica que la solución se acerca al vector unitario de dimensión 10:\n",
            "[0.99902344 0.99902344 0.99902344 0.99902344 0.99902344 0.99902344\n",
            " 0.99902344 0.99902344 0.99902344 0.99902344]\n"
          ]
        }
      ]
    },
    {
      "cell_type": "markdown",
      "source": [
        "## Problema 3"
      ],
      "metadata": {
        "id": "3T4pTY7xJ36Z"
      }
    },
    {
      "cell_type": "markdown",
      "source": [
        "3. Establece un sistema de ecuaciones para determinar la parábola $y=a+bx+cx^2$ tal que pasa por los puntos $(1,4),(2,8)$ y $(3,4)$. Aproxima la solución mediante los métodos\n",
        "tanto directos como iterativos que tengas en tu librería y comenta tus resultados. Estudia el\n",
        "número de condición de la matriz de coeficientes asociada.\n",
        "condición del mismo. Comenta tus resultados."
      ],
      "metadata": {
        "id": "9RJGUWSSJhcb"
      }
    },
    {
      "cell_type": "markdown",
      "source": [
        "Sustituyendo, se busca resolver el siguiente sistema:\n",
        "\n",
        "\\begin{align*}\n",
        "  a + b + c &= 4\\\\\n",
        "  a + 2b + 4c &= 8\\\\\n",
        "  a + 3b + 9c &= 4\n",
        "\\end{align*}"
      ],
      "metadata": {
        "id": "zNB8AXj_hWkx"
      }
    },
    {
      "cell_type": "code",
      "source": [
        "#matriz del sistema\n",
        "A = np.array([[1,1,1],\n",
        "              [1,2,4],\n",
        "              [1,3,9]])\n",
        "b = np.array([[4],\n",
        "              [8],\n",
        "              [4]])\n",
        "\n",
        "# condicionamiento de la matriz:\n",
        "print('Determinante:',np.linalg.det(A), 'Dado que no es 0, podemos calcular su matriz inversa')\n",
        "print('Número de condición:',np.linalg.cond(A , np.inf))"
      ],
      "metadata": {
        "id": "WaFYUwdbJkny",
        "colab": {
          "base_uri": "https://localhost:8080/"
        },
        "outputId": "05472228-2574-4c03-c62c-a01bba61e325"
      },
      "execution_count": null,
      "outputs": [
        {
          "output_type": "stream",
          "name": "stdout",
          "text": [
            "Determinante: 2.0 Dado que no es 0, podemos calcular su matriz inversa\n",
            "Número de condición: 104.0\n"
          ]
        }
      ]
    },
    {
      "cell_type": "code",
      "source": [
        "def min_api_not_zero(A,i,n): #A es matriz, i >=0\n",
        "  for p in range(i,n+1):\n",
        "    if (A[p,i] != 0):\n",
        "      return p\n",
        "  return -1 # significa que no hay un p que haga a_pi distinto de 0\n",
        "\n",
        "def gauss_jordan(a,n):  # a = matriz de n x n+1 correspondiente al sistema de ecuaciones a resolver\n",
        "  #if np.linalg.det(a) == 0:\n",
        "   # return\n",
        "\n",
        "  x = np.zeros(n) #respuesta que se regresará\n",
        "  for i in range(0,n):\n",
        "    p = min_api_not_zero(a,i,n) #p es el entero más pequeño tq i<=p<=n y A_pi != 0\n",
        "    \n",
        "    if p == -1:\n",
        "      print('no existe solución única')\n",
        "    \n",
        "    if p != i:  # intercambio de renglones\n",
        "      #d = np.copy(a[0])\n",
        "      d = [a[0,0],a[0,1],a[0,2],a[0,3],a[0,4],a[0,5]]\n",
        "      #d = a[0]\n",
        "      a[0] = a[1]  \n",
        "      a[1] = d  \n",
        "\n",
        "  for i in range(n):\n",
        "      for j in range(n):\n",
        "          if i != j:\n",
        "              if a[i,i] == 0:\n",
        "                print('No hay solución, a_',i,',',i,'=', a[i,i])\n",
        "                print('Se perturba el sistema asignando a[i,i] = 10^-1')\n",
        "                a[i,i] = 0.1 # ESTA ES LA MODIFICACIÓN PARA NO DIVIDIR ENTRE CERO\n",
        "                #return\n",
        "\n",
        "              m_ji = float(a[j,i])/float(a[i,i])\n",
        "\n",
        "              for k in range(n+1):\n",
        "                  a[j,k] = float(a[j,k]) - float(m_ji) * float(a[i,k])\n",
        "\n",
        "  for i in range(n):\n",
        "    x[i] = a[i,n]/a[i,i]\n",
        "    if a[i,i] != 0: a[i,i] = 1\n",
        "    #a[i,i] = 1\n",
        "    a[i,n] = x[i]\n",
        "\n",
        "  return x\n",
        "\n",
        "def inversaGJ(A): #\n",
        "  n = len(A) ; v = np.zeros((n,1)) ; a = {} ; x = {} ; inv = np.empty((n,n))\n",
        "  for i in range(n+1):\n",
        "    a[i] = np.copy(A)\n",
        "\n",
        "  for i in range(n):\n",
        "    v[i] = 1\n",
        "    m = np.concatenate((a[i], v), axis=1)\n",
        "    x[i] = gauss_jordan(m,n) \n",
        "    v = np.zeros((n,1))\n",
        "  \n",
        "  for (i,j) in range(n,n):\n",
        "      inv[i,j] = x[i][j]\n",
        "  \n",
        "  return inv"
      ],
      "metadata": {
        "id": "znKZFHenigOO"
      },
      "execution_count": null,
      "outputs": []
    },
    {
      "cell_type": "code",
      "source": [
        "A_inv = inversaGJ(A)"
      ],
      "metadata": {
        "id": "V43n29tLjKly"
      },
      "execution_count": null,
      "outputs": []
    },
    {
      "cell_type": "code",
      "source": [
        "print('Inversa:\\n',A_inv)\n",
        "print('Num de condición de la inversa',np.linalg.cond(A_inv , np.inf))\n",
        "print('Num de condición de la original',np.linalg.cond(A , np.inf))\n",
        "print('El número de condición de la inversa es menor que el de la original;')\n",
        "print('Se tiene entonces que el sistema está mal condicionado: pues el número de condición no es tan grande y su determinante es pequeño')\n",
        "print('Verificación número de condición', np.linalg.norm(A , np.inf) * np.linalg.norm(A_inv , np.inf))"
      ],
      "metadata": {
        "colab": {
          "base_uri": "https://localhost:8080/"
        },
        "id": "zBuJXLPcjTVB",
        "outputId": "c89a5eb2-97b2-49a2-88f8-c855e9f68e42"
      },
      "execution_count": null,
      "outputs": [
        {
          "output_type": "stream",
          "name": "stdout",
          "text": [
            "Inversa:\n",
            " [[ 3.  -3.   1. ]\n",
            " [-2.5  4.  -1.5]\n",
            " [ 0.5 -1.   0.5]]\n",
            "Num de condición de la inversa 104.0\n",
            "Num de condición de la original 6.300000000000001\n",
            "El número de condición de la inversa es menor que el de la original;\n",
            "Se tiene entonces que el sistema está mal condicionado: pues el número de condición no es tan grande y su determinante es pequeño\n",
            "Verificación número de condición 72.0\n"
          ]
        }
      ]
    },
    {
      "cell_type": "code",
      "source": [
        "print('Podemos entonces utilizar uno de los métodos más \\'simples\\' el método de Gauss-Jordan')\n",
        "\n",
        "a = np.array([[1,1,1,4],\n",
        "              [1,2,4,8],\n",
        "              [1,3,9,4]])\n",
        "s = gauss_jordan(a,3)\n",
        "print('Solución', s)"
      ],
      "metadata": {
        "colab": {
          "base_uri": "https://localhost:8080/"
        },
        "id": "7wphs2nwmM7M",
        "outputId": "0cff4553-6f92-47f6-d3fa-ac100cdba211"
      },
      "execution_count": null,
      "outputs": [
        {
          "output_type": "stream",
          "name": "stdout",
          "text": [
            "Podemos entonces utilizar uno de los métodos más 'simples' el método de Gauss-Jordan\n",
            "Solución [-8. 16. -4.]\n"
          ]
        }
      ]
    },
    {
      "cell_type": "code",
      "source": [
        "print('Verifica solución')\n",
        "print(A@s)"
      ],
      "metadata": {
        "colab": {
          "base_uri": "https://localhost:8080/"
        },
        "id": "e6YvWdZImuDv",
        "outputId": "df5f7e17-ffe2-4bb9-c798-27d955854b5d"
      },
      "execution_count": null,
      "outputs": [
        {
          "output_type": "stream",
          "name": "stdout",
          "text": [
            "Verifica solución\n",
            "[4. 8. 4.]\n"
          ]
        }
      ]
    },
    {
      "cell_type": "code",
      "source": [
        "# si quisiéramos utilizar los métodos de Gauss seidel o Jacobi, debemos verificar que dichos métodos converjan converjan\n",
        "L = lower(A)\n",
        "D = diag(A)\n",
        "U = upper(A)\n",
        "\n",
        "print('Radio espectral:',max(np.linalg.eigvals(np.dot(np.linalg.inv(D) , L+U))))\n",
        "print('Dado que el radio espectral es mayor que 1, \\nlos métodos de Gauss seidel o Jacobi no convergen ')"
      ],
      "metadata": {
        "colab": {
          "base_uri": "https://localhost:8080/"
        },
        "id": "qc1tSWFgn0y5",
        "outputId": "5ff27f46-355d-4d78-c314-c7d0f148aa01"
      },
      "execution_count": null,
      "outputs": [
        {
          "output_type": "stream",
          "name": "stdout",
          "text": [
            "Radio espectral: 1.2595730873836668\n",
            "Dado que el radio espectral es mayor que 1, \n",
            "los métodos de Gauss seidel o Jacobi no convergen \n"
          ]
        }
      ]
    },
    {
      "cell_type": "markdown",
      "source": [
        "## Problema 4"
      ],
      "metadata": {
        "id": "LYcJKaneJ5n0"
      }
    },
    {
      "cell_type": "markdown",
      "source": [
        "4. Considere el siguiente sistema\n",
        "\\begin{align*}\n",
        "    \\begin{bmatrix}\n",
        "        2 & -1 & 4 \\\\\n",
        "        1 & 3 & -1 \\\\\n",
        "        -5 & 1 & -3 \n",
        "    \\end{bmatrix} X = \\begin{bmatrix}\n",
        "        7\\\\\n",
        "        -3\\\\\n",
        "        -9\n",
        "    \\end{bmatrix}\n",
        "\\end{align*}\n",
        "\n",
        "Suponga que se te pide usar algún método iterativo, ¿cuál\n",
        "usarías y por qué? También resuelve el sistema mediante el cálculo de $A^{-1}$. Estudia el número de condición de la\n",
        "matriz de coeficientes asociada, y justifica si es un problema bien condicionado, luego\n",
        "propón una técnica de reescalado al sistema y calcula el número de condición del mismo.\n",
        "Comenta tus resultados."
      ],
      "metadata": {
        "id": "K4FmLoOmJk2c"
      }
    },
    {
      "cell_type": "markdown",
      "source": [],
      "metadata": {
        "id": "qIoSKf7spYJD"
      }
    },
    {
      "cell_type": "code",
      "source": [
        "A=np.array([[2,-1,4],\n",
        "            [1,3,-1],\n",
        "            [-5,1,-3]])\n",
        "\n",
        "b=np.array([[7],\n",
        "            [-3],\n",
        "            [-9]])\n",
        "\n",
        "print('Determinante de la matriz asociada:',np.linalg.det(A))\n",
        "print('Número de condición de la matriz asociada:',np.linalg.cond(A))\n",
        "print('El sistema no está mal condicionado pues el determinante no es pequeño y el número de condición sí.')"
      ],
      "metadata": {
        "id": "Sm34881pJnG3",
        "colab": {
          "base_uri": "https://localhost:8080/"
        },
        "outputId": "e404958c-cc2d-4b4a-f49b-ebae38589a83"
      },
      "execution_count": null,
      "outputs": [
        {
          "output_type": "stream",
          "name": "stdout",
          "text": [
            "Determinante de la matriz asociada: 40.0\n",
            "Número de condición de la matriz asociada: 4.552796740830385\n",
            "El sistema no está mal condicionado pues el determinante no es pequeño y el número de condición sí.\n"
          ]
        }
      ]
    },
    {
      "cell_type": "code",
      "source": [
        "L = lower(A)\n",
        "D = diag(A)\n",
        "U = upper(A)\n",
        "\n",
        "Tg = np.dot(np.linalg.inv(D-L) , U)\n",
        "Tj = np.dot(np.linalg.inv(D) , L+U)\n",
        "\n",
        "print('Radio espectral:',max(np.linalg.eigvals(Tj)))\n",
        "print('El radio espectral de Tj es mayor que 1; no podemos utilizar Jacobi')\n",
        "print('Radio espectral:',max(np.linalg.eigvals(Tg)))\n",
        "print('El radio espectral de Tg es mayor que 1; no podemos utilizar Jacobi')\n",
        "print('Entonces tamñpoco se puede utilizar SOR')"
      ],
      "metadata": {
        "colab": {
          "base_uri": "https://localhost:8080/"
        },
        "id": "nTNTnirGp3lM",
        "outputId": "ff7ab91d-ca86-400f-92f8-7a1ff59f0102"
      },
      "execution_count": null,
      "outputs": [
        {
          "output_type": "stream",
          "name": "stdout",
          "text": [
            "Radio espectral: 1.8188792201790482\n",
            "El radio espectral de Tj es mayor que 1; no podemos utilizar Jacobi\n",
            "Radio espectral: 3.143909800865428\n",
            "El radio espectral de Tg es mayor que 1; no podemos utilizar Jacobi\n"
          ]
        }
      ]
    },
    {
      "cell_type": "code",
      "source": [
        "print('Pero sí podemos utilizar Gauss-Jordan')\n",
        "a = np.array([[2,-1,4,7],\n",
        "            [1,3,-1,-3],\n",
        "            [-5,1,-3,-9]])\n",
        "\n",
        "s = gauss_jordan(a,3)"
      ],
      "metadata": {
        "id": "oVj8vjAZq0fs"
      },
      "execution_count": null,
      "outputs": []
    },
    {
      "cell_type": "code",
      "source": [
        "print('Verificar solución')\n",
        "print( A @ s) "
      ],
      "metadata": {
        "colab": {
          "base_uri": "https://localhost:8080/"
        },
        "id": "cc3upSa7q-J_",
        "outputId": "4f7819f8-4075-4f23-c12e-88528fda18ec"
      },
      "execution_count": null,
      "outputs": [
        {
          "output_type": "stream",
          "name": "stdout",
          "text": [
            "Verificar solución\n",
            "[ 7. -3. -9.]\n"
          ]
        }
      ]
    },
    {
      "cell_type": "markdown",
      "source": [
        "## Problema 5"
      ],
      "metadata": {
        "id": "kN81C2A0J7bH"
      }
    },
    {
      "cell_type": "markdown",
      "source": [
        "5. Considera el sistema\n",
        "\\begin{align*}\n",
        "    2x_1 + 3x_2 + x_3 = -1; \\hspace{0.5cm}\n",
        "    3x_1 + 2x_2 +2x_3 = 1; \\hspace{0.5cm}\n",
        "    x_1 + 2x_2 + 2x_3 = 6.\n",
        "\\end{align*}\n",
        "\n",
        "Aplica el método de Gauss-Seidel con aproximación inicial $(0,0,0)$ y muestra que este\n",
        "diverge, ¿puedes comentar por qué sucede esto? Estudia el número de condición de la\n",
        "matriz de coeficientes asociada, y justifica si es un problema bien condicionado. ¿Qué\n",
        "sucede si resuelves mediante el cálculo de $A^{-1}$? Comenta tus resultados."
      ],
      "metadata": {
        "id": "3Ne-xMgxJnMz"
      }
    },
    {
      "cell_type": "markdown",
      "source": [
        "Veamos que el método diverge"
      ],
      "metadata": {
        "id": "oxKx0x_trlcU"
      }
    },
    {
      "cell_type": "code",
      "source": [
        "A = np.array([[2.,3., 1.], #mat del sistema\n",
        "    [3.,2.,2.],\n",
        "    [ 1.,2.,2.],\n",
        "]) \n",
        "# vector sol\n",
        "b = np.array([-1.,1.,6.]) \n",
        "\n",
        "x0 = np.array([0.,0.,0.])\n",
        "\n",
        "def norma_vect(v):\n",
        "  u = np.zeros(len(v))\n",
        "  for i in range(0,len(v)):\n",
        "    u[i] = abs(v[i])\n",
        "  return max(u) \n",
        "gauss_Seidel(3,A,b,x0,10**-2,100)"
      ],
      "metadata": {
        "id": "Nl75-H7xJp09",
        "colab": {
          "base_uri": "https://localhost:8080/",
          "height": 1806
        },
        "outputId": "0ea39d63-054e-441b-d27d-10a3e1bd7507"
      },
      "execution_count": null,
      "outputs": [
        {
          "output_type": "stream",
          "name": "stdout",
          "text": [
            "1 & -0.5 & 0.0 & 0.0 \\\\\n",
            "2 & -0.5 & 1.25 & 0.0 \\\\\n",
            "3 & -0.5 & 1.25 & 2.0 \\\\\n",
            "4 & -3.375 & 1.25 & 2.0 \\\\\n",
            "5 & -3.375 & 3.5625 & 2.0 \\\\\n",
            "6 & -3.375 & 3.5625 & 1.125 \\\\\n",
            "7 & -6.40625 & 3.5625 & 1.125 \\\\\n",
            "8 & -6.40625 & 8.984375 & 1.125 \\\\\n",
            "9 & -6.40625 & 8.984375 & -2.78125 \\\\\n",
            "10 & -12.5859375 & 8.984375 & -2.78125 \\\\\n",
            "11 & -12.5859375 & 22.16015625 & -2.78125 \\\\\n",
            "12 & -12.5859375 & 22.16015625 & -12.8671875 \\\\\n",
            "13 & -27.306640625 & 22.16015625 & -12.8671875 \\\\\n",
            "14 & -27.306640625 & 54.3271484375 & -12.8671875 \\\\\n",
            "15 & -27.306640625 & 54.3271484375 & -37.673828125 \\\\\n",
            "16 & -63.15380859375 & 54.3271484375 & -37.673828125 \\\\\n",
            "17 & -63.15380859375 & 132.904541015625 & -37.673828125 \\\\\n",
            "18 & -63.15380859375 & 132.904541015625 & -98.32763671875 \\\\\n",
            "19 & -150.6929931640625 & 132.904541015625 & -98.32763671875 \\\\\n",
            "20 & -150.6929931640625 & 324.86712646484375 & -98.32763671875 \\\\\n",
            "21 & -150.6929931640625 & 324.86712646484375 & -246.5206298828125 \\\\\n",
            "22 & -364.5403747558594 & 324.86712646484375 & -246.5206298828125 \\\\\n",
            "23 & -364.5403747558594 & 793.8311920166016 & -246.5206298828125 \\\\\n",
            "24 & -364.5403747558594 & 793.8311920166016 & -608.5610046386719 \\\\\n",
            "25 & -886.9662857055664 & 793.8311920166016 & -608.5610046386719 \\\\\n",
            "26 & -886.9662857055664 & 1939.5104331970215 & -608.5610046386719 \\\\\n",
            "27 & -886.9662857055664 & 1939.5104331970215 & -1493.0272903442383 \\\\\n",
            "28 & -2163.252004623413 & 1939.5104331970215 & -1493.0272903442383 \\\\\n",
            "29 & -2163.252004623413 & 4738.405297279358 & -1493.0272903442383 \\\\\n",
            "30 & -2163.252004623413 & 4738.405297279358 & -3653.7792949676514 \\\\\n",
            "31 & -5281.218298435211 & 4738.405297279358 & -3653.7792949676514 \\\\\n",
            "32 & -5281.218298435211 & 11576.106742620468 & -3653.7792949676514 \\\\\n",
            "33 & -5281.218298435211 & 11576.106742620468 & -8932.497593402863 \\\\\n",
            "34 & -12898.411317229271 & 11576.106742620468 & -8932.497593402863 \\\\\n",
            "35 & -12898.411317229271 & 28280.61456924677 & -8932.497593402863 \\\\\n",
            "36 & -12898.411317229271 & 28280.61456924677 & -21828.408910632133 \\\\\n",
            "37 & -31507.217398554087 & 28280.61456924677 & -21828.408910632133 \\\\\n",
            "38 & -31507.217398554087 & 69089.73500846326 & -21828.408910632133 \\\\\n",
            "39 & -31507.217398554087 & 69089.73500846326 & -53333.12630918622 \\\\\n",
            "40 & -76968.53935810179 & 69089.73500846326 & -53333.12630918622 \\\\\n",
            "41 & -76968.53935810179 & 168786.4353463389 & -53333.12630918622 \\\\\n",
            "42 & -76968.53935810179 & 168786.4353463389 & -130299.165667288 \\\\\n",
            "43 & -188030.57018586434 & 168786.4353463389 & -130299.165667288 \\\\\n",
            "44 & -188030.57018586434 & 412345.5209460845 & -130299.165667288 \\\\\n",
            "45 & -188030.57018586434 & 412345.5209460845 & -318327.23585315235 \\\\\n",
            "46 & -459355.1634925506 & 412345.5209460845 & -318327.23585315235 \\\\\n",
            "47 & -459355.1634925506 & 1007360.4810919783 & -318327.23585315235 \\\\\n",
            "48 & -459355.1634925506 & 1007360.4810919783 & -777679.899345703 \\\\\n",
            "49 & -1122201.271965116 & 1007360.4810919783 & -777679.899345703 \\\\\n",
            "50 & -1122201.271965116 & 2460982.307293377 & -777679.899345703 \\\\\n",
            "51 & -1122201.271965116 & 2460982.307293377 & -1899878.6713108188 \\\\\n",
            "52 & -2741534.625284656 & 2460982.307293377 & -1899878.6713108188 \\\\\n",
            "53 & -2741534.625284656 & 6012181.109237803 & -1899878.6713108188 \\\\\n",
            "54 & -2741534.625284656 & 6012181.109237803 & -4641410.796595475 \\\\\n",
            "55 & -6697566.765558966 & 6012181.109237803 & -4641410.796595475 \\\\\n",
            "56 & -6697566.765558966 & 14687761.444933925 & -4641410.796595475 \\\\\n",
            "57 & -6697566.765558966 & 14687761.444933925 & -11338975.062154442 \\\\\n",
            "58 & -16362155.136323668 & 14687761.444933925 & -11338975.062154442 \\\\\n",
            "59 & -16362155.136323668 & 35882208.26663995 & -11338975.062154442 \\\\\n",
            "60 & -16362155.136323668 & 35882208.26663995 & -27701127.698478114 \\\\\n",
            "61 & -39972749.05072086 & 35882208.26663995 & -27701127.698478114 \\\\\n",
            "62 & -39972749.05072086 & 87660251.77455941 & -27701127.698478114 \\\\\n",
            "63 & -39972749.05072086 & 87660251.77455941 & -67673874.24919897 \\\\\n",
            "64 & -97653441.03723963 & 87660251.77455941 & -67673874.24919897 \\\\\n",
            "65 & -97653441.03723963 & 214154036.30505842 & -67673874.24919897 \\\\\n",
            "66 & -97653441.03723963 & 214154036.30505842 & -165327312.7864386 \\\\\n",
            "67 & -238567398.5643683 & 214154036.30505842 & -165327312.7864386 \\\\\n",
            "68 & -238567398.5643683 & 523178411.1329911 & -165327312.7864386 \\\\\n",
            "69 & -238567398.5643683 & 523178411.1329911 & -403894708.85080695 \\\\\n",
            "70 & -582820262.7740831 & 523178411.1329911 & -403894708.85080695 \\\\\n",
            "71 & -582820262.7740831 & 1278125103.5119317 & -403894708.85080695 \\\\\n",
            "72 & -582820262.7740831 & 1278125103.5119317 & -986714969.1248901 \\\\\n",
            "73 & -1423830171.2054524 & 1278125103.5119317 & -986714969.1248901 \\\\\n",
            "74 & -1423830171.2054524 & 3122460226.4330688 & -986714969.1248901 \\\\\n",
            "75 & -1423830171.2054524 & 3122460226.4330688 & -2410545137.8303423 \\\\\n",
            "76 & -3478417771.2344317 & 3122460226.4330688 & -2410545137.8303423 \\\\\n",
            "77 & -3478417771.2344317 & 7628171795.18199 & -2410545137.8303423 \\\\\n",
            "78 & -3478417771.2344317 & 7628171795.18199 & -5888962906.564774 \\\\\n",
            "79 & -8497776239.990597 & 7628171795.18199 & -5888962906.564774 \\\\\n",
            "80 & -8497776239.990597 & 18635627267.050667 & -5888962906.564774 \\\\\n",
            "81 & -8497776239.990597 & 18635627267.050667 & -14386739144.055368 \\\\\n",
            "82 & -20760071329.048317 & 18635627267.050667 & -14386739144.055368 \\\\\n",
            "83 & -20760071329.048317 & 45526846138.127846 & -14386739144.055368 \\\\\n",
            "84 & -20760071329.048317 & 45526846138.127846 & -35146810470.60368 \\\\\n",
            "85 & -50716863972.38993 & 45526846138.127846 & -35146810470.60368 \\\\\n",
            "86 & -50716863972.38993 & 111222106429.68858 & -35146810470.60368 \\\\\n",
            "87 & -50716863972.38993 & 111222106429.68858 & -85863674440.49362 \\\\\n",
            "88 & -123901322424.78606 & 111222106429.68858 & -85863674440.49362 \\\\\n",
            "89 & -123901322424.78606 & 271715658078.1727 & -85863674440.49362 \\\\\n",
            "90 & -123901322424.78606 & 271715658078.1727 & -209764996862.77966 \\\\\n",
            "91 & -302690988686.3692 & 271715658078.1727 & -209764996862.77966 \\\\\n",
            "92 & -302690988686.3692 & 663801479892.8335 & -209764996862.77966 \\\\\n",
            "93 & -302690988686.3692 & 663801479892.8335 & -512455985546.6489 \\\\\n",
            "94 & -739474227066.4258 & 663801479892.8335 & -512455985546.6489 \\\\\n",
            "95 & -739474227066.4258 & 1621667326146.7876 & -512455985546.6489 \\\\\n",
            "96 & -739474227066.4258 & 1621667326146.7876 & -1251930212610.5747 \\\\\n",
            "97 & -1806535882915.3943 & 1621667326146.7876 & -1251930212610.5747 \\\\\n",
            "98 & -1806535882915.3943 & 3961734036984.166 & -1251930212610.5747 \\\\\n",
            "99 & -1806535882915.3943 & 3961734036984.166 & -3058466095523.4688 \\\\\n",
            "100 & -4413368007715.015 & 3961734036984.166 & -3058466095523.4688 \\\\\n",
            "101 & -4413368007715.015 & 9678518107096.49 & -3058466095523.4688 \\\\\n",
            "102 & -4413368007715.015 & 9678518107096.49 & -7471834103235.982 \\\\\n"
          ]
        },
        {
          "output_type": "execute_result",
          "data": {
            "application/vnd.google.colaboratory.intrinsic+json": {
              "type": "string"
            },
            "text/plain": [
              "'falló en el max de iteraciones'"
            ]
          },
          "metadata": {},
          "execution_count": 70
        }
      ]
    },
    {
      "cell_type": "markdown",
      "source": [
        "La diferencia entre iteraciones es cada vez mayor\n",
        "\n",
        "¿Por qué diverge?"
      ],
      "metadata": {
        "id": "Ga1x0-SesKcf"
      }
    },
    {
      "cell_type": "code",
      "source": [
        "L = lower(A)\n",
        "D = diag(A)\n",
        "U = upper(A)\n",
        "\n",
        "Tg = np.dot(np.linalg.inv(D-L) , U)\n",
        "Tj = np.dot(np.linalg.inv(D) , L+U)\n",
        "\n",
        "print('Radio espectral:',max(np.linalg.eigvals(Tj)))\n",
        "print('El radio espectral de Tj es mayor que 1; no podemos utilizar Jacobi')\n",
        "print('Se vio un teorema en clase el cual establece que el\\n radio espectral debe ser menor a 1 para que el método converja.')\n",
        "print('De lo anterior, no se puede utilizar un método de sobrerrelajación.')"
      ],
      "metadata": {
        "colab": {
          "base_uri": "https://localhost:8080/"
        },
        "id": "kEc7K-vnsWx0",
        "outputId": "acbe8895-f50f-45a4-cb54-6f7b3122e7bd"
      },
      "execution_count": null,
      "outputs": [
        {
          "output_type": "stream",
          "name": "stdout",
          "text": [
            "Radio espectral: 2.0565452921624767\n",
            "El radio espectral de Tj es mayor que 1; no podemos utilizar Jacobi\n",
            "Se vio un teorema en clase el cual establece que el\n",
            " radio espectral debe ser menor a 1 para que el método converja.\n",
            "De lo anterior, no se puede utilizar un método de sobrerrelajación.\n"
          ]
        }
      ]
    },
    {
      "cell_type": "markdown",
      "source": [
        "Con la matriz inversa:"
      ],
      "metadata": {
        "id": "K6FmTULOs1D9"
      }
    },
    {
      "cell_type": "markdown",
      "source": [],
      "metadata": {
        "id": "M0wRFV3us26H"
      }
    },
    {
      "cell_type": "code",
      "source": [
        "A_inv = inversaGJ(A)"
      ],
      "metadata": {
        "id": "WWfcEUvHs5Eg"
      },
      "execution_count": null,
      "outputs": []
    },
    {
      "cell_type": "code",
      "source": [
        "A_inv"
      ],
      "metadata": {
        "colab": {
          "base_uri": "https://localhost:8080/"
        },
        "id": "KzIT7rnCtNEZ",
        "outputId": "258f93d0-90b6-4d2e-f5ce-1db6a2019853"
      },
      "execution_count": null,
      "outputs": [
        {
          "output_type": "execute_result",
          "data": {
            "text/plain": [
              "array([[ 0.   ,  0.5  , -0.5  ],\n",
              "       [ 0.5  , -0.375,  0.125],\n",
              "       [-0.5  ,  0.125,  0.625]])"
            ]
          },
          "metadata": {},
          "execution_count": 81
        }
      ]
    },
    {
      "cell_type": "code",
      "source": [
        "print('Solución:', np.dot(A_inv,b))\n",
        "print('Verificar solución', A @np.dot(A_inv,b) )\n",
        "print(b)"
      ],
      "metadata": {
        "colab": {
          "base_uri": "https://localhost:8080/"
        },
        "id": "E900GYJHtRj3",
        "outputId": "909149a8-7514-4c61-b0b1-a5afd5a0d96d"
      },
      "execution_count": null,
      "outputs": [
        {
          "output_type": "stream",
          "name": "stdout",
          "text": [
            "Solución: [-2.5   -0.125  4.375]\n",
            "Verificar solución [-1.  1.  6.]\n",
            "[-1.  1.  6.]\n"
          ]
        }
      ]
    },
    {
      "cell_type": "markdown",
      "source": [
        "## Problema 6"
      ],
      "metadata": {
        "id": "OKT43I14J9Qx"
      }
    },
    {
      "cell_type": "markdown",
      "source": [
        "6. Considera el siguiente sistema\n",
        " \\begin{align*}\n",
        "     A = \\begin{bmatrix} \n",
        "        4 & -1 & 0 & 0 \\\\\n",
        "        -1 & 4 & -1 & 0\\\\\n",
        "        0 & -1 & 4 & -1 \\\\\n",
        "        0 & 0 & -1 & 3\n",
        "     \\end{bmatrix} \\hspace{1cm} b = \\begin{bmatrix}\n",
        "     15 \\\\\n",
        "     10 \\\\\n",
        "     10 \\\\\n",
        "     10\n",
        "     \\end{bmatrix}\n",
        " \\end{align*} \n",
        " \n",
        " Aplica los métodos Gauss-Seidel, Gauss-Jacobi y SOR (tomando $\\omega = 1.1$) compara las\n",
        "soluciones, también obtén $A^{-1}$ y resuelve el sistema. Estudia el número de condición de la matriz de coeficientes asociada, y justifica si es un problema bien condicionado."
      ],
      "metadata": {
        "id": "JFgDgCxGJp7P"
      }
    },
    {
      "cell_type": "code",
      "source": [
        "# del sistema:\n",
        "A = np.array([ [ 4,-1, 0, 0],\n",
        "            [-1, 4,-1, 0],\n",
        "            [ 0,-1, 4,-1],\n",
        "            [ 0, 0,-1, 3] ])\n",
        "\n",
        "b = np.array([[15],[10],[10],[10]])"
      ],
      "metadata": {
        "id": "jzaceporJsQj"
      },
      "execution_count": null,
      "outputs": []
    },
    {
      "cell_type": "code",
      "source": [
        "print('Número de condición:',np.linalg.cond(A))\n",
        "print('Determinante:',np.linalg.det(A))"
      ],
      "metadata": {
        "colab": {
          "base_uri": "https://localhost:8080/"
        },
        "id": "B6dOG7iIwlRA",
        "outputId": "dd2e3d5a-674a-4b16-9f53-91c645da8311"
      },
      "execution_count": null,
      "outputs": [
        {
          "output_type": "stream",
          "name": "stdout",
          "text": [
            "Número de condición: 2.6087194122606157\n",
            "Determinante: 153.0000000000001\n"
          ]
        }
      ]
    },
    {
      "cell_type": "code",
      "source": [
        "L = lower(A)\n",
        "D = diag(A)\n",
        "U = upper(A)\n",
        "\n",
        "Tg = np.dot(np.linalg.inv(D-L) , U)\n",
        "Tj = np.dot(np.linalg.inv(D) , L+U)\n",
        "\n",
        "print('Radio espectral:',max(np.linalg.eigvals(Tj)))\n",
        "print('El radio espectral de Tj es menor que 1; podemos utilizar Jacobi (sabemos que convergerá a la solución)')\n",
        "print('Radio espectral:',max(np.linalg.eigvals(Tg)))\n",
        "print('El radio espectral de Tg es menor que 1; podemos utilizar Jacobi (sabemos que convergerá a la solución)')\n",
        "print('Entonces se puede utilizar SOR')"
      ],
      "metadata": {
        "colab": {
          "base_uri": "https://localhost:8080/"
        },
        "id": "OWKzMOkJxCcM",
        "outputId": "98e3ddfd-e3f3-4899-9466-0edb4c303e79"
      },
      "execution_count": null,
      "outputs": [
        {
          "output_type": "stream",
          "name": "stdout",
          "text": [
            "Radio espectral: 0.423417427887461\n",
            "El radio espectral de Tj es menor que 1; podemos utilizar Jacobi (sabemos que convergerá a la solución)\n",
            "Radio espectral: 0.17928231823883295\n",
            "El radio espectral de Tg es menor que 1; podemos utilizar Jacobi (sabemos que convergerá a la solución)\n",
            "Entonces se puede utilizar SOR\n"
          ]
        }
      ]
    },
    {
      "cell_type": "markdown",
      "source": [
        "Es un sistema mal condicionado; aplicaremos entonces los métodos de Gauss-Seidel, Jacobi y SOR."
      ],
      "metadata": {
        "id": "FXVl7UZmw16H"
      }
    },
    {
      "cell_type": "code",
      "source": [
        "def GJacobi(n,A,b,XO,tol,N):\n",
        "  x = np.zeros(n)\n",
        "  k = 1\n",
        "\n",
        "  while k <= N:\n",
        "    print(k, XO)\n",
        "\n",
        "    for i in range(n):\n",
        "      suma = 0\n",
        "\n",
        "      for j in range(i):\n",
        "        suma = suma + A[i,j]*XO[j]\n",
        "      \n",
        "      for j in range(i+1,n):\n",
        "        suma = suma + A[i,j]*XO[j]\n",
        "      x[i] = (-suma + b[i])/A[i,i]\n",
        "            \n",
        "      if np.linalg.norm(x-XO) < tol:\n",
        "        return x\n",
        "        \n",
        "    k = k+1\n",
        "        \n",
        "    XO = np.copy(x)\n",
        "        \n",
        "  print('Tolerancia no alcanzada')\n",
        "  return "
      ],
      "metadata": {
        "id": "VvDRHuzau3Sy"
      },
      "execution_count": null,
      "outputs": []
    },
    {
      "cell_type": "code",
      "source": [
        "#  Gauss-Seidel\n",
        "x0 = np.array([0,0,0,0])\n",
        "s = gauss_Seidel(4,A,b,x0,10**-3,50)\n",
        "\n",
        "# Jacobi\n",
        "s1 = GJacobi(4,A,b,x0,10**-3,50)\n",
        "\n",
        "# SOR\n",
        "\n",
        "s2 = SOR(4,A,b,x0,1.1,10**-3,50)"
      ],
      "metadata": {
        "colab": {
          "base_uri": "https://localhost:8080/"
        },
        "id": "6watUlzGuQIl",
        "outputId": "26c64f3c-a57a-4ab8-f396-d4073b092537"
      },
      "execution_count": null,
      "outputs": [
        {
          "output_type": "stream",
          "name": "stdout",
          "text": [
            "1 & 3.75 & 0.0 & 0.0 \\\\\n",
            "2 & 3.75 & 3.4375 & 0.0 \\\\\n",
            "3 & 3.75 & 3.4375 & 3.359375 \\\\\n",
            "4 & 3.75 & 3.4375 & 3.359375 \\\\\n",
            "5 & 4.609375 & 3.4375 & 3.359375 \\\\\n",
            "6 & 4.609375 & 4.4921875 & 3.359375 \\\\\n",
            "7 & 4.609375 & 4.4921875 & 4.736328125 \\\\\n",
            "8 & 4.609375 & 4.4921875 & 4.736328125 \\\\\n",
            "9 & 4.873046875 & 4.4921875 & 4.736328125 \\\\\n",
            "10 & 4.873046875 & 4.90234375 & 4.736328125 \\\\\n",
            "11 & 4.873046875 & 4.90234375 & 4.95361328125 \\\\\n",
            "12 & 4.873046875 & 4.90234375 & 4.95361328125 \\\\\n",
            "13 & 4.9755859375 & 4.90234375 & 4.95361328125 \\\\\n",
            "14 & 4.9755859375 & 4.9822998046875 & 4.95361328125 \\\\\n",
            "15 & 4.9755859375 & 4.9822998046875 & 4.991709391276041 \\\\\n",
            "16 & 4.9755859375 & 4.9822998046875 & 4.991709391276041 \\\\\n",
            "17 & 4.995574951171875 & 4.9822998046875 & 4.991709391276041 \\\\\n",
            "18 & 4.995574951171875 & 4.996821085611979 & 4.991709391276041 \\\\\n",
            "19 & 4.995574951171875 & 4.996821085611979 & 4.998514387342665 \\\\\n",
            "20 & 4.995574951171875 & 4.996821085611979 & 4.998514387342665 \\\\\n",
            "21 & 4.999205271402994 & 4.996821085611979 & 4.998514387342665 \\\\\n",
            "22 & 4.999205271402994 & 4.999429914686415 & 4.998514387342665 \\\\\n",
            "23 & 4.999205271402994 & 4.999429914686415 & 4.999733677616826 \\\\\n",
            "24 & 4.999205271402994 & 4.999429914686415 & 4.999733677616826 \\\\\n",
            "Número de iteraciones hasta convergencia:  24\n",
            "1 [0 0 0 0]\n",
            "2 [3.75       2.5        2.5        3.33333333]\n",
            "3 [4.375      4.0625     3.95833333 4.16666667]\n",
            "4 [4.765625   4.58333333 4.55729167 4.65277778]\n",
            "5 [4.89583333 4.83072917 4.80902778 4.85243056]\n",
            "6 [4.95768229 4.92621528 4.92078993 4.93634259]\n",
            "7 [4.98155382 4.96961806 4.96563947 4.97359664]\n",
            "8 [4.99240451 4.98679832 4.98580367 4.98854649]\n",
            "9 [4.99669958 4.99455205 4.9938362  4.99526789]\n",
            "10 [4.99863801 4.99763395 4.99745498 4.9979454 ]\n",
            "1 & 4.125 & 0.0 & 0.0 \\\\\n",
            "2 & 4.125 & 3.8843750000000004 & 0.0 \\\\\n",
            "3 & 4.125 & 3.8843750000000004 & 3.8182031250000006 \\\\\n",
            "4 & 4.125 & 3.8843750000000004 & 3.8182031250000006 \\\\\n",
            "5 & 4.780703125 & 3.8843750000000004 & 3.8182031250000006 \\\\\n",
            "6 & 4.780703125 & 4.72626171875 & 3.8182031250000006 \\\\\n",
            "7 & 4.780703125 & 4.72626171875 & 5.061237141927084 \\\\\n",
            "8 & 4.780703125 & 4.72626171875 & 5.061237141927084 \\\\\n",
            "9 & 4.94665166015625 & 4.72626171875 & 5.061237141927084 \\\\\n",
            "10 & 4.94665166015625 & 5.029543248697917 & 5.061237141927084 \\\\\n",
            "11 & 4.94665166015625 & 5.029543248697917 & 5.006341876166449 \\\\\n",
            "12 & 4.94665166015625 & 5.029543248697917 & 5.006341876166449 \\\\\n",
            "13 & 5.013459227376302 & 5.029543248697917 & 5.006341876166449 \\\\\n",
            "14 & 5.013459227376302 & 5.002490978604465 & 5.006341876166449 \\\\\n",
            "15 & 5.013459227376302 & 5.002490978604465 & 5.00025618431631 \\\\\n",
            "16 & 5.013459227376302 & 5.002490978604465 & 5.00025618431631 \\\\\n",
            "Número de iteraciones hasta convergencia:  16\n"
          ]
        }
      ]
    },
    {
      "cell_type": "code",
      "source": [
        "print('Solución aprox mediante Gauss-Seidel:',s)\n",
        "print('Solución aprox mediante Jacobi:',s1)\n",
        "print('Solución aprox mediante SOR:',s2)"
      ],
      "metadata": {
        "colab": {
          "base_uri": "https://localhost:8080/"
        },
        "id": "mHpweNBJusan",
        "outputId": "1fd1baa0-38fc-4626-c80b-97f8f9b0a75a"
      },
      "execution_count": null,
      "outputs": [
        {
          "output_type": "stream",
          "name": "stdout",
          "text": [
            "Solución aprox mediante Gauss-Seidel: [4.99920527 4.99942991 4.99973368 4.99991123]\n",
            "Solución aprox mediante Jacobi: [4.99920527 4.99942991 4.99973368 4.99991123]\n",
            "Solución aprox mediante SOR: [5.01345923 5.00249098 5.00025618 5.00001926]\n"
          ]
        }
      ]
    },
    {
      "cell_type": "markdown",
      "source": [
        "## Problema 7"
      ],
      "metadata": {
        "id": "XuHJh4ULJ-8R"
      }
    },
    {
      "cell_type": "markdown",
      "source": [
        "7. Considera el siguiente sistema\n",
        "\\begin{align*}\n",
        "    x_1 + 2x_2 - 2x_3 &= 7,\\\\\n",
        "    x_1 + x_2 + x_3 &= 2,\\\\\n",
        "    2x_1 + 2x_2 + x_3 &= 5.\n",
        "\\end{align*}\n",
        "Muestra que $\\rho(T_j)=0$, luego aplica Gauss-Jacobi para aproximar la solución del sistema con 10-5. Muestra que $\\rho(T_g) = 2$, luego aplica Gauss-Siedel y evidencia que tras 25 iteraciones no se tiene una buena aproximación. Finalmente aplica SOR con un peso $\\omega$ apropiado. Donde $T_j = D^{-1}(L+U)$ y $T_g = (D-L)^{-1} U$. Estudia el número de condición de condición de\n",
        "la matriz de coeficientes asociada, y justifica si es un problema bien condicionado."
      ],
      "metadata": {
        "id": "2yYlAfvWJsXP"
      }
    },
    {
      "cell_type": "code",
      "source": [
        "# del sistema:\n",
        "A = np.array([[1.,2.,-2.],\n",
        "            [1.,1.,1.],\n",
        "            [2.,2.,1]  \n",
        "])\n",
        "b = np.array([[7],[2],[5]])\n",
        "\n",
        "L = lower(A)\n",
        "D = diag(A)\n",
        "U = upper(A)\n",
        "\n",
        "Tg = np.dot(np.linalg.inv(D-L) , U)\n",
        "Tj = np.dot(np.linalg.inv(D) , (L+U))\n",
        "\n",
        "#print(Tg)\n",
        "print('Radio espectral:',max(np.linalg.eigvals(Tj)))\n",
        "print('El radio espectral es aproximadamente 0')\n",
        "print('Radio espectral:',max(np.linalg.eigvals(Tg)))\n",
        "#print('El radio espectral es aproximadamente 0')\n",
        "print('Entonces el método de Jacobi converge a la solución')"
      ],
      "metadata": {
        "id": "MZdY8zW3H0EH",
        "colab": {
          "base_uri": "https://localhost:8080/"
        },
        "outputId": "25f9734f-ff8b-49d8-c810-9aacffbf25ef"
      },
      "execution_count": null,
      "outputs": [
        {
          "output_type": "stream",
          "name": "stdout",
          "text": [
            "Radio espectral: (6.1665666894435735e-06+1.0680782545501854e-05j)\n",
            "El radio espectral es aproximadamente 0\n",
            "Radio espectral: 0.8284271247461898\n",
            "Entonces el método de Jacobi converge a la solución\n"
          ]
        }
      ]
    },
    {
      "cell_type": "code",
      "source": [
        "x0 =  np.array([1,1,1])\n",
        "s = gauss_Seidel(3,A,b,x0, 10**-3 , 24)\n",
        "s1 = GJacobi(3,A,b,x0,10**-5,25)"
      ],
      "metadata": {
        "colab": {
          "base_uri": "https://localhost:8080/"
        },
        "id": "SPxnXQbZyNNd",
        "outputId": "d8a8bdea-78ce-4f40-bad8-996b5b8758a7"
      },
      "execution_count": null,
      "outputs": [
        {
          "output_type": "stream",
          "name": "stdout",
          "text": [
            "1 & 7.0 & 0.0 & 0.0 \\\\\n",
            "2 & 7.0 & -5.0 & 0.0 \\\\\n",
            "3 & 7.0 & -5.0 & 1.0 \\\\\n",
            "4 & 19.0 & -5.0 & 1.0 \\\\\n",
            "5 & 19.0 & -18.0 & 1.0 \\\\\n",
            "6 & 19.0 & -18.0 & 3.0 \\\\\n",
            "7 & 49.0 & -18.0 & 3.0 \\\\\n",
            "8 & 49.0 & -50.0 & 3.0 \\\\\n",
            "9 & 49.0 & -50.0 & 7.0 \\\\\n",
            "10 & 121.0 & -50.0 & 7.0 \\\\\n",
            "11 & 121.0 & -126.0 & 7.0 \\\\\n",
            "12 & 121.0 & -126.0 & 15.0 \\\\\n",
            "13 & 289.0 & -126.0 & 15.0 \\\\\n",
            "14 & 289.0 & -302.0 & 15.0 \\\\\n",
            "15 & 289.0 & -302.0 & 31.0 \\\\\n",
            "16 & 673.0 & -302.0 & 31.0 \\\\\n",
            "17 & 673.0 & -702.0 & 31.0 \\\\\n",
            "18 & 673.0 & -702.0 & 63.0 \\\\\n",
            "19 & 1537.0 & -702.0 & 63.0 \\\\\n",
            "20 & 1537.0 & -1598.0 & 63.0 \\\\\n",
            "21 & 1537.0 & -1598.0 & 127.0 \\\\\n",
            "22 & 3457.0 & -1598.0 & 127.0 \\\\\n",
            "23 & 3457.0 & -3582.0 & 127.0 \\\\\n",
            "24 & 3457.0 & -3582.0 & 255.0 \\\\\n",
            "1 [1 1 1]\n",
            "2 [7. 0. 1.]\n",
            "3 [ 9. -6. -9.]\n",
            "4 [ 1.  2. -1.]\n"
          ]
        }
      ]
    },
    {
      "cell_type": "markdown",
      "source": [
        "Gauss.seidel no parece estar convergiendo luego de 25 iteraciones.\n",
        "Pero sí obtenemos una solución con Jacobi."
      ],
      "metadata": {
        "id": "A3Gw4pQgzm5j"
      }
    },
    {
      "cell_type": "code",
      "source": [
        "print('Núm de condición:' , np.linalg.cond(A))\n",
        "print('Determinante:' , np.linalg.det(A))"
      ],
      "metadata": {
        "colab": {
          "base_uri": "https://localhost:8080/"
        },
        "id": "gQ-ZOvvyxoQg",
        "outputId": "86ecdb86-1b04-4ecb-dd37-750679c6a267"
      },
      "execution_count": null,
      "outputs": [
        {
          "output_type": "stream",
          "name": "stdout",
          "text": [
            "Núm de condición: 36.88094149528229\n",
            "Determinante: 1.0\n"
          ]
        }
      ]
    },
    {
      "cell_type": "markdown",
      "source": [
        "El número de condición no es precisamente pequeño; en cambio el determinante sí es pequeño.\n",
        "\n",
        "El sistema está mal condicionado."
      ],
      "metadata": {
        "id": "FnNWlB460Xqt"
      }
    },
    {
      "cell_type": "markdown",
      "source": [
        "Verificamos que el radio espectral de T_g es menor que 1; de modo que, por este teorema, podemos encontrar un parámetro conveniente para aplicar SOR:\n",
        "\n",
        "![image.png](data:image/png;base64,iVBORw0KGgoAAAANSUhEUgAAAoEAAACKCAYAAADVC5BSAAAgAElEQVR4nOzdZ1gU1xoH8P9WujRBihLsYCeCJfYaNWJFbNdoTEzsLZaoib1FbwRjr4liw24UOyqigoixAxp6B+mwsG3mvR8WlLIgGonecH7P4weX3TPnPXP2zLtnzswIiIjAMAzDMAzDVCvCD10BhmEYhmEY5p/HkkCGYRiGYZhqiCWBDMMwDMMw1RBLAhmGYRiGYaohlgQyDMMwDMNUQywJZBiGYZhy5SF4+0QM7NQKLbpNwZEI9YeuEMO8N4ISt4jJz4GnTzqe81reKdTDyM8N8OxyGh6THka6WqGz7j9X0aqgyM7Hn+kcSoQrEKFeHX1Yi0u+V5mbj7uxBUjmxGhgZwQnk9f5sywjDzdjFMgTS/FpQyPU/z9vF4ZhGEZDHXocXkmdMba7Hu792AMjk5cidHc/6HzoijHMe1Ai1VHEpmPDrVTEablzoMjUEoOclPj1Vir+MqkF90H/VBWrCo+7V16gx00Fiv+uExqY4/iyBhhc7H2hAZEYeiodYXKAAAik+pg3sQnWNiDcvvwX3M/nILEwk9Qxt8Dh2XUx2EjwN+snR7jvQRw47IPgJBUMGnTBoJGjMLydDYR8Ju7s3IxbBRm4vP0KrBacwb5x9SHSWo4ST7YtR0DXZfjWUfs7uPDN6N/TC22O+GNZO+nfrPc74sKxuX9PeLU5Av9l7VC2FhzCN/dHT682OOK/DO+9mupoXNn4MzwOh8DJ8wpWdXzDBtSxOL/xN4QZW6Pg+h4cTO6LbaeXoovRmzZUxXG8jbeNWYuK+o46+go2/uyBwyFO8LyyCh1Fb9rHH4oSUdd2YtPmA7hkMhv39rpDv9Kf5ZFx/wDWrd2By2ZzcGfHYHwUvwGz7sP7WCpcxveFXdhBLNkRiFyIIJYIwavUgFgKEa+EihOiVs+ZWDTQvsTH+ZQAHPMToJtbO1hW4fmizHOLMP63dLTq2go29TpjzBdN3rL9snDf+xhSXcajbz3Cs4NLsCMwFxCJIRHy0IQqAq9UgRPWQs+ZP2CgvQgAj5SAY/ATdINbO8tXp8T41Ls4fvo+osNu41ZaWyzePR3Odn3g7mgIIYCW7VvC4kJV9lwOL4MP4Zef/4TTDg8MN6vCTRX3FmMBn3EfB9atxY7LZphzZwcGfwQdvkqOYcooXNu5CZsPXILJ7HvY6165UeFvtc8bj4PvX4mvt9jWCt4zmuDWJFt0EgMQSDDc3RG3ZjaB/3c2aJgoQxQP6NkYoKXkH6hdFavVxAab3e2xzd0eaz7VhQSA1MYQrYulxlxSMr49kY4wMsCscY2xxkEEgbIA50MLoIxKxHfnc8A3/QRBc+ugmxhQZOYiIO193H9bFw16fI1p7eTwvfQYZq7TMLKdDYQAlHfXYPIxQwyf8Qu8dsxEt7qGKC/l5KL3YcFPW3D1cUG5WxLZdMH42VPxRSNxue+pciIbdBk/G1O/aFTsl4kMkeFx4DRvgE2X8Zg99QtUSTXF9ugxwhHykETItM2El8DhxZYJ+DlnIKZ/8y0W7f0di7vWhICrzIa0xVE8zn9QJWKWRYYjroKKVdR3xPY9MMJRjpBEmWa2Xes+/hhIUbf7eHQyiEBMlqqSnynaZ0KYtR4KJ2EIonLUeGPX+Sdk+mP1vHOwcPsc9URqPDvhjSdW/TBl6TqsGcjDZ/sx5HRbjl/+uwiDpI/xXGFepghhrfYY3PwZflnri/QqC4qHIvYufDMdMX7KREx46wQwE/6r5+GchRs+rycC1M9wwvsJrPpNwdJ1azCQ98H2YznotvwX/HfRIEgfP4fCvOiHsBC12g9G82e/YK1v+qv9JrRsC/dvJ2PGADOE3HiClwTAwBAGAAAZAu8SRnzXtYpmAdVIDD4PH69t2HI2BJn/5FnntxgLhGatMdRJiJCoHKg/YIcvPjZVyTFMWhfdx3eCQUQMKj0s4G+2zwcYI0tsR2Skh/ZGgDI8HUk8IJAY4HOnGuhgAAA8/riWDxUEaGYjRuDtBARmi9DexRJ9LTS5JJcrw+kHWXiQxUNipI9+rc3gUqMwPeFVuP84HRfjlcgTStCyaU0M+0QCEQjhYS/hmw7Uq28EYVQO8utZwtVC/er9MpEELZoUvp9XIehRJv7MF8DBXg8pz7PwlNPF0A6mMIpLx4kIJcS2ZpjQUh8VT8oI0biJJRoDgCoXC/wVUAskcOtgjtrFUuP8HKBec3PUt7HA4la6OHCHQBDArqYYlwPSEEYSjPvMAi51RLi2web97ZlCeoYGEAsNYfxqZpFDlJ8/IgRjoAMhrLp+g6/L+zCfDp9Nh/AC+TAKjYQaLbR3LP3mGDa9+Xuv+9vRR/Nh0/G6FjxSz8/HN+f64cLWOhAB0G8+DFVZTaGeHnQqM4HLxeLciUCYTWioaU8dR4z4ybHS2ykZR9k4/0kVxcynnsf8b86h34WtqFNexSrsO0Lo6ekU+4FSeh9/TEQwMtSHQFaZ95beZyLo6koBZVXXsRL4VJyeswhxbuex0FQIIBsvHSdh99C+sBSq8cjXDzEGHbCsoz4g1kcH16mQNTHQWpTUcSxGHR+Aib/Xx5Hx9lXXNwWidzjg8Ug9PQeL4txwfqGpZjYj9yUcJ+3G0L6WEKofwdcvBgYdlkETage4TpWhZKhSOI4dheMDJuL3+kcw3v51hAKRuEy8WXcO4mGbJZjevKoOz2LYOLtiZPYFLNkVUUXbKN/bjAUiXV1IP2CHLzM2VdUxTGQEQ30BKjUsFP/YO7fPPz9GaunNhMTYfMTygNjSAM5FP824AgTHc+BBSHqSiO9zZXieR9CPEuD5pFqomZyMwVtjcalAjMamQGSqCuvu10bALFu04POxaXcYvg9Vw8RcAnWmElm+6Yj8vikW1irAobPRWBIvRF1zAeIydLFyniGidzzH92FqWFjqgNLlSL6ajvDZTfFjzRxsOBIFb7kI9WvrQp0qQ4wC2HHPEPWhwMNkFRSiLOTPa4ofrStzRCdE303A9mSCTp1aWNBSUmJ61KixDfY11rwv4c8IrA/nITSpiW8c8nH8nAq8pAZsZSmYc1QBibU5pneoAesqO32iwMNDP2PHpWgo4i9hw/I02HX4CpN6aU8e8gM240LtxZjcoi+WhYZBoTUJ5JEb4YcThy+goNdKTGorBfKf48y+K0gXKxEXK0ez0fMw1KHYJ/lshPudwuGT6fh0rA0CtxzDU1U9fDF9Eca30QzIXGoAvLxuI5tkSEwVopn7ZIx2NocQQP7zM9h3JR1iZRxi5c0wet5QNCqIgN+Jw7hQ0AsrJ7WF4p4nvpywE/dt8rBqZTpcpw+C2f0TOHyhAL1Wfg3LKx7YeCYCVLcPJk0bAgdJJC5s2gpfUT/MntEdlqm3cdDrKkIiYiCrPwxzpveFvbaf73lPcWyXD2JUCsjFycgu/stNnYzbB71wNSQCMbL6GDZnOvrWScL5X3/G6TA50s+swk9hBIUsE6kpmWgwYT9+7C5GxrPLOHH0HLI6fg+XF1ux91oCrIctwfIRDtDhcxHhVxTHJDR5VCrOmWPgoqtlu1oqzyX5YefeAKiN1IhNMEb/2VPQpWYWnl0+gaPnstDxexe82LoX1xKsMWzJcoxw0HlzzEVy78HzywnYed8GeatWIt11JoZaPcbpg0eR1PIr2N3xwAmVK5Z9bYYA72J9B0De02PY5RMDlUIOcXL2q1kWPrfkPpaWF0MtzRco+8lR7DoTjvzMBGRbOKFdszqwqt8GnRxNy+1flPEMl08cxbmsjvje5QW27r2GBOthWLJ8BBx0AHBJ8Nu5FwFqI6hjE2DcfzamdKn1VlfI5ZbumzOHaf5ASkScWYPtR4KQZjUAC1Z8hVaGAKBG8u2D8LoagogYGeoPm4PpfetAVlE/qbgGCPvjdxy5HQc0c8eM0c4wLQxA/WgLVga2hsdWw8L3mqLnsL6FHSYOvtdDIWk7Ed2MNS/pdB0C13K3I0Yz985IGrgB/qN+RdcPcNovN+wP/H7kNuLQDO4zRsP5daDYsjIQrT22oihSmPbE61B9cT1UgrYTu0ETqg66DtESqbgZ3DsnYeAGf4z6tWu5M5H5z87gZFZ3TO5fB4L0KESJPkFdk7cc6GVR8Dt2FDFNZ+FLl4pP9L3dYiIOSX47sTdADSN1LBKM+2P2lC6oRRlVNhZoejxBGXEGa7YfQVCaFQYsWIGvNB0e6uTKjb/lfY+RHQ6/U4dxMv1TjLUJxJZjT6Gq9wWmLxqPNuL7peozHYPM7r8+hrnk4/n10zj+RyyaTBkApfd2nHygRKtJKzGjwSNs3bAPtxKM0XPuWkxubwphee1Xmd2bF4pT+y4iTpGF6IQa6D1tGvrYF+3b8tun3Li1jJFAHkJP7cPFOAWyohNQo/c0TOtjD6nWccX+7WepqQw1HfvtHgmnBZL1wQwqKHo5J4X6zQ4kwcwntDKRo2cXn5BkWiDV2PWSMjkF7dx2j4TT79HAAAVxBak0cHYgCWaF0W8FPMXfDiOT6YFksi2FYtQK2rLpLmHaXRp4V02Ul0qu3wcSpgVR412xtCU4m+76a95vtjOV4jk17dsZRIJpd8k1UE2KyBhymBFIwoV/0TGZmk7u09S18ckcKshOpl4zA0kwK4Q2ZvBlQ9MmP5O+XRJImH6fxj5SlfMmntKex5DL3EASzPiT/nNfQQWRMeQ4I5AE0++S6aL7VGNGIGF6MI19pK7cditJdtiNDCVNaH6govAVFd39oSnpd9tIsVwFH1Q9I49vl9AtmZyuTrIjndZL6bG28FSxFHR0Frno1qQxpwqISE0ha7tS/82JxBFHKcfn0OKL8hIf4TJC6MLCTmQgqU+ui/eQz/Wz5DmiEemau9LuGI4o05dmO3eiHwNziYijjGuzqaVZS5p7PYdIHUJru/anzYkcEZdCx+cspotyFcUGHaVZLrpUc8ypwj4nI293E7L52ofkRKSKDaKjs1xIt+YYOlVARKrHtKKNPtl+7UOywnZ5vGo8LbmnIC75FE0evpyC8ogo6xpNa2xITj8FkYJKkQXR6h7daL5/FhFxlHriS6otaUAz/BREXDKdmjyclmsKoWvTGpOh008UpCAi+XWaWlefBuzL05STc5iGmRjR0EMyIpJT6tOd5GYtoUaDVpCX/2MK3DKYbE360PZ4rmwcpeKscLsldkI0betjQV02RBFHcroxrSHZT7xCcnkqPd3pRtaSRjRohRf5Pw6kLYNtyaTPdorn3hBz6ebxdicTm6/JR05EXBo9PbeQOhtJyGHIKtq29Uf6eu42+uNI8b5DJAtaTT26zSdN8al04svaJGkwg/wUWvZxeTEQEZd4hEY1GUL7Uom41OM0xlZCDUduoJNByRX2L3nqU9rpZk2SRoNohZc/PQ7cQoNtTajP9njiiKPobX3IossGiuKI5DemUUP7iXRFTkQkpysT7chw8IHC/lSRUvuMCuj0lxak12QorT4USKHBO8mttgF12xhNHHGUfGoyDV8eRJruOI0aGzrRT0E5FfaTcnFpdGVeLxq4+g6l50WS91cuNGBnFGlGHRUF/9iSzNwOU662j6bsoi8MpdRh3V9U6VFKfoUm2tejKb5yrX/m0h7QOe/DdPhwRf+O0OmgJCobFUdJW3qQUfdNlFjmjxylXZlHvQaupjvpeRTp/RW5DNhJUYUVVwX/SC3N3OiwtkCJo5RdX5ChtAOt++vNkcqvTCT7elOoeIiKmzOpUZ1v6LycSPXXb+TWtD61aN2aWrf+lFr0WkH3yjtUlCGjmFtetHzCEOo3aDz9tOcaRWitc7H6XJ1En+j1pm0pldsCF72N+lh0oQ2aTk3TGtrTxCtyoqoaC4io4PSXZKHXhIauPkSBocG00602GXTbSNEcVX78Lfd7nEUZIRdoYScDktR3pcV7fOj6WU8a0UiXzF13UwxXqj6lj2GqNAo7+i01ktpR/6XedCcylu6u6EQ1rD+jCRt8KCQpgfzmf0qG7VZTqLqC9iPS9H87Qxp8QMuokOVHC3sPoy2hciJKp8PuNcmo91aK5ypun/LjztByHMwiv4W9adiWUJITUfphd6pp1Ju2xqvKGVfK7rs3KZvrqgsQnMiBhwDN6hi8WpioiJfhsRoQWxrjc0vC8xQFOAjgaGcAA1kW/gjnwEMEWUwy5v+RjkccINAVw0ygxsUnOcgmITo7mcFOoEaGHIBADEtDARTxeXikAsQ1LbDtyzqY7KSHJ89ykE2AoSIPnn/E4mACDxKIYKYPvIzTrEvUtzdGDx0lQlJ58AIpujoaQJhSgEgCRGb6cK7UhRmEZ/4JOJABGNS1wvxm2qb5CZkRCRi4Jwn3FCJ06tsAWz+VIDkqDxE8IKljC/8lzbC6gQAgDonZ/EewLohH3MGtiOszBe31JXBs0gCICEWYQstbxXXg4toZDq/ai5Cfm4lAr3U49aIAlq5TMNaxZLsITR3RrZMDTKTNMWzeePTr2h8zti6DK13G3iPhiDu0FnupB9xbGwIQwrTL95joEoHt672RwuUjNzMQXutO4UWBJVynjIWjWIw6Lq7o7GBU7i9gcR0XuHZ2wKtqipvi2+l9ofI5iPOZANQhuJjljLFOIoTv2wCf1GScW78USz2uI8tYB1FXLiK0xBobHilHV8FD1gvj2hsDEMKiSwc0LVzryoXvwwafVCSfW4+lSz1wPcsYOlFXcDFUy0IdiSEMdYUQCgFABxaNW6GhuQS1e3yNUR2bw8WtN5oqI/A8Sl02jlIqvV2hGT51n4vJn1tDyOeDgwip0VHI07FA41YNYS6pjR5fj0LH5i5w690UyojniFJXHHOFhOZo2rM7mpqKYd/nO0yctAK7102E68BifYdPwdFVHpD1GgdN8Rbo0qEpNMVr2cflxQBAGXAWlzJqwNQIEFr0hVvPmpAbOqKfi0WF/SvLvDFaNTSHpHYPfD2qI5q7uKF3UyUinkdBDSHMPnXH3Mmfw1rII58DRKnRiMqrRPxvJIBOi+GYMbItHFqPhGtrIDIsHCouHPs2+CA1+RzWL10Kj+tZMNaJwpWLkRX2k/Lk+i7GjIDuWDOvPcwM6mLAkGZ44H0WyTwAFCDkSQSMLCygbZfK/HwRqHBE915vcWpXVAtW5il4+jhF658pNw7P7t/H/Qr//YnHMdlvNy7m+mLxjAB0XzMP7c0MUHfAEDR74I2zmkBREPIEEUYWsNDad2Xw8w2EwrE7etmXjJRPOYfVay7iZbHKiGpZwTzlKR6naK+huME4HHsajkfBwQgOvo9Hl3+E8xvOCCsSg+C9dgrc+4/GkvP5aDdnL86e2oPl47uhnmHFn31bQrNP4T53Mj63FoLXdGpER+UBVTUWFBLotMDwGSPR1qE1Rmo6PMJVXKXH3/K/x8egbNwNnRxMIG0+DPPG90PX/jOwdZkr6PJeHIkstUi59DFMbI4Gzo1QS2yKVgOGoH3dOmjVsz1ss6VoMrQPHK1s0LaLE4z/eopnqgrar0I8ovevwFG7rzDeQQeAGdzWn8SBxf1fzSBqb5+K4j4BaeuSYyQfvR8rjtrhq/GaswNmbutx8sBi9K8ZWc64Elr5HVjUfGVCk8nwZxoAoS6c7YpOjRIi42RIIcDY1gCOVIBTCRx4gQSt7HTAxSbhvgoQGUqgL1MgBiK4tDBDewtTOCMPP8XxIKEBnO1EgFyGP1MJArEeWtoA0ffykUSASd0aaCsFoMrDnTgeJBDDQqpGTAZgbGeGYfa6GGhHCH5UuC6xjgGMFHm4X1iWi60A8UEyxPKAoa0hKrNsg89Jx3K/POQLpPimlyUctUz/ZkclYvCuBNyRi9GtXyOc6GUEI/C4llAANQT4tLkpHIRqHM8HIBDDzkz04W++mHkRHkfikd90HebfAfiEbOjlZyM0Sg1oTXSLE8Np6mqMuzIGI1r7oO9sD/y6yL6c9wogKOqtNVzg4ijEo5QEvIh5AbmkG6RFfxPWRIvmtlCeDUMExmPq6nG4MmYEWvv0xWyPX1Fu8RUSwnLwZAxb4obfjieif9M/kNFyAj4RqfDH03BY99qJxQscNAe7pcu1fF6FB3eCIbMYBNui44RA8OrLpwp5inDrXti5eAEcNIXgVSnakunS7VK8pmIRhCDwlTgKVrjdEozQZvRwyPZvhued2jBSiSHgOc3FJYISW4dYJASIB/+GmCtFIIBEUs6pLNUD3AmWwWKQLV4XX1Hp5ccgbuiI+nkHcCM4H64dAYHQCA7NG0IMFV48q6B/qfH6dQAQiqEJX9P4Rm1GY7hsPzZ73kFtIxXEAh7ce78iR9PmPM8DqhA8DbdGr52LsUCzQ193R3Xw2/UTPhFHPI/Detg9NC5sYHW+DAqVCpp16yoolDxEYm0pnhx3rt5GzidD0LPJW6xpE+hAR0LIycwCYFfmzyJ7V8z7ufwTyu+GR+IRTxy3HoZ7rwOFTKGCqnCBvkqhBK9l3R4AQH4HV2/n4JMhPVE6VKFxQ3zWXgSjYoO0QEcHEspBZhYP2P290ZvPuodtMyZh7R1LjF//X+yY2wSmVb3Q16gNRg+XYf9mT9ypbQSVWAC+qFNX5VhQvGSxCEJeU25IJcffN32PS9ephosLHIWPkJLy5i9s6XFHKC7VVwRCCNRKqHhU3H7lUuJR8FPoWJm9Ot6L7TphQOFXpPTPuOLtU6m4i7byKBhPdaxg9noj6DTADpCfLn9ceUtlerwyToYnHCDU04ez1euLEe7HyqGGAM3sDKCbL0PwS4JAog+XOgKkpMqRToBhA2scHl8fC5rrwaGWHj5vYQwrmRwRMkCgowtHcwHyInJwVwGIbWqgew0e92M0yVTzOgbQBcDnFr2/BuaNa4j9vUzRrJYumjqaopehAvfjOfACMVrZ6YJPkOGxEhBbGsJZn0dwbAE4CNDUzqASt3jgcfdGIk7lAkYNrDDfsezAmBeTiKG74nFTLkX/wY1x5nMjzdobXoWIjMJ61NGFICcH/ikEoZ4Retf90CmgHAEeB2C42Bvb/7se69evx/q1/0ErQSRCtU4FlsYjV9oea/0f48ryNojeOBR9F/pX4nNqqNUS1KlXDzVrmoKPel5i5lEkFEFkaQ0rQS6k7dfC//EVLG8TjY1D+2Khf2XqpYV+Z3w7ph5u7duFvefl+Ky/Zm2XRCpAmP9NFP9hz7+MRGRmyaOrVCoBl5yg/epXiRSCMH/cLFkIIiMz362ulVXZ7XJh2Dbkc2ykYZj2zVC0ta7cSpAKY/7bpJBKOCQnVPJK5wpiEDefi4O/tsKtJbOxyuNXPGi5Bb9Nrg8RRBX3rwoPuBzCtg3B5xsJw6Z9g6Ftrf+Be71JIBWEwf9mSrGZMB4vIyPfuiQ+5SxO3DaDk7NV4cCdjRuX7sG2c+fCi9n0YWFhBEV+Psrcn0D5ENf8k2HRuSecy+TwPLLD7+DqxZM4fNIfz1Plr/9EcsiVgLGpSTl1uotje3dj9+6K/u3B4VsJlb/6nU/B2RO3YebkDKvC4TT7xiXcs+2MzoVX7elbWMBIkY98LTdiUD68Bv9kC3Tu6VziFht8djiun/ZFrKhGiddJLocSxjB92zV+WghNXDBpszf2zW+NeK+FmDL7F5x4kFKll1BwYdsw5PONoGHT8M3QtqjkUFBlY0Hlxt93+B6r1VBL6qCe/fu9MOfd2k8AqVSEuD/vIalYWNzLlDdcTf92cQukUoji/sS9khtBSrrovY0rpXo94UWsDOkEiK0N4Vw0NazOx71EDiTUgVMdCVRxMjzmNBeOuOgCPGnun6fIkOHSgwTMOJ6AVf55UBgKQaT5OzglnjzPwNprmUiGCL3b10QjPh9BReUWzjq+er9agT9D07H8RDSWXU5BkFoMvXwZ7r8kCMT6cKktQEKc5gIWM1sDNKZ8BCVw4AVSfGonfePpDi79JZbdLoBKqIMxvS3RQKhpRJ8jD2H6wzOsjs/F2sPxuJYHGFrqoWZSKmYfjsSEI/E4mQHoiQEBqRH8IAk/HU3CTZUALTtY4YvK32CsUkjNgSc1VK9+IfDgOQ7E82UHegDKJxux8kV3fNf2dU8WWtZHXRMZ/noWWeYXSlGZHM9r2h0q3N+zC7fUtug6az8ur+uGlyFh5VUO6sJf5nz8ddxK74Wxg+ug6dBhcMq/jrPXswv/+BIPn+Sj51g32PP3sWfXLahtu2LW/stY1+0lQsJyNG/jePB8UVRCSHUkUBQUgIMaSjUAngNfIm4xmo37Cm0f/4Id6t7oZQwAUjh3bgvh1bWYvT8UMgDqpBvw2HAZOQbFu7sOWnVqixoP92Pz1QzwALjMLOTySihVBKlzZ7QVXsXa2fsRqikENzw24HKOgWYfEDSdVdMQIOKLzeAUtWXh/9SaC6pevb1EHCXjRKuKtluszLjzOOKbi5q25hBBgdTULPAcB44HUKKNeKg5HiACvSHm0oRSHUgUBSjgALVSXRgnNDNcxcp/1Xd0WqFT2xp4uH8zrmbwADhkZuWCVypRVHzxfVxRDHy6H/YEtcfvl7Zj0awfsHhGz8IZC3HF/UuEYn0IAK+GJnwC+DicP+KL3Jq2MBcBitRUZPEcOE4TDxW7bz6UEfDZ5IGjj3PLtIu2vsnzPIgrahcCTwSe5wCpMzq3FeLq2tnYr9mhSLrhgQ2Xc97cT0rJvHIJQUoCV5hRyB9vg+fjvlg589PCUzpSOLdrify4GGSVOhCp/7oC33ADtOvRscwPZPWjdRg+7wHqdW+KmI0LcSih2NFJHYe4FHs4t7XSWidSZiElPh7xb/iXlFH+Laq0BIpLQUrQ60CxzfMx+q6ciU8Lj/9S53ZomR+HmNKBQo2/rvgi3KAdenQsGanQuA7o9n7czDIsceBTx8Uhxd4Zba3ezw94oVF9dP9mBfacOImtE5sgxXs+Rgz5EnM3ncWzjEpkXDxfmDAXi63c/sgj7vwR+ObWhK2mUyM1iwfHFT4EoarGAp4HT68ftEA8gXgeXKXH3zd/jwGA1OrCWW4e8ddvIbbNso0AACAASURBVL3XWAy2FmoZm4ofw1D2+EgEAldsjCYQEehN7Vfu91EHbXt3hp7fWkzZGICXakAedQY//3ZPc4wtt30qMX4VGyN12vZGZz0/rJ2yEQGajeDMz7/hnrCiceUtlVwiqKS924NIMC2QGp3MebWQk0tLpM4zA0kw9wUdyufpkc9jkkwLJKvCC0fUaS9p3Mp7JJoWSJgWSKarntPq50rNQmBOTge9HlKN6Zq/ieY8oN5/ZFICV7rcoo2VfL943iMacimLUjgieUgk2U4PJMnqWLqnUtPR3+6RcNpd6uGnIFVGEnWbFUiCOc9p/xtXdqvo/KE/STQtkIy3JFNk0aJkdR4tXnuXhAvC6WRqEvWYpalD8X+Cuc/JS8ZT0qMoajkvkATTAkk4+z519H5JIcq3XpNZgQIKv76XFvayJpFASg4j19ORwFiKDTxA01wMSGTZk37yDqCYgtefkD3+ncY2r0G1B2+gO0UrrdUJFLBvGrkYCkm3xTe0Lzi11GaiyH/nWGoskZDD2J10OzaPLs9woa5Td9GF63/QpsljaPHVtDK1k1+YQLbS+tR35jLy3LaOZrq50cLziYWLvxUUcXIO9eroRot3H6TdyyfQV0suahZ/yy/TDJeuNHXXBbr+xyaaPGYxXU2TUZT/ThrbWEISh7G083YsqYij6N0DyMK4MfWbuIKO+F6nnWMbk0TiQGN33qbYVwuz0+jQ6J605EGxldqqcPKe5ELmEgkZWdhSw85TyTtcy4JZdQQdmdSGrEzrUQdXNxozaTC1NKtPPabuoeAMBYV7TyIXcwlJjCzItmFnmuodTgouk0JPzyIXPTHVc/+VbsUm0YOD31ELqZgajt5F91LyKfrKQupkLKFPhnrSrZgECvQYSLZiQ2o35zyFhPmXiqNknCefF2jfbpkdEEQr2puQxKQp9ZuwmLYu6k0mxk1pxH9P0IkFnchY8gkN9bxFMQmB5DHQlsSG7WjO+Yg3xFxydT4XvZsGWBhT434TacXxAPrT6zty0hOT7YC1dO5pOnFl+o6K1BFHaFIbKzKt14Fc3cbQpMEtyax+D5q653bZfVxeDJ63KeXBL9TDUkJiPWOqaWVL9g1bUOf/eFJAVsX9Sx59hRZ2MibJJ0PJ81YMJQR60EBbMRm2m0PnI7IoaEV7MpGYUNN+E2jx1kXU28SYmo7YQKcv7qZvWuiQuOFo2uYfTXmh66ijnoCkHddTeJlrC4rvs2W0/8w++rqJhMQNRtH2u4mUELCJ3OuKSafVZDoZlkeqcG+a5GJOEokRWdg2pM5TvSlcIa+wn0QUlN5mDh0fbUvt522kpfM86LfNP9GECcvIJ6bkFQpcshe5OYymY1lFrygo6vpumt/LhkRCY+r4vRf5hmaWuEij4PR46rLgLhVEbSe3XsvpXrHOJr85k5q3X6H9orK/TfuFITnHR5Nt+3m0cek88vhtM/00YQIt84mhElXgksnLzYFGvw6USBFF13fPp142IhIad6TvvXwpNLNYwerntLbXENpbYjiT082Zzan9isclyi9+Ych7oUqlR6c8aNZ/RtG6W+Ut3uco9cl52jbWkSTiT2joL2fobuEAr66gP8qDVlB7EwmZNO1HExZvpUW9Tci46QjyvP6QLi18/2PBsv1n6MDXTUgibkCjtt+lxIQA2uRel8Q6rWjyybDKj78VHSdIThcm2JK0fl+aucyTtq2bSW5uC+l8YUcpMTYd8S05Dr0Ipxtr+lEtsTn1XHyBwhLDyGdhZzIWWdDnK3wpIuEJHZvamnQlDvTV3qDy2+/mU7q99xtqoSOmhqO3kX90qS8ll0A+C7qRrVRAYn1zatR3Od1I44jLeFRx+5Qbd4HW42CCzwLqZislgVifzBv1peU30ogjKmdcect+SURarg5+RxxHaekFFJ2j1nIVGE8FeXIKT5VTRqUSJc37I9KVJKvoCtgPjFOqKD5dTunKSl6J/H9CpVIRqXMpOTqW0ssZBOUXJpCtwWDyysmhxOgEytJ6kFBQRmw0JecVH7VUpCk+maJj06niMVZFmUkplPuGPqDOzdF6Rac6N5Gi47PKJlClFKRGUWRiLqk5GeWV7nDqXEqMjqesd/hyVZ6WOCuzXXUOJSdnFV7pKaf0xNRKXNmqUWHMxWuWmUQpb9oBZUun1KhISsxVEyfLq/g7rDUGjtL9NtDCbbcp6vkjCrrjT9evnqMj676kGfszin1YW/96EzXlJCdTVuFH5OmJlFpOo6ky/GjZD79Tgtb6V65vFt9ubmI0xb9rRyq4QBPsW9PihyoidSbFRqWW891RUej2UfTl9shKXwHMpV6gpfM86eSpi/SkeNLEpdKJCf3oB7+cd6vzm7esJQksoAsT7Kn14oekIjVlxkZRajmDhCp0O436cjtFVjbQ1L00uPe6EkkUl3qCJvT7gUqH+N6TwPegov6ozkmm5NedmhLL69RaVNVYUNnxV/v3WJMEGgz2opycRIpOyKLSh5h3G5vKqevfaD91bhLFJOWUqd+bvcX4pc6lpJgkyimzkb85rtD7TAKZakWTBA4ir8p/VximchR36YcWjWny1eJHZhXFnvOk34KrNBt/jUuiG1v/SyeeV8kU2FtT+M8ihyZz6HZlwufS6YbnEvr9cV6lys7443vq3NqFen29nnzjiw5Icnp+cAEtOPhXJQ7i70qTBOo3nU4XIpMoOaOAOIU/zXJoQnMqFyil3/CkJb8/pspEWnD2G+q+IPB1PPLndHDBAjr4V7FtqXIpLTmRwvYOI+vaH1ES+JH1x6pXmAQO8qr0D1vm3XxcT29i/j/Ik/Eg+C9kK9Nw1zcUvXs4wvI9r4VkqjFxffQaZINxI5sjqFUr1DEQQs+iHpwGTcXM1v/QE4eFVug06fsPf6V/IYXMEO2/Hazlog4thGboMmMurG48RDTXAfYVLJDmwrZjY8okXAtejpgTszDtl1vouKELxCkPEdtwFla6WFRhGwhh2nc5DtukQv4oEHdrtUKfZjIYtv8WgysXKMy6zMBcqxt4GM2hQ0WBQol7fkloPcip8KIQHikPY9Fw1kq4WLyOkM+LxeO7L5BtOgrbdtmj9cfyeNSPrD9WNXnyAwT/lQ1l2l34hvZGD0fLt3ieN/M2BETlLUNmGO347Bg8i0yDkgcglMC8bjPYv4cr6ximOHV2HP6KyYKkVj3UrWXwjz9Srzrgog9gyS6g38gW4J9dQ6jVWEzoYvqhq/VeqYNX4dvDEtjq2eGbZSPwCetIHzke2THPEJmmhOYQY466zezBDjFVgyWBDMMw1Zk6D6lpStSwNIPuv/JAyyE3PRdSc5N/4JZADPP/hSWBDMMwDMMw1dC/8ncfwzAMwzAMUzGWBDIMwzAMw1RD7Org/2s8Mu/sxOZbBci4vB1XrBbgzL5xqP+3Fz5XVbmasjPuH8C6tTtw2WwO7uwYDN13LotD0nVP/LTpFvKNTCCVmuKTGnnQGbAJC7sUrf5RIu7GLvx68AHy9Awg5QuQp7ZGl2+m4z/O5hACyA87h23bvHAjXAahoSVszISQy3Vh16YvRoz6Ao7G7yPuyuEz7uPAurXYcdkMc+7swOB3bhw1oq9sxM8ehxHi5Ikrqzqi5PWWHMI390dPrzY44r8M7f6hi24ZhmGYj8iHvD8N8zcp7tDclt1pQzRHXOJ12rX7BiW/j3tnVkW5eRH0V2zRPcjy6Ii7CZmMOPq37gHFRW+nvjWdaNG9wrvqJ16lHz6zogG/FT1FII+C1vUiW3tX8rybUXgTczXFX5hPn9k0pFH7w1/d4FN+ZSLVEenToP25REQkizxNs5yNybD593Stqu6VW0xexF9U1Dx5R9zJxGQEHf27N8ji4mljNz1qMMNP673eZI+P0sb9dyn9I74hO8MwDFN12Ong/2NclB/8IwTQ0QGE1l3xzdddUOs97NH3Xi6fivPzv8GGJ0VPLhZBV/fvTz0pHwUgWFYDNWtqyhJZ98CK7TNQJy0RACAPWIHxP91Hm2W7MK2NaeHaBxFs+6zEjkkmODntW2wN1zylU2BgCH2BAEJR4QPq6w7E8lk9IQzZh9985X+7rhXhU89j/jcbUNQ8Il1dvJeJOaEe9HQE5f5Zv/kwTB/TBmZsFGAYhqmW2OngjxyXGgAvr9vIJhkSU4Vo5j4Zo53NoXp4CD/vuIRoRTwubViONLsO+GpSL9TRdsqWz8LzW6EQt2mP+roAoMAL/wDAqSsaGZZ8q6K8cpGKAC8v3M4myBJTIWzmjsmjnWEuzEfcndM4eDQJLb+ywx2PE1AN/AVrB9sWlpiLe55fYsLO+7DJW4WV6a6YOaa55k+kRMSZNdh+JAhpVgOwYMVXaGUIQJ2M2we9cDUkAjGy+hg2Zzr62pe9uYOkoSMawgvLR81Hg8Or0P8TKcRNv8N8MzGAfFzbcwCh0k6Y41qr1OJXMRwHu6LZ8hX4zesppi9rqa3RkJmRCSUMYGSkJZHis/D8+mkc/yMWTaYMgNJ7O04+UKLVpJWY0eARtm7Yh1sJxug5dy0mt9ckoOrk2zjodRUhETGQ1R+GOdP7wl55D55fTsDO+zbIW7US6a4zMUzTOFBGnMGa7UcQlGaFAQtW4KtWhhX2CU2MeXh6bBd8YlRQyMVIzubL1h0A+FxE+J3A4QsF6LVyEtpKgfznZ7DvSjrEyjjEypth9LyhcGAjBMMwzL/Xh56KZCqQ6UuznTvRj4G5RMRRxrXZ1NKsJc29rjk/qbr7AzXV70YbY8s/n6eOP0fz+31Bc30SSjxLVB25ndz7LKNALc9bKltuJvnOdqZOPwZSLhFxGddodkszajn3OmWlPaVzCzuTkcSBhqzaRlt//JrmH4spWaDMm9xNbOhrn6JnMBXQ6S8tSK/JUFp9KJBCg3eSW20D6rYxmjgumU5NHk7Lg/KIKIuuTWtMhk4/UZDWp0jl0r0NX1BtiYBEpi1p9C/XKbHo/K46jFa3k5C44Uy6qfVc6EEaYiAg/YH7iYhIcWcONRYb0OB9qZQe/ZAu7/meutqa06eTT1CMtkc7qtIo7Oi31EhqR/2XetOdyFi6u6IT1bD+jCZs8KGQpATym/8pGbZbTaFqIi75FE0evpw0YV2jaY0NyemnIFIQkczbnUxsvqai5ik4/SVZ6DWhoasPUWBoMO10q00G3TZSNEdv6BMyClrdg7rN96cs0jwX9cvaEq2ng1WxQXR0lgvp1hxDpwqISB1Ca7v2p82JHBGXQsfnLKaLH8sjsxiGYZgqwU4EfbR4xB1ai73UA+6tDQEIYdrle0x0icD29d5IKWeCpwTlQ6wbMROhg3/Fmn42yD03Gc1bz8NNJSD6ZAA6q7fC83zem2sSdwhr9xJ6uLeGIQChaRd8P9EFEdvX45jaET27N4Wp2B59vpuISSt2Y62bXSUqJ4BOi+GYMbItHFqPhGtrIDIsHPLwfdjgk4rkc+uxdKkHrmcZQyfqCi6GqrWUYQjnWX/gT78tGNcgEd5zesO53xrczuQBUkChBCCSQPuTnySQiAFOUfxUrxLPjv+Esb3boe8PIRhwLhz3tgyBnbbZVbE5Gjg3Qi2xKVoNGIL2deugVc/2sM2WosnQPnC0skHbLk4w/uspnqk4hO/bAJ/UZJxbvxRLPa4jy1gHUVcuQmtYAAQ6LTB8xki0dWiNkZrGQbiq4j6RlHQUqzxk6DWuPYwBCC26oENT7dGL67jAtbMDXk1yUj5yMwPhte4UXhRYwnXKWDiyWUCGYZh/NZYEfrRUePHsBeQSKaRFB2phTbRobgtlRBgiykkeiks/sRqbCkZh+bh6EEGOWydPIlxqBksRCteLFSAjo+DNNXnxDC/kEkhfVwQ1WzSHrTICYYUVEQgkkLzzQjYhxCIheJ6HKuQpwq17YdripVi6dCmW77+LtMwA/NSyvIxECIv2k7D7zgOcXdgeSt8lGPvjNUBcG3Xr6ILSU5Cipa34zGSkFghh+Yl9sVelaDZiA455L0UH1VVsXH8R8RUk2wJBydPEQrG45KPNBEII1EqoeBVCnobDutc0LF66FEuXLsf+u2nIDPgJ5YZVolwRhDwP/g194nnwHQTLLGBtW1QLAQTlLwksSeyEqavHgfaPQGunAVj1TAgr9ngthmGYfzWWBH60RKhZ0xR81HOEKYq9KhRBZGldiQO0HIG+ATDp1qdwRicH8Un6GDzrKzQSAci+jTuh9dHG+c3PCRXVrAlTPgrPS1YEIpElrN93piCRQhDmj5vFpzr5l4iMzCz1xjyc/u9GPFIW/ldsiz7L92NRZwFi7/gDMEHvQd1hnBWIm38qUFqm3008pjr4YuhnZf6m22oO9v06EOpjkzB6zT3I3ktYAoT530TJsCIRmVmZKd0iFfeJWrpSSLhkJMRxb19BPhfS9mvh//gKlreJxsahfbHQv2y7MQzDMP8eLAn8aInRdOgwOOVfx9nr2ZqX+Jd4+CQfPce6wV4E8DwHjnjw5Tz4j+cI+gaGEALgU+/iodAdUwfVghBZ8F+zDAFdF2OqU9mpqNLlipsOxTCnfFw/ex2amvB4+fAJ8nuOhZu9CCACgQdfXj4jlEJHokBBAQeolVAD4HkexBV9gMATgec5SJ07o63wKtbO3o9QGQB1Em54bMDlHINShUpRM/kQ5m15ilepCvHgeSHMmrYAIIT1qFVY0i0LXsu34kmxTI5Pv4bV6y/DeMTP+LFHYbkcBwIP4gmACPajd2DPdzYIXj4aM04nQVtoxPMo0fREIHDF2oFARCBI4dy5LYRX12L2/lBowroBjw2XkWMghFCqA4miAJrmUQM8D564V9sknkA8D+4NfaJx605oW+Mh9m++igweAJeJrFweSqUKWrsIz2n2AwCo7mPPrltQ23bFrP2Xsa7bS4SE5ZSzQxmGYZh/A9HSpUuXfuhKMNoJa7VFd4cUHFy/H+GkRuT5fQiwmQePma2hn3gXR7dvw8HAcBQY2KNR/fqobVw8oROjtkUOvDd4ISIvAXdu5aOlw0tcCYrEw0O/4qzeNOxdNxC1Sy0ZUydoKdfUFm27OyDl4HrsDyeoI89jX4AN5nnMhJPiIby3bIV3cARUNRqjRZMGsNQrdQ5SqIeM27ux+ehtxOQYwNrwCQ5v9ca9BDFqt/sMNnGH8OsWHzxIN0Kr/lMwxjkTFzYtw9J1m7Bjnx9o8DL80MOi5KlWCCCN8MGGfT4IeByJ5PgQXNmxAl7pg+C5dToaGwsAkSXaDu6DWo+2YPGma4hMSUCI3xFsWLUP6X08cOi/Q2AnBvKfX8R2jy048SgVGbkEi/oOaGZXCw27t4Pw2nZ47DyPKGkDfNqmHoyLfjbJY+C/Zwt2XA2FyqIV2jpwCN6/Fb/5hUFh5ozPGsjgt3c7DgYmQL9uO4z+z0DUTbmATcuWYt2mHdjnRxi87Af0sBBBqJeB27s34+jtGGQJgOQrB+B9LwHi2u3wmU0cDv26BT4P0mHUshtcu35Rbp+ooe+IT+1S4OO5DBvP3Matm88QG/cCaQUSmDRtDycbvVetJ4++Ba8dO3AqOAnS2p+idVMFLs1fgcsCK+gn3sK16Kb4elZf1NOv7PlkhmEY5v+NgIjKmUdiPh5KZMYlQWlWG7UM3u70K5+fgtg0KWzsTCGFEhmxySArO5i/4/o9ZWYckpRmqF3LAG9VE3UWkjPEsLQ0rNz0M5eHpPhs6FvbwricuvKZqUg3sISFOhlhz+Mgr1EPTeqbl3OPPQVehr9AqqQOGn9i8sHujcTlJSE+Wx/WtsYl6qnOSkaG2BKWhpWdnK+gT8hfIjpJjZp2tSCUy6FroF+JNldDrRZDIE9BfKYEVnXMUPamPAzDMMy/CUsCGYZhGIZhqiG2JpBhGIZhGKYaYkkgwzAMwzBMNcSSQIZhGIZhmGqIJYEMwzAMwzDVEEsCGYZhGIZhqiGWBDIMwzAMw1RDLAlkGIZhGIaphlgSyDAMwzAMUw2xJJBhGIZhGKYaYkkgwzAMwzBMNcSSQIZhGIZhmGqIJYEMwzAMwzDVEEsCGYZhGIZhqiGWBDIMwzAMw1RDLAlkGIZhGIaphlgSyDAMwzAMUw2xJJBhGIZhGKYaYkkgwzAMwzBMNcSSQIZhmH8r2TMcmTcE7Zo0QpP2Q7DgWBjyP3SdGIb5aAiIiD50JRiGYZj3jE+Hz8LpuGQ7BH3rK/Dw9+VYeYbw7eUH8Oii/6FrxzDMR0D8oSvAMAzDvH986jVENVsFj//YQwSgbxdzxDQdgCsXn0LZpQ2kH7qCDMN8cOx0MMMwzL+Q0GIgvh2pSQABALp1YW8tham5+evXGIap1thMIMMwzL+RSFpyti8rGH+m9cBXI+uyJJBhGABsJpBhGKYaUOLh9qMQzv8vvrRlwz7DMBpsNGAYhvmXy769Eb9Jvse28Q3Y6R+GYV5hSSDDMMy/mDzkIDwDP8WiOZ1gKgQADhz3oWvFMMzHgCWBDMMw/1LqiCNYsicPvQbVgywmClERT3B1sydOxrEskGEYdp9AhmGYfyU+6Q9M7jEcO0PleD3IC2EycA/CTo5DLTYFwDDVHksCGYZhGIZhqiH2W5BhGIZhGKYaYkkgwzAMwzBMNcSSQIZhPkp81nPcDIiAvOgFxQv433iBvA9ZKYZhmH8RdssohmE+MhwSfBbh2208puxcA92il3Xqo/bzURh2czaOL24LgxKf4ZH+8AJ8w3LBV1S0QA/1u7jCxYr9/mUYhmFJIMMwHxXlw3UYMTMUYy+dRD+bXJyb3AlLDLcgYF1nfDKgM9ROnjg/+zCGGRb/FCE37hnu339ZcRIorAFxqy/KTQL3798PhULxHqNh/gn9+vWDra3th64Gw/zfYUkgwzAfkXScWL0JBaMuYFw9ESC/hZMnwyGdaQkRAKGeHnQKMpBRAKBEEiiCves8/Oz697b+559/QiaT/b1CmH9cx44dWRLIMO+AJYEMw3w85IHwDTBBt1mOmsEpJx5J+oMx66tGEAHIvn0HofXbYJlp6Q/ySLl7Aj5Pst9wOtgADn3c0dFWpPXPnp6e7yMKhmGY/wssCWQY5iPCgyN9GBgKAfBIvfsQQvepGFRLCGT5Y82yAHRdfA1OZUYugjIrBfHxaW9IAmvAsqDKKl8l1Go11Gr1h67GR00qlUIoFALIw7MzxxHRyA0DHA3f+DmGqe7YzaIZhvmIyHB7aR9MCe6I/3TRRa5+PdQIDwYaWiHq+iMYj1mDxQPqQudDV/Mfory/C90W38Z93yMfuioftfPnz6N79+6AwhdTGveFzxcX8HxLj2rTTxjmXbEkkGGYjwyP/JRYpEltYGcqBZQZiE0mWNmZQ/qhq/aPysYfM+Yibf52jLdhVzNXljLzJfKNLGDCznMxzBuxkYVhmI+MEPq17DUJIABIzWBX7RJAgE84gXMCVwxlCWAxeQjePhEDO7VCi25TcCSi7GlyqSlLABmmsthXhWEYphTuZTAO/fIz/nTaAY/hZh+iBgg9cAtWI7bD+HWlEHzoF/z8pxN2eAzH+65V5rlFGP9bOlp1bQWbep0x5osmr+/RWClZuO99DKku49G3HuHZwSXYEZgLiMSQCHmo1IBYKgKvVIET1kLPmT9goL0IAI+UgGPwE3SDWzvLVzMTfOpdHD99H9Fht3ErrS0W756OVhEX8aTRcpzy18O9H3tg5JrLGLy7HzvtyzDviP3EZBiGKUadGIzzPl7YtuUsQjIrf0GG8t7v2Omf/X4qIb+Dgy+a4z8u0qJKIfi8D7y2bcHZkEy8/8tEeChi78I30xHjp0zEhLdOADPhv3oezlm44fN6IkD9DCe8n8Cq3xQsXbcGA3kfbD+Wg27Lf8F/Fw2C9PFzKMyLrtAWolb7wWj+7Bes9U1/dWGP0LIt3L+djBkDzBBy4wleEiC26wP37pYQwggt27eEhW51mx9mmPeLJYEMwzDFiG2c4TpyAFqZvd3wqAr1wemHeRVfnVxJmeePIbPrKDQoypPENnB2HYkBrcyqdtAWiN7h9BCP1NNzsChuML7vbqqpX+5LOE7ajR/6NoaZMAy+fjEw6NATHfUBca0OcJ06DF1LPPJFCsexo8D9MhG/R3OlqiTGqxv6GBgWPilGhsC7hBHfdWWzgAzzN7AkkGEYRhvBB9ouH4ujFyQYOLiWlgH6Q1UKyA37A5uWzse8pV4IziyW6qofYcvKQLQe1f31/btNe2JYX82pXS7OF9dDJWjbq1vhqW0ddB3iCsvSwYmbwb1zEtZt8H/9vOhyZN05iIdtlmB6c7aiiWH+DpYEMgzDfETUTw8gqPZIdP9obnPHI/3qfAz94Rmcpy/GpCbXMXncHhRN2KkfncSZqCZo66RtTo5Huu81PCAn9Ohh+YYDjgj2zs2h8DmOOxU8uS//2RmczOqOyf3rQJAehais9zH3yjDVE0sCGYZh3gHPca9u5KxWq6HiePC8usRrHPe2CUo+/A9GwmmM0zteDc2D40rWofS/t65Tri8WzwhA9zXz0N7MAHUHDEGzB944m6wppyDkCSKMLGAh0fZhGfx8A6Fw7I5e9iWf0sKnnMPqNRfxslh1RLWsYJ7yFI9TtNdRHf47xg7/HhsXj8Bnzq3hNPIg0g3ZYYxh3hWbS2cYhnlb6hDsnjgHJ+Jer1/jU57gseoruJ5/nQ0Jzfti+e8z4VLZjC79HE7k9cQSe+2PtXsTPvE45kzYg5AKrhwR2bnj/K6vK1siEo944rj1MNxrXFgndT5kChVUKs1/VQol+OLr9oqT38HV2zn4ZEhPNCl1tBEaN8Rn7UUwKpbDCXR0IKEcZGbxgF3Z5E7cYByOPR1XybozDPMmLAlkGIZ5W+Im+Hb3eXxb7CXZ/mEYlu2Jc9NsK3GKRYmEh88haN4cNq+yJw5RRy7DYMivsHjHyS2hjTs8fNzf7cPa8Ck4e+I2zJx+hFVhnbJvXMI9286YW1vzgr6FBYwU+cjX8tgB5cNr8E+2QOeeRh1AnwAAFnlJREFUziVmNvnscPhd8EWcrRs6F3ud/tfefUdFcX1xAP+yuyxI+YEoihAVTaLYYlAIVgQVI7ZYAFsUa6IoiMSagjXWxN5NLKhRklhQsURRUVFsiR01IAgqTQFZyrLszP39ASrCUu3Z+zlnz9HdmbnvvZnZufvmvUGphAomqGzKvXuMvQl8pjHGWBEiROHpv14t4cFJbJozGB1bdIP/oQKPlFFfxda/62BAO4PiS/W6ClWc1CM4fF4FElR5/1dexeolV+E62xfN8rsQ5HYt0DQrDveKjM1T498jIYg0bIEObV6sk8SkJigsACfTjF64CKnj4pBobQcHC740MfYm8JnGGGMFiMnXcXDjNpxMzMXto1ux/3xsqbNVy0NavQW+nLwA4zsoEDh3LSLy87rMkN8Q+9mX0DjhVUzG9YMbse1kInJvH8XW/ecR+yoLVQzFib9w3sYbXiYHsGrTSvj7rIDKbyeWdqny7OIhqdEbgzrEIuy04vmKqhic+PV7jF9zGQIl4e/9x3CrYJIo3MOF21Zo3apgcpiDC0cvoFb/wWW/fc4Yeyl8O5gxxgqQmDeG66hNcB216fUEkMkhQy0MnjoMizssw/x9I7Cphxp7gnLQ+cfamn+ZS8zR2HUUNrmOwmsqlQZKhB0Og4XLHnhNa4yMuDjk9h8D88KTgCXV0W+WLw7O3YHoXl+jjhSA3BpOw+fBafg8zZtOCcM5nRZYaPr8LTE5GFvudMW8HU34wsTYG8I9gYwx9gpU+nwG5vcxL/OXqn6r8ZjYORt/zF2FK3e247ipO7pWfq1FLJWQ+C+u3EtAYqoSouoi/jplAOfPG0AGKUxrWhdNAPPJbEZi+TAlNm+9hswyxFGeO4MnzR1R8+l4yJw72LH4IpyWzoCjcf576gw8ToxHdOQDKDSMN2SMvTwdIuLTizHG3oKc8Cmwc9qISi06wm1lACY1qtis4FdSlugzOHwlCSIASfVP0bnxbcwedwu91oyDbRlvz2bePoHLem3RusTZzSqcmtgb+3ruwoLWcgAiEs8dQ2zd9rAvMCNGTLuJ0JN38EQEdPSt0bLTp0UfMM0YeymcBDLG2NsixiPArSnGqX7E9b0jYfUfT3LUF3/EV9t1YVWpFkbM6Ifaby/nZYyBk0DGGHurVJdWY3XSAIxzNXnbRXkDBCgeKyCvYsp/85exdwAngYwxxhhjWug/fvOBMcYYY4xpwkkgY4wxxpgW4iSQMcYYY0wLcRLIGGOMMaaFOAlkjDHGGNNCnAQyxhhjjGkhTgIZY4wxxrQQJ4GMMcYYY1qIk0DGGGOMMS3ESSBjjDHGmBbiJJAxxhhjTAtxEsgYY4wxpoU4CWSMMcYY00KcBDLGGGOMaSFOAhljjDHGtBAngYwxxhhjWoiTQMYYY4wxLcRJIGOMMcaYFuIk8F0lPkToYi/06dYV3QdMwuqT96C4fQA/jXVDt67d0c9vKfZdS4MIQIgLxeoJA9Gjz2j8FBKN2ytcYe0wDeGqIhtFyqUATHFvjWZf74ayfAUqdV0hcgVcrR0wrWjgchNTLiFgijtaN/sau8tXUAACIottg9dFROqZNZi1YDHGd6yPxl9uQpTwpmJXzMu18ZuXdikQ6w/eBaDGjW3fwcfbBz6+fvjGzxc+Pr7wm/ANfH184O37I4Jiiml8MRFnA39HeJL4Rsv+RgjJuLhlCtzHByLlbZeFMfZe4CTwXSWxRDtvLzR7dAyHIyqhVavaMK7fBd5DGuDBkcOIMnNBlyamkACQ1myHwc1FpNgMhXeHOqjZbhj8xnZFPdnTjWXibmQcBEhg1rwPbCU3EZ2uRtkug2VfV2rZDsP8xqLr88AVr75Zc/SxleBmdDrU5b5eS2FZpA1eM9U5zPX6A0Z9x+HnLWvh61wHRjpvKHYFvVwbv1mpp+Zg0n5zuH1eF1DfwM7Aa7DoMgbTF8zFF2Iw1vyRDueZP+On73pCfvU2cqpINW9IUh0tezXBjZ/nIeTxO17p8lA/xMUDwdiyeiX23UyF+m2XhzH2XuAk8F0ma4hhIzvC4MYe/HEl72tdr9kIjGinhyuBW/H3s2/6LJw5p4Oeg5tDD4BBE3f4DPoMZhIAEJF0YDJGLLqWf2GQQl9fXsYClHNdgyZw9xmEz8xezWEl1ddHWUtatCgF2+D1E6JDcSpKB3p6gKSGE0YMb4fq78HZ9TJt/KaISXsw4bs49PqmPSpLACiS0WD0L5jiWh9mklsICb0Hw9Yd0cYAkFVvje5j3eFkWMIG5Q3gOUDAz6M2obgOw/eOzBJ23fujx6dm/KXOGCuzN9VPwipEghq9BqDTZE/8vuUMfmjuCD2JKSyqG0A4EYiAU/6wd9YHFEex+1ErTPpYCogKRIXuxPaD2XCZPRoNryzB4JHrcMkyAz/Ofozuvu55myYVooLmYs2O83hk0QNTZw3Fp0YvRldcKM+6IhRRodi5/SCyXWZjtIMcyLqNoM1H8FimQlysEo0HTkIfGw2HXEYEdm8+hLicNMQ8+B86eXujs/XT1ISgigrC3DU7cP6RBXpMnYWh+QUVks5iy5YwPKFMPEySoLGHFwbaVYGkUBs4yAEgAxG7N+NQXA7SYh7gf5284d3ZGnKokRC2DVuO3kTUvUx86D4BPq7W0NOwN4qLl3v5N8xfexgxOfdxeNFMPKrVGkNHu6Cmhs4oMe02TkfI8FnLD6EPADl3cOosYOtUD0ZFFy9Ajahds7HoUAJM7YbA290Qx5etxfGHlWDTYwS+6voRUo8tw7ID+ujz/Wi0MEpA2LYtOHozCvcyP4T7BB+4WmuqVUltLCA+dB02nFXDWB2LBybd4DemJbIOLsbSoChQnc4Y7d0bNrp3cXD5KoRIu8BvXHtYiuWJnUdxay827QhDHBrDY9xA2FV+msqocWXlbIQ3X4xVTxuocke4u+bvk7gQHI/QhcMoZ5gAAPTg1Lt7ibEAQNbYA47xX2DRqQFY5qRf6vIVVfH9XVHvePczY+ylNZh9BSlZmvv7l/Spjf7Nq5Z9Y8Tecem0e7AF6VoNp/0KIiFxCw1xH0y9rHTJckgQpRNRSuAIGrz+AQlElBt7nn4fb0/6VQfR7mwiokwK9DAly+HBpCQiomzaM9icKjXsQ3N+C6eIi+vI7QNDcl4aQ0KR2OVYNzeWzv8+nuz1q9Kg3dlEpKab85yo24qHJJBAiX9OIP9DyqLVSwulbzu508oIJRE9pu0eVcm40yq6LxBl7xlM5pUaUp85v1F4xEVa5/YBGTovpRiBiFJDyM+uLX0friAigVKO+VFTs6Y08Xi6hjZIo9BvO5H7yghSEtHj7R5U1bgTrbqfSwm7vajvzPOUQURpx7ypvpEt/XA+p2g5S4hHRJR7bgo1MnCmpbFFWzGPmu7vn0xduk6k4AfqF96/u8aDOs8Ip4xSjgThUSD1szCiLusTSSCi9INfkbVRZ1qbmBdT/e9PNGzKaVIKCbTbqy/NPJ9BRGl0zLs+Gdn+QJqqVVIbCzGrqbN5O1oULRApT5D3x9Y06oiSKPcqzfrMgKyGB1NmXu3p6o/DaNqFHKJyxM6vFT06MolcvphDZx5n0N3AoWTfYx1FP22i3Iv0fVMzctuu0Lhu4vquZCRvTQv+VWv4vCRKOjLKmuqOCSmmWI/on/2BtH379hJfO/acp3iNu/zl93f5Keno6NpUqdNqSnzl22aMvSvMJl8geIdrfP16pnxnP985eOcZo1P/HrBICsKW4Me4v/sA0HMefD3qIHlvAPYmJWLfQQEuX1hAAkBW0x7dHW1gXGKHgA70PumLcf0dYNO8P7o3B+7eikRumcpTzLqymrDv7gibZ4EJWYpUhG9ZgN13slGt+xh4NijcCygiJmAWfq81FMNs9ACYwW3hLmz17/bsVqqO3ifoO64/HGyao39eMETmioj7bR42UAd4NDcCIEHldt9glH0U1iwMxGOrF9tAjAnArN9rYegwG+gBMHNbiF1b/dGt6l1sXhSMpIT9WDh9OhYfT4OJXjSOHIooUs6S4iWWYWiZ6vIC9PONQK9lc9HFUoH9Xk3QfNJJqCBF7R6OUK9aggMZJW9DUqUHRvaphjNB+5AoAsatnWAnC8OuXfEQIeB2UCwafOkAWeRmLApOQsL+hZg+fTGOp5lAL/oIDkVo/uWouY0BiVkzeEz0wuc1JBCzBECahJjoDEDWCF/5uCI3eBsOpAJQ38ShNDt42sohlDM2FCHwH3cW7edOQkszQ9Tp0RuN/wnEvoT8Rs2+iWtRxjA319WwciZCQ8KR06A9XKyLGQNYLCmqW1RB4vWrmj8mBeJuXMKlSyW//r56D0807P+K7W8RgqCGWl38SxD+Q+MYGWNvHd8Ofg8YOPdHz5obELB5GerqG6Dbxhpo1bAvGq1YgoA1a1EZHbHKvKL5vAQyqQSiWJGLS0nrymA7dg6GHBmEfs2D4eq3GMu+sy60jApXLl6HnsXzcUyyWm3Ro1bevwunDRKZFBJRhIhc3LlxB0pdZ8if5pySqvikiRVU+24hSg00KxjlykVc17N4Pj5QVgtte9QClHtwPbIGXNb5Y6pNXhIxfaamepYer0qJ7fQYO+csR/aAgxhSVwooT2PXrkjIfatBCkBSqRL0slOQkg2UfI9QH45D+qFmh20IvOcJj9BQSNrUw7ntgYge3Ap/xDbAkAYy5O69jsgaLljnPxV51ZoOjdXS4HkbAzD+DAP7ZiJgxRKc+cAYuTIdiIIAQIJqvbzgPs0NG/98iG6N9iKl6UjUlgKqm+WJLeLhjiX4s4Y7LtTPT+LUWcjMyUXu018kuTlQiVLINOV4yjM4GpaO2r07omG5v8l0oKenC0pP1fyx1BrdJ81H6TeWNanY/hYf/okJI3/FzRJmdUhreeDA+uEVKhVjjBXGSeD7QK8V+vasi9XL5mOb55/41gSQNRmI/vYL8d3c1XDbcANmb7uMRYhQyFti3qmr6LpyMnxm9IFr5hFE/NS2wDI6kMuliPv7AuJFB9TOT9KE5ESkVamO4sf2S1G1amWI0bdxKweob5D/rkQKabUasCiUMOjI5ZDG/Y0L8SIcngdB4mMp5Dq3cOpkIibbWOYnoiKS78bAvG7dCscrQhmOkLOmcB7fIO+ES7+PeINeGD+0HqQAnoSdQcSHn2FG5VK2A0BmOwgDG6/Atk07kZFgjakrbJHe7Bf8uv4hslpMRk0JoNKVQ+fWKZxMnAwby/z6ism4GyND3bplCJJPuLUavXsdxheHd2KkZQQeLgTuPv3QwBFfDaqLtpvXY4NTLlpNrJ7XfuWJLSZi384wmNl+D4v8RZ+cOIwLVo6Y+EH+GwbmMDfOQVYWFSmf6vIxnEowh2NHuwpMbiEolSrApJj2EBNxbmcwrmnq5itAx9AGnT3awKrgMVDB/S2x9MDiYI9y14QxxiqKbwe/F+Sw79sL9SQW6NqvfV7ngfRj9O3fGvqGbdGjc6EUUBQgiiLyLpsSyPV0kZOdDQFqqNTI++zZbSWCSARR1DRNsrzrihBEESIBQC4u/boep9VWcBofgL8WOCP55q1C29eDQydHVAqdhzFLzyJZDSijgzB/44W8XkBRhEjCs8fRkEggUYQAGRr1cYdt1nHsO/4kP3QyLl/LQkdPN1hLX2wDPYdOcKwUinljluJsXhAEzd+ICxI7ODpIcHSeHwIiMgGoEX9iMRb9lV6onKXHE0UBAj2te2EiBDKAoZEEgIikc5ch8RiLntUlQNopzJ1xFk7+Y2ErA1RRwVi++HdcVWjaDgBpPQwY1BJ3lk7Fv22H4JPabhjUPhrLlmfBpbs5JADkdo5wkBzFPL8A5FUrHicWL8Jf6RrS6mLbWETcgR0IUVSFVRUpkJOEpDQRgvB0WRkaDxkKh6s/Y626E1zyZmWUL3bqERw+rwIJ+Q9zVF7F6iVX4TrbF82e/jyV26FF0yzE3Usr9FgiNf49EoJIwxbo0Mag6LYz7+Lkset4AgBiCq6EXsKLjwZUIy4uEdZ2DprbmVRIS7yP+/dLecWnILtoo5Z5f79qz87FgnXNuIGgTXsRUcpwA8aYFnpN4xbZq5Z7kfx7T6CTBeZWCA/X05fDt1NKgcWyo0/ROs/6pKtrQ57rwig2V6CYX3qQuUl96jJqBgUEbabhDXVJ9tEAWnPuIT04u5w86shI71Mv2nWr8FD1cqx75QadWudJ9XV1ycZzHYXFZtBf4+zJaex6Onh8Ly33GkT+Rx8VrZfwgIKnOpOVXIdkBlWonutMOvFIICHlCm0d3pB0ZR/RgDXn6OGDs7Tcow7J9D4lr123iCiHonZNIJc2buT/yzb6ZeZIGjrtED0UNLfBg+Cp5GwlJx2ZAVWp50ozTzzKm0gTGUij7auQrq4xmVt9TI5jAylS4ySG4uPl3g+nrd72ZCitRh1/CKSz97ILrZtBp6e1oaZdp9DCBdPJf0UA/eTrQz+tnENj3PrSt0F38yfeqCliQRuqpCOnNgsjiz8WHm2nAW2+oVP5YdL3Difniafp+aGRS5GBo8m+ii7pGpuT1ceONDYwkgpXq7Q2Vp6fRS1Ndcm0URca6b+KvutkSiaN+tGSsMf5k4ge0W8DO9K0f3ILbLVssYmI0v8cSFYtJ9HS6ZNo8cYV9MPIkTQj+B7lvrCUQAlb3Mhm4B+U9mxXRNPxXyaTi6WUJCZt6JstIRSR+nx2hpASQj/0/ZoCbqfRzX1/UniKQGk7vWjwmrv0bIqG8iT5NmlJs66+GO3VKOv+foWEJLp2YDV5NtAlWe0+9HPQOXp6GCqPelFt3drkdfSVR2WMvQWvcmKIDhFp7Ltg7xoRGYosGBgbFei+zUFGhg6MjEq7GaZGWkIKZNWqwajcfb8VX1etVkOmo0Ti/VToWtSEWQlPCREyEvAgwxCWFsblHKOgQmpcPFRmH6C6YSn3ZYUMJDzIgKGlBYxfCCIgI/4+nhjUgJVJaW1ZjngvEJGVGItHckvUqiwHVCmITSBY1KpS6FamGqkn52BB9AjM9bQsriLIUChhZJzfuyYq8CTLGCaFxxMKGYi//wQGNaxQarWKi6RIxCOxKqqbSIGcFMSn66OG+fOeNyFDgRwjYxTpiys1thKHvmqA72vsQfiMxsiIi0NuNWuYazpG1Lew1nMuMHsDvq5TWpurcXV2TyyqtxEbvvgboz9ZCttj+zEs9lt029YR+1Z0hB5EJO8ahSEXvsSOuY4wLleLlFVZ9/eboEJqchaMzU15/A9j/wGbzyVDWcwT/p0++h/qV69U5m1xEsjYO0RMCMXabY/RYVzvN/fXTt4G1Wn4Nf0a0l//wcJWpadFYkooli+LQfuJnmhS0oOgkYy1Pb+GbOMuDMcm+MyogVlLnBA5oy/WNt2AdT3NkHPnN8zYBAybPgAfvetPymaMsdeIk0DG3ikitGKoruIw/MfdQq8142Bb1kQs8zZOXNaDU+vCs8wLykH4jP5Yqd8bn//vPu6kmcHG5B4uZrtg6ngnmCMR547Fom57e1R4Qj1jjP1HcBLIGPuPUUORkgG5mSl0s1KRLqkM09f3R0EYY+y9xUkgY4wxxpgW4hsijDHGGGNaiJNAxhhjjDEtxEkgY4wxxpgW4iSQMcYYY0wLcRLIGGOMMaaFOAlkjDHGGNNCnAQyxhhjjGkhTgIZY4wxxrQQJ4GMMcYYY1qIk0DGGGOMMS3ESSBjjDHGmBb6Px6XpxB0KyeYAAAAAElFTkSuQmCC)"
      ],
      "metadata": {
        "id": "QBf-dzmC0zug"
      }
    },
    {
      "cell_type": "code",
      "source": [
        "omega = 2/(1+math.sqrt(1)) # el radio espectral es 0"
      ],
      "metadata": {
        "id": "pDDK8kfQ0kwW"
      },
      "execution_count": null,
      "outputs": []
    },
    {
      "cell_type": "code",
      "source": [
        "x0 =  np.array([1,1,-1])\n",
        "SOR(3,A,b,x0,0.1,10**-3,47)"
      ],
      "metadata": {
        "colab": {
          "base_uri": "https://localhost:8080/"
        },
        "id": "OHjv0T8m0yo4",
        "outputId": "ae0ba2d6-8a71-4128-aec7-f51f43cbda93"
      },
      "execution_count": null,
      "outputs": [
        {
          "output_type": "stream",
          "name": "stdout",
          "text": [
            "0 [ 1  1 -1]\n",
            "1 [ 1.2    1.08  -0.856]\n",
            "2 [ 1.3928    1.11832  -0.772624]\n",
            "3 [ 1.5753312   1.12621728 -0.7356713 ]\n",
            "4 [ 1.74542036  1.11262065 -0.73371237]\n",
            "5 [ 1.90161173  1.08456864 -0.75757721]\n",
            "6 [ 2.04302138  1.04756736 -0.79993723]\n",
            "7 [ 2.16921833  1.00588252 -0.85496368]\n",
            "8 [ 2.28012725  0.96277791 -0.91804834]\n",
            "9 [ 2.37594928  0.92071002 -0.98557537]\n",
            "10 [ 2.45709727  0.88148683 -1.05473465]\n",
            "11 [ 2.52414325  0.84639729 -1.1233693 ]\n",
            "12 [ 2.57777561  0.81631693 -1.18985087]\n",
            "13 [ 2.61876448  0.79179387 -1.25297746]\n",
            "14 [ 2.64793377  0.77311886 -1.31189024]\n",
            "15 [ 2.66613857  0.76038214 -1.36600536]\n",
            "16 [ 2.67424722  0.75351974 -1.41495821]\n",
            "17 [ 2.67312691  0.75235089 -1.45855795]\n",
            "18 [ 2.66363245  0.75660835 -1.49675032]\n",
            "19 [ 2.64659747  0.7659628  -1.52958734]\n",
            "20 [ 2.62282769  0.78004249 -1.55720264]\n",
            "21 [ 2.5930959   0.79844891 -1.57979134]\n",
            "22 [ 2.55813826  0.82076933 -1.59759372]\n",
            "23 [ 2.51865182  0.84658659 -1.61088203]\n",
            "24 [ 2.47529292  0.87548684 -1.61994978]\n",
            "25 [ 2.4286763   0.9070655  -1.62510316]\n",
            "26 [ 2.37937494  0.94093178 -1.62665419]\n",
            "27 [ 2.32792025  0.97671199 -1.62491522]\n",
            "28 [ 2.27480278  1.01405204 -1.62019466]\n",
            "29 [ 2.22047317  1.05261898 -1.61279362]\n",
            "30 [ 2.16534333  1.09210211 -1.60300335]\n",
            "31 [ 2.1097879   1.13221345 -1.59110329]\n",
            "32 [ 2.05414577  1.17268785 -1.57735968]\n",
            "33 [ 1.99872168  1.21328287 -1.56202462]\n",
            "34 [ 1.94378802  1.25377824 -1.54533541]\n",
            "35 [ 1.88958648  1.29397531 -1.52751423]\n",
            "36 [ 1.83632993  1.33369621 -1.50876803]\n",
            "37 [ 1.78420408  1.37278298 -1.48928864]\n",
            "38 [ 1.73336935  1.41109662 -1.46925297]\n",
            "39 [ 1.6839625   1.448516   -1.44882338]\n",
            "40 [ 1.63609837  1.4849369  -1.42814809]\n",
            "41 [ 1.58987154  1.52027087 -1.40736176]\n",
            "42 [ 1.54535786  1.55444417 -1.38658599]\n",
            "43 [ 1.50261604  1.58739675 -1.36592995]\n",
            "44 [ 1.46168909  1.61908116 -1.34549101]\n",
            "45 [ 1.42260575  1.64946157 -1.32535537]\n",
            "46 [ 1.38538179  1.67851277 -1.30559875]\n",
            "47 [ 1.35002131  1.70621924 -1.28628698]\n"
          ]
        }
      ]
    },
    {
      "cell_type": "code",
      "source": [
        "SOR(3,A,b,x0,0.2,10**-3,47)"
      ],
      "metadata": {
        "colab": {
          "base_uri": "https://localhost:8080/"
        },
        "id": "1VqBNdZl3AVJ",
        "outputId": "fd25df75-7ea3-475d-a2b5-310870d96a9e"
      },
      "execution_count": null,
      "outputs": [
        {
          "output_type": "stream",
          "name": "stdout",
          "text": [
            "0 [ 1  1 -1]\n",
            "1 [ 1.4    1.12  -0.808]\n",
            "2 [ 1.7488    1.10784  -0.789056]\n",
            "3 [ 2.0402816   1.03602688 -0.86176819]\n",
            "4 [ 2.27310725  0.94655369 -0.97727893]\n",
            "5 [ 2.44895275  0.86290819 -1.10656752]\n",
            "6 [ 2.57137192  0.79736567 -1.23274905]\n",
            "7 [ 2.64505164  0.75543202 -1.34639271]\n",
            "8 [ 2.67531142  0.73856187 -1.44266348]\n",
            "9 [ 2.667759    0.7458304  -1.51956654]\n",
            "10 [ 2.62804842  0.77496794 -1.57685978]\n",
            "11 [ 2.56170765  0.82300478 -1.6153728 ]\n",
            "12 [ 2.47401509  0.88667537 -1.63657442]\n",
            "13 [ 2.36991216  0.96267274 -1.64229349]\n",
            "14 [ 2.25394323  1.04780825 -1.63453539]\n",
            "15 [ 2.13021713  1.13911025 -1.61535926]\n",
            "16 [ 2.0023859   1.23388287 -1.58679492]\n",
            "17 [ 1.8736376   1.32973776 -1.55078608]\n",
            "18 [ 1.74670055  1.42460732 -1.50915201]\n",
            "19 [ 1.62385671  1.51674491 -1.46356226]\n",
            "20 [ 1.5069625   1.60471588 -1.41552116]\n",
            "21 [ 1.39747518  1.6873819  -1.36635976]\n",
            "22 [ 1.29648348  1.76388077 -1.31723351]\n",
            "23 [ 1.20474107  1.83360311 -1.26912448]\n",
            "24 [ 1.12270182  1.89616702 -1.22284712]\n",
            "25 [ 1.0505558   1.95139188 -1.17905677]\n",
            "26 [ 0.98826518  1.99927182 -1.13826022]\n",
            "27 [ 0.93559933  2.03994963 -1.10082776]\n",
            "28 [ 0.89216851  2.07369155 -1.06700623]\n",
            "29 [ 0.85745569  2.10086335 -1.0369326 ]\n",
            "30 [ 0.83084617  2.12190797 -1.01064774]\n",
            "31 [ 0.81165466  2.13732499 -0.98811005]\n",
            "32 [ 0.79914971  2.14765206 -0.96920875]\n",
            "33 [ 0.79257544  2.15344831 -0.9537765 ]\n",
            "34 [ 0.79117043  2.15527986 -0.94160132]\n",
            "35 [ 0.79418387  2.15370738 -0.93243755]\n",
            "36 [ 0.80088913  2.14927559 -0.92601593]\n",
            "37 [ 0.81059469  2.14250472 -0.92205251]\n",
            "38 [ 0.82265287  2.1338837  -0.92025663]\n",
            "39 [ 0.83646616  2.12386506 -0.92033779]\n",
            "40 [ 0.85149179  2.11286125 -0.92201145]\n",
            "41 [ 0.86724435  2.10124242 -0.92500386]\n",
            "42 [ 0.88329697  2.08933531 -0.929056  ]\n",
            "43 [ 0.89928105  2.07742324 -0.93392652]\n",
            "44 [ 0.91488493  2.06574691 -0.93939395]\n",
            "45 [ 0.9298516  2.054506  -0.9452582]\n",
            "46 [ 0.9439756   2.04386132 -0.95134133]\n",
            "47 [ 0.95709942  2.03393744 -0.95748781]\n"
          ]
        }
      ]
    },
    {
      "cell_type": "code",
      "source": [
        "SOR(3,A,b,x0,0.4,10**-3,47)"
      ],
      "metadata": {
        "colab": {
          "base_uri": "https://localhost:8080/"
        },
        "id": "WMNcwf_M2xnY",
        "outputId": "70a07697-e0db-482b-8907-f219f0eb797a"
      },
      "execution_count": null,
      "outputs": [
        {
          "output_type": "stream",
          "name": "stdout",
          "text": [
            "0 [ 1  1 -1]\n",
            "1 [ 1.8    1.08  -0.904]\n",
            "2 [ 2.2928    0.89248  -1.090624]\n",
            "3 [ 2.5891968   0.73605888 -1.31457894]\n",
            "4 [ 2.71300782  0.68226378 -1.50496464]\n",
            "5 [ 2.67802195  0.74013534 -1.63750462]\n",
            "6 [ 2.5047012   0.89720258 -1.70402579]\n",
            "7 [ 2.22183802  1.13119665 -1.70484322]\n",
            "8 [ 1.86427092  1.41494691 -1.64628019]\n",
            "9 [ 1.46958086  1.71964788 -1.53915111]\n",
            "10 [ 1.07470932  2.01756544 -1.39731048]\n",
            "11 [ 0.71292485  2.28429352 -1.23616099]\n",
            "12 [ 0.41139131  2.50048398 -1.07119682]\n",
            "13 [ 0.18949014  2.65297306 -0.91668866]\n",
            "14 [ 0.05796471  2.73527341 -0.7846037 ]\n",
            "15 [ 0.01887714  2.74745467 -0.68382767]\n",
            "16 [ 0.06630041  2.6954837  -0.61972389]\n",
            "17 [ 0.18761417  2.59013411 -0.59403296]\n",
            "18 [ 0.36523485  2.44559971 -0.60508742]\n",
            "19 [ 0.5785912   2.27795832 -0.64829207]\n",
            "20 [ 0.80615441  2.10363005 -0.71680281]\n",
            "21 [ 1.02734636  1.93796061 -0.80232726]\n",
            "22 [ 1.22417751  1.79403627 -0.89596738]\n",
            "23 [ 1.38250359  1.68180728 -0.98902912]\n",
            "24 [ 1.49283303  1.6075628  -1.07373414]\n",
            "25 [ 1.55066226  1.57376643 -1.14378344]\n",
            "26 [ 1.55635746  1.57923025 -1.19474023]\n",
            "27 [ 1.51463808  1.61957901 -1.22421782]\n",
            "28 [ 1.43374539  1.68793638 -1.2318761 ]\n",
            "29 [ 1.32439724  1.77575337 -1.21924616]\n",
            "30 [ 1.19863873  1.87369499 -1.18941467]\n",
            "31 [ 1.0686955   1.97250466 -1.14660894]\n",
            "32 [ 0.94592642  2.0637758  -1.09572714]\n",
            "33 [ 0.8399535   2.14057494 -1.04185904]\n",
            "34 [ 0.75802492  2.19787861 -0.98983824]\n",
            "35 [ 0.70464147  2.23280588 -0.94386082]\n",
            "36 [ 0.68145152  2.24464725 -0.90719551]\n",
            "37 [ 0.68739671  2.23470787 -0.88200097]\n",
            "38 [ 0.71907096  2.20599672 -0.86925473]\n",
            "39 [ 0.77124142  2.16280336 -0.86878865]\n",
            "40 [ 0.83747124  2.11020898 -0.87941737]\n",
            "41 [ 0.91078167  2.05357967 -0.89913949]\n",
            "42 [ 0.98429367  1.99808613 -0.92538753]\n",
            "43 [ 1.05179727  1.94828778 -0.95530056]\n",
            "44 [ 1.10820769  1.90780982 -0.98599434]\n",
            "45 [ 1.14988128  1.87913112 -1.01480653]\n",
            "46 [ 1.17477865  1.86348982 -1.03949869]\n",
            "47 [ 1.18247638  1.86090282 -1.05840257]\n"
          ]
        }
      ]
    },
    {
      "cell_type": "code",
      "source": [
        "SOR(3,A,b,x0,1,10**-3,47)"
      ],
      "metadata": {
        "colab": {
          "base_uri": "https://localhost:8080/"
        },
        "id": "-S2SEqtP0k5d",
        "outputId": "750c46f2-72b0-4f5e-f5d9-6164bbbd9c50"
      },
      "execution_count": null,
      "outputs": [
        {
          "output_type": "stream",
          "name": "stdout",
          "text": [
            "0 [ 1  1 -1]\n",
            "1 [ 3.  0. -1.]\n",
            "2 [ 5. -2. -1.]\n",
            "3 [ 9. -6. -1.]\n",
            "4 [ 17. -14.  -1.]\n",
            "5 [ 33. -30.  -1.]\n",
            "6 [ 65. -62.  -1.]\n",
            "7 [ 129. -126.   -1.]\n",
            "8 [ 257. -254.   -1.]\n",
            "9 [ 513. -510.   -1.]\n",
            "10 [ 1.025e+03 -1.022e+03 -1.000e+00]\n",
            "11 [ 2.049e+03 -2.046e+03 -1.000e+00]\n",
            "12 [ 4.097e+03 -4.094e+03 -1.000e+00]\n",
            "13 [ 8.193e+03 -8.190e+03 -1.000e+00]\n",
            "14 [ 1.6385e+04 -1.6382e+04 -1.0000e+00]\n",
            "15 [ 3.2769e+04 -3.2766e+04 -1.0000e+00]\n",
            "16 [ 6.5537e+04 -6.5534e+04 -1.0000e+00]\n",
            "17 [ 1.31073e+05 -1.31070e+05 -1.00000e+00]\n",
            "18 [ 2.62145e+05 -2.62142e+05 -1.00000e+00]\n",
            "19 [ 5.24289e+05 -5.24286e+05 -1.00000e+00]\n",
            "20 [ 1.048577e+06 -1.048574e+06 -1.000000e+00]\n",
            "21 [ 2.097153e+06 -2.097150e+06 -1.000000e+00]\n",
            "22 [ 4.194305e+06 -4.194302e+06 -1.000000e+00]\n",
            "23 [ 8.388609e+06 -8.388606e+06 -1.000000e+00]\n",
            "24 [ 1.6777217e+07 -1.6777214e+07 -1.0000000e+00]\n",
            "25 [ 3.3554433e+07 -3.3554430e+07 -1.0000000e+00]\n",
            "26 [ 6.7108865e+07 -6.7108862e+07 -1.0000000e+00]\n",
            "27 [ 1.34217729e+08 -1.34217726e+08 -1.00000000e+00]\n",
            "28 [ 2.68435457e+08 -2.68435454e+08 -1.00000000e+00]\n",
            "29 [ 5.36870913e+08 -5.36870910e+08 -1.00000000e+00]\n",
            "30 [ 1.07374182e+09 -1.07374182e+09 -1.00000000e+00]\n",
            "31 [ 2.14748365e+09 -2.14748365e+09 -1.00000000e+00]\n",
            "32 [ 4.29496730e+09 -4.29496729e+09 -1.00000000e+00]\n",
            "33 [ 8.58993459e+09 -8.58993459e+09 -1.00000000e+00]\n",
            "34 [ 1.71798692e+10 -1.71798692e+10 -1.00000000e+00]\n",
            "35 [ 3.43597384e+10 -3.43597384e+10 -1.00000000e+00]\n",
            "36 [ 6.87194767e+10 -6.87194767e+10 -1.00000000e+00]\n",
            "37 [ 1.37438953e+11 -1.37438953e+11 -1.00000000e+00]\n",
            "38 [ 2.74877907e+11 -2.74877907e+11 -1.00000000e+00]\n",
            "39 [ 5.49755814e+11 -5.49755814e+11 -1.00000000e+00]\n",
            "40 [ 1.09951163e+12 -1.09951163e+12 -1.00000000e+00]\n",
            "41 [ 2.19902326e+12 -2.19902326e+12 -1.00000000e+00]\n",
            "42 [ 4.39804651e+12 -4.39804651e+12 -1.00000000e+00]\n",
            "43 [ 8.79609302e+12 -8.79609302e+12 -1.00000000e+00]\n",
            "44 [ 1.7592186e+13 -1.7592186e+13 -1.0000000e+00]\n",
            "45 [ 3.51843721e+13 -3.51843721e+13 -1.00000000e+00]\n",
            "46 [ 7.03687442e+13 -7.03687442e+13 -1.00000000e+00]\n",
            "47 [ 1.40737488e+14 -1.40737488e+14 -1.00000000e+00]\n"
          ]
        }
      ]
    },
    {
      "cell_type": "markdown",
      "source": [
        "Se llega a una solución aproximada [ 0.95709942  2.03393744 -0.95748781] 'decente' con omega = 0.2, a pesar de que la omega conveniente es 1; debe haber algún error de cálculo."
      ],
      "metadata": {
        "id": "JPVJAzad2oNq"
      }
    },
    {
      "cell_type": "markdown",
      "source": [
        "\n",
        "#Segundo parcial"
      ],
      "metadata": {
        "id": "YEzXJ2aXDNeg"
      }
    },
    {
      "cell_type": "markdown",
      "source": [
        "## Problema 1"
      ],
      "metadata": {
        "id": "hY_yrSFvKDhR"
      }
    },
    {
      "cell_type": "markdown",
      "source": [
        "1. Aproxima la derivada de la siguiente función y muestra las gráficas de la aproximación y la de la derivada obtenida mediante alguna CAS\n",
        "\\begin{align*}\n",
        "    f(x) = \\frac{(x-5)(x-6) \\sqrt{x}}{x-7} + \\ln(8x).\n",
        "\\end{align*}\n",
        "\n"
      ],
      "metadata": {
        "id": "F4SsespqDUPY"
      }
    },
    {
      "cell_type": "markdown",
      "source": [
        "**Respuesta:**"
      ],
      "metadata": {
        "id": "UBVxfosOki9l"
      }
    },
    {
      "cell_type": "markdown",
      "source": [
        "Se obtiene una aproximación a la derivada mediante Geogebra:\n",
        "\n",
        "![image.png](data:image/png;base64,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)"
      ],
      "metadata": {
        "id": "kpftZwm0AB0a"
      }
    },
    {
      "cell_type": "markdown",
      "source": [
        "Notemos que el dominio de $f$ está dado en $(0,\\infty) \\setminus \\{7\\}$, por lo que se procurará no evaluar en dicho punto.\n",
        "\n",
        "Para aproximar la derivada puede realizarse con distintos métodos:\n",
        "\n",
        "\n",
        "*   Fórmulas de diferencia hacia atrás\n",
        "*   Fórmulas de diferencia hacia delante\n",
        "*   Fórmulas de diferencias centradas\n",
        "\n",
        "![image.png](data:image/png;base64,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)\n",
        "\n",
        "*   Fórmulas de $n+1$ puntos: Fórmula del punto medio ;  Fórmula del punto final\n",
        "\n"
      ],
      "metadata": {
        "id": "XMDbAd2n0jHR"
      }
    },
    {
      "cell_type": "markdown",
      "source": [
        "De las fórmulas de 3 puntos: \n",
        "\n",
        "\n",
        "![image.png](data:image/png;base64,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)"
      ],
      "metadata": {
        "id": "NLeHHKpYg5tw"
      }
    },
    {
      "cell_type": "markdown",
      "source": [
        "De las fórmulas de 5 puntos:\n",
        "\n",
        "![image.png](data:image/png;base64,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)\n",
        "\n",
        "\n",
        "![image.png](data:image/png;base64,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)"
      ],
      "metadata": {
        "id": "ZpDPIlqHkLdK"
      }
    },
    {
      "cell_type": "code",
      "source": [
        "# correr esta celda nos da como resultado la tabla que se presenta después\n",
        "def f(x): # función dada\n",
        "  return ((x-5)*(x-6)*math.sqrt(x))/(x-7) + math.log(8*x)\n",
        "\n",
        "def backward_difference(x):\n",
        "  return (f(x) - f(x-h))/h\n",
        "\n",
        "def forward_difference(x):\n",
        "  return (f(x+h) - f(x))/h\n",
        "\n",
        "def centered_difference(x): #pag 206\n",
        "  return (f(x+h) - f(x-h))/(2*h)\n",
        "\n",
        "# Aproximación con fórmula \n",
        "N_its = 15\n",
        "x = 4 # se busca aproximar la derivada en 4\n",
        "\n",
        "print('|h | backward | forward | centered')\n",
        "print('|-----|-----|-----|-----|')\n",
        "for j in range(N_its):\n",
        "  h = 10**(-1-j)\n",
        "  print('| $10^ {-', j+1 ,'}$ |', backward_difference(x) ,'|' ,forward_difference(x) ,'|', centered_difference(x))"
      ],
      "metadata": {
        "id": "up9dWZRt2VNr",
        "colab": {
          "base_uri": "https://localhost:8080/"
        },
        "outputId": "132a0d63-b70c-4a1a-fd6f-238fa379b6d4"
      },
      "execution_count": null,
      "outputs": [
        {
          "output_type": "stream",
          "name": "stdout",
          "text": [
            "|h | backward | forward | centered\n",
            "|-----|-----|-----|-----|\n",
            "| $10^ {- 1 }$ | 1.6356011304720708 | 1.6406522142193314 | 1.638126672345701\n",
            "| $10^ {- 2 }$ | 1.638626665139764 | 1.6391358829378255 | 1.6388812740387948\n",
            "| $10^ {- 3 }$ | 1.6388633497985694 | 1.6389142756843 | 1.6388888127414347\n",
            "| $10^ {- 4 }$ | 1.638886341828183 | 1.638891434421197 | 1.63888888812469\n",
            "| $10^ {- 5 }$ | 1.6388886342255657 | 1.6388891434182538 | 1.6388888888219098\n",
            "| $10^ {- 6 }$ | 1.6388888637308696 | 1.6388889148011287 | 1.6388888892659992\n",
            "| $10^ {- 7 }$ | 1.6388888823826164 | 1.6388889001461848 | 1.6388888912644006\n",
            "| $10^ {- 8 }$ | 1.6388888468554796 | 1.6388889356733216 | 1.6388888912644006\n",
            "| $10^ {- 9 }$ | 1.6388890244911636 | 1.6388890244911636 | 1.6388890244911636\n",
            "| $10^ {- 10 }$ | 1.638884583599065 | 1.638893465383262 | 1.6388890244911636\n",
            "| $10^ {- 11 }$ | 1.638866820030671 | 1.638955637872641 | 1.638911228951656\n",
            "| $10^ {- 12 }$ | 1.638689184346731 | 1.6391332735565811 | 1.638911228951656\n",
            "| $10^ {- 13 }$ | 1.6342482922482304 | 1.652011860642233 | 1.6431300764452317\n",
            "| $10^ {- 14 }$ | 1.687538997430238 | 1.6431300764452317 | 1.6653345369377348\n",
            "| $10^ {- 15 }$ | 0.8881784197001251 | 1.7763568394002502 | 1.3322676295501878\n"
          ]
        }
      ]
    },
    {
      "cell_type": "markdown",
      "source": [
        "Dado que buscamos una buena aproximación a la derivada, nos conviene utilizar $h$'s pequeñas, iniciamos con $h_0 = 10^{-1} $.\n",
        "\n",
        "Se obtiene la siguiente tabla"
      ],
      "metadata": {
        "id": "-EW9_esd9Lf-"
      }
    },
    {
      "cell_type": "markdown",
      "source": [
        "|h | hacia atrás | hacia adelante | centradas\n",
        "|-----|-----|-----|-----|\n",
        "| $10^ {- 1 }$ | 1.6356011304720708 | 1.6406522142193314 | 1.638126672345701\n",
        "| $10^ {- 2 }$ | 1.638626665139764 | 1.6391358829378255 | 1.6388812740387948\n",
        "| $10^ {- 3 }$ | 1.6388633497985694 | 1.6389142756843 | 1.6388888127414347\n",
        "| $10^ {- 4 }$ | 1.638886341828183 | 1.638891434421197 | 1.63888888812469\n",
        "| $10^ {- 5 }$ | 1.6388886342255657 | 1.6388891434182538 | **1.6388888888219098**\n",
        "| $10^ {- 6 }$ | 1.6388888637308696 | 1.6388889148011287 | 1.6388888892659992\n",
        "| $10^ {- 7 }$ | **1.6388888823826164** | **1.6388889001461848** | 1.6388888912644006\n",
        "| $10^ {- 8 }$ | 1.6388888468554796 | 1.6388889356733216 | 1.6388888912644006\n",
        "| $10^ {- 9 }$ | 1.6388890244911636 | 1.6388890244911636 | 1.6388890244911636\n",
        "| $10^ {- 10 }$ | 1.638884583599065 | 1.638893465383262 | 1.6388890244911636\n",
        "| $10^ {- 11 }$ | 1.638866820030671 | 1.638955637872641 | 1.638911228951656\n",
        "| $10^ {- 12 }$ | 1.638689184346731 | 1.6391332735565811 | 1.638911228951656\n",
        "| $10^ {- 13 }$ | 1.6342482922482304 | 1.652011860642233 | 1.6431300764452317\n",
        "| $10^ {- 14 }$ | 1.687538997430238 | 1.6431300764452317 | 1.6653345369377348\n",
        "| $10^ {- 15 }$ | 0.8881784197001251 | 1.7763568394002502 | 1.3322676295501878"
      ],
      "metadata": {
        "id": "XRtB-d9Q6BTk"
      }
    },
    {
      "cell_type": "markdown",
      "source": [
        "Para la diferencia hacia atrás, $h = 10^{-7} $ da una aproximación más precisa.\n",
        "\n",
        "Para la diferencia hacia adelante, $h = 10^{-7} $ da una aproximación más precisa.\n",
        "\n",
        "Para la diferencia centrada, $h = 10^{-5} $ da una aproximación más precisa."
      ],
      "metadata": {
        "id": "KzSC6dq21aGX"
      }
    },
    {
      "cell_type": "code",
      "source": [
        "# Para las fórmulas de 3 puntos:\n",
        "\n",
        "def endpoint_3(x):\n",
        "  return (1/(2*h))* (-3*f(x) + 4*f(x+h) - f(x+2*h) )\n",
        "\n",
        "def midpoint_3(x):\n",
        "  return (f(x+h) - f(x-h))/(2*h)\n",
        "\n",
        "# Aproximación con fórmula \n",
        "N_its = 15\n",
        "x = 4 # se busca aproximar la derivada en 4\n",
        "\n",
        "print('|h | Endpoint | Midpoint ')\n",
        "print('|-----|-----|-----|')\n",
        "for j in range(N_its):\n",
        "  h = 10**(-1-j)\n",
        "  print('| $10^ {-', j+1 ,'}$ |', midpoint_3(x) ,'|' , endpoint_3(x))"
      ],
      "metadata": {
        "id": "2zTK9TOsl4Go",
        "colab": {
          "base_uri": "https://localhost:8080/"
        },
        "outputId": "f68a6890-f710-43ca-a82e-efaf4a437651"
      },
      "execution_count": null,
      "outputs": [
        {
          "output_type": "stream",
          "name": "stdout",
          "text": [
            "|h | Endpoint | Midpoint \n",
            "|-----|-----|-----|\n",
            "| $10^ {- 1 }$ | 1.638126672345701 | 1.6405473348469135\n",
            "| $10^ {- 2 }$ | 1.6388812740387948 | 1.6389042438640145\n",
            "| $10^ {- 3 }$ | 1.6388888127414347 | 1.6388890413110424\n",
            "| $10^ {- 4 }$ | 1.63888888812469 | 1.6388888904028676\n",
            "| $10^ {- 5 }$ | 1.6388888888219098 | 1.638888888688683\n",
            "| $10^ {- 6 }$ | 1.6388888892659992 | 1.6388888894880438\n",
            "| $10^ {- 7 }$ | 1.6388888912644006 | 1.638888906807523\n",
            "| $10^ {- 8 }$ | 1.6388888912644006 | 1.6388889800822426\n",
            "| $10^ {- 9 }$ | 1.6388890244911636 | 1.6388890244911634\n",
            "| $10^ {- 10 }$ | 1.6388890244911636 | 1.6388979062753606\n",
            "| $10^ {- 11 }$ | 1.638911228951656 | 1.639000046793626\n",
            "| $10^ {- 12 }$ | 1.638911228951656 | 1.6391332735565811\n",
            "| $10^ {- 13 }$ | 1.6431300764452317 | 1.6653345369377348\n",
            "| $10^ {- 14 }$ | 1.6653345369377348 | 1.5987211554602254\n",
            "| $10^ {- 15 }$ | 1.3322676295501878 | 1.9984014443252816\n"
          ]
        }
      ]
    },
    {
      "cell_type": "markdown",
      "source": [
        "|h | Endpoint | Midpoint \n",
        "|-----|-----|-----|\n",
        "| $10^ {- 1 }$ | 1.638126672345701 | 1.6405473348469135\n",
        "| $10^ {- 2 }$ | 1.6388812740387948 | 1.6389042438640145\n",
        "| $10^ {- 3 }$ | 1.6388888127414347 | 1.6388890413110424\n",
        "| $10^ {- 4 }$ | 1.63888888812469 | 1.6388888904028676\n",
        "| $10^ {- 5 }$ | **1.6388888888219098** | **1.638888888688683**\n",
        "| $10^ {- 6 }$ | 1.6388888892659992 | 1.6388888894880438\n",
        "| $10^ {- 7 }$ | 1.6388888912644006 | 1.638888906807523\n",
        "| $10^ {- 8 }$ | 1.6388888912644006 | 1.6388889800822426\n",
        "| $10^ {- 9 }$ | 1.6388890244911636 | 1.6388890244911634\n",
        "| $10^ {- 10 }$ | 1.6388890244911636 | 1.6388979062753606\n",
        "| $10^ {- 11 }$ | 1.638911228951656 | 1.639000046793626\n",
        "| $10^ {- 12 }$ | 1.638911228951656 | 1.6391332735565811\n",
        "| $10^ {- 13 }$ | 1.6431300764452317 | 1.6653345369377348\n",
        "| $10^ {- 14 }$ | 1.6653345369377348 | 1.5987211554602254\n",
        "| $10^ {- 15 }$ | 1.3322676295501878 | 1.9984014443252816"
      ],
      "metadata": {
        "id": "0oAkSFP2qim2"
      }
    },
    {
      "cell_type": "markdown",
      "source": [
        "Para las fórmulas de 3 puntos, notemos que $h = 10^{-5}$ nos da una mejor aproximación para ambos casos."
      ],
      "metadata": {
        "id": "7V66CAM1qtAV"
      }
    },
    {
      "cell_type": "code",
      "source": [
        "def endpoint_5(x):\n",
        "  return (f(x-2*h) - 8*f(x-h) + 8*f(x+h) - f(x+2*h))/(12*h)\n",
        "\n",
        "def midpoint_5(x):\n",
        "  return (-25*f(x) + 48*f(x+h) - 36*f(x+2*h) + 16*f(x+3*h) - 3*f(x+4*h))/(12*h)\n",
        "\n",
        "# Aproximación con fórmula \n",
        "N_its = 15\n",
        "x = 4 # se busca aproximar la derivada en 4\n",
        "\n",
        "print('|h | Endpoint | Midpoint ')\n",
        "print('|-----|-----|-----|')\n",
        "for j in range(N_its):\n",
        "  h = 10**(-1-j)\n",
        "  print('| $10^ {-', j+1 ,'}$ |', midpoint_5(x) ,'|' , endpoint_5(x))"
      ],
      "metadata": {
        "id": "RGCEsgCHnGoF",
        "colab": {
          "base_uri": "https://localhost:8080/"
        },
        "outputId": "98be8f8e-7e04-4272-b7a1-55e632f1d0c1"
      },
      "execution_count": null,
      "outputs": [
        {
          "output_type": "stream",
          "name": "stdout",
          "text": [
            "|h | Endpoint | Midpoint \n",
            "|-----|-----|-----|\n",
            "| $10^ {- 1 }$ | 1.6389139037282043 | 1.6388918575725633\n",
            "| $10^ {- 2 }$ | 1.6388888907192811 | 1.6388888891840907\n",
            "| $10^ {- 3 }$ | 1.6388888888955548 | 1.6388888888893376\n",
            "| $10^ {- 4 }$ | 1.6388888888603976 | 1.6388888888855626\n",
            "| $10^ {- 5 }$ | 1.638888888214988 | 1.6388888888071067\n",
            "| $10^ {- 6 }$ | 1.6388888914124302 | 1.638888889340014\n",
            "| $10^ {- 7 }$ | 1.6388889238309428 | 1.6388888923746237\n",
            "| $10^ {- 8 }$ | 1.638889039294137 | 1.6388888986658872\n",
            "| $10^ {- 9 }$ | 1.63888961661011 | 1.6388890244911634\n",
            "| $10^ {- 10 }$ | 1.6389156698437546 | 1.6388897646398466\n",
            "| $10^ {- 11 }$ | 1.6390814631487653 | 1.6389186304384868\n",
            "| $10^ {- 12 }$ | 1.6376529761904142 | 1.638911228951656\n",
            "| $10^ {- 13 }$ | 1.7008616737257396 | 1.6453505224944818\n",
            "| $10^ {- 14 }$ | 1.4358884451818692 | 1.6727360237685693\n",
            "| $10^ {- 15 }$ | 2.146431180941969 | 1.2212453270876722\n"
          ]
        }
      ]
    },
    {
      "cell_type": "markdown",
      "source": [
        "|h | Endpoint | Midpoint \n",
        "|-----|-----|-----|\n",
        "| $10^ {- 1 }$ | 1.6389139037282043 | 1.6388918575725633\n",
        "| $10^ {- 2 }$ | 1.6388888907192811 | 1.6388888891840907\n",
        "| $10^ {- 3 }$ | **1.6388888888955548** | **1.6388888888893376**\n",
        "| $10^ {- 4 }$ | 1.6388888888603976 | 1.6388888888855626\n",
        "| $10^ {- 5 }$ | 1.638888888214988 | 1.6388888888071067\n",
        "| $10^ {- 6 }$ | 1.6388888914124302 | 1.638888889340014\n",
        "| $10^ {- 7 }$ | 1.6388889238309428 | 1.6388888923746237\n",
        "| $10^ {- 8 }$ | 1.638889039294137 | 1.6388888986658872\n",
        "| $10^ {- 9 }$ | 1.63888961661011 | 1.6388890244911634\n",
        "| $10^ {- 10 }$ | 1.6389156698437546 | 1.6388897646398466\n",
        "| $10^ {- 11 }$ | 1.6390814631487653 | 1.6389186304384868\n",
        "| $10^ {- 12 }$ | 1.6376529761904142 | 1.638911228951656\n",
        "| $10^ {- 13 }$ | 1.7008616737257396 | 1.6453505224944818\n",
        "| $10^ {- 14 }$ | 1.4358884451818692 | 1.6727360237685693\n",
        "| $10^ {- 15 }$ | 2.146431180941969 | 1.2212453270876722"
      ],
      "metadata": {
        "id": "aXkIi320l0-Q"
      }
    },
    {
      "cell_type": "markdown",
      "source": [
        "Para las fórmulas de 5 puntos, notemos que $h = 10^{-3}$ nos da una mejor aproximación para ambos casos."
      ],
      "metadata": {
        "id": "uf5F-WV-rys3"
      }
    },
    {
      "cell_type": "markdown",
      "source": [
        "Dados los errores para cada fórmula, notemos que es conveniente utilizar alguna de las fórmulas de 5 puntos con $h=10^{-3}$. Para gráficar la derivada obtenida mediante geogebra y aproximaciones obtenidas puntualmente (como se mencionó anteriormente):"
      ],
      "metadata": {
        "id": "XQ_fL3WfsTW_"
      }
    },
    {
      "cell_type": "code",
      "source": [
        "h = 10**-3\n",
        "p = 0.04\n",
        "x = 1\n",
        "a = [] ; b = []\n",
        "while x <= 6.9:\n",
        "  a.append(x)\n",
        "  b.append((1/(12*h))*(f(x-2*h) - 8*f(x-h) + 8*f(x+h) - f(x+2*h)))\n",
        "  x = x + p\n",
        "\n",
        "x = 7.1\n",
        "p = 0.01\n",
        "\n",
        "while x <= 10:\n",
        "  if x == 7:\n",
        "    continue\n",
        "  a.append(x)\n",
        "  b.append(endpoint_5(x))\n",
        "  x = x + p\n",
        "\n",
        "def df(x):\n",
        "    return (3*x**3.5 - 46*x**2.5 + 201*x**1.5 + 2*x**2 -28*x - 210*x**0.5 + 98)/(2*(x-7)**2*x)\n",
        "\n",
        "plt.figure(figsize=(10,6))\n",
        "r=np.linspace(1,10,100)\n",
        "plt.scatter(a,b,marker = '.', color = 'mediumvioletred')\n",
        "plt.plot(r,df(r), color = \"olive\", linewidth=2.5)\n",
        "plt.legend(['Wolfram','Aproximación'])"
      ],
      "metadata": {
        "colab": {
          "base_uri": "https://localhost:8080/",
          "height": 409
        },
        "id": "WfpuTv0asq_x",
        "outputId": "f4cf3822-9933-405c-ef46-c38cf639fb4a"
      },
      "execution_count": null,
      "outputs": [
        {
          "output_type": "stream",
          "name": "stderr",
          "text": [
            "/usr/local/lib/python3.7/dist-packages/ipykernel_launcher.py:21: RuntimeWarning: divide by zero encountered in true_divide\n"
          ]
        },
        {
          "output_type": "execute_result",
          "data": {
            "text/plain": [
              "<matplotlib.legend.Legend at 0x7f6f67378ad0>"
            ]
          },
          "metadata": {},
          "execution_count": 349
        },
        {
          "output_type": "display_data",
          "data": {
            "image/png": "[encoded data removed]",
            "text/plain": [
              "<Figure size 720x432 with 1 Axes>"
            ]
          },
          "metadata": {
            "needs_background": "light"
          }
        }
      ]
    },
    {
      "cell_type": "code",
      "source": [
        "h = 10**-3\n",
        "p = 0.04\n",
        "x = 2\n",
        "a = [] ; b = []\n",
        "\n",
        "while x <= 6:\n",
        "  a.append(x)\n",
        "  b.append((1/(12*h))*(f(x-2*h) - 8*f(x-h) + 8*f(x+h) - f(x+2*h)))\n",
        "  x = x + p\n",
        "\n",
        "plt.figure(figsize=(10,6))\n",
        "r=np.linspace(2,6,100)\n",
        "plt.scatter(a,b,marker = '.', color = 'mediumvioletred')\n",
        "plt.plot(r,df(r), color = \"olive\", linewidth=2.5)\n",
        "plt.legend(['Wolfram','Aproximación'])"
      ],
      "metadata": {
        "colab": {
          "base_uri": "https://localhost:8080/",
          "height": 391
        },
        "id": "hQGpTBwft1FJ",
        "outputId": "d6743145-1420-4c6c-9d2e-5202785529e6"
      },
      "execution_count": null,
      "outputs": [
        {
          "output_type": "execute_result",
          "data": {
            "text/plain": [
              "<matplotlib.legend.Legend at 0x7f6f6740a6d0>"
            ]
          },
          "metadata": {},
          "execution_count": 350
        },
        {
          "output_type": "display_data",
          "data": {
            "image/png": "[encoded data removed]",
            "text/plain": [
              "<Figure size 720x432 with 1 Axes>"
            ]
          },
          "metadata": {
            "needs_background": "light"
          }
        }
      ]
    },
    {
      "cell_type": "markdown",
      "source": [
        "## Problema 2"
      ],
      "metadata": {
        "id": "EP-h3wz1KEpv"
      }
    },
    {
      "cell_type": "markdown",
      "source": [
        "2. En un circuito eléctrico con un voltaje impreso $\\varepsilon(t)$ y una inductancia $L$, la primera ley de Kirchhoff nos da la siguiente relación\n",
        "\\begin{align*}\n",
        "    L \\frac{di}{dt} + Ri = \\varepsilon(t)\n",
        "\\end{align*}\n",
        "donde $R$ es la resistencia del circuito e $i$ es la corriente. Suponga que medimos la corriente con varios valores de $t$ y obtenemos\n",
        "\n",
        "| | | | | | |\n",
        "| ----- | --- | ----- | ---- | ---  | ---- |\n",
        "|$t$    | 1.00| 1.01  | 1.02 | 1.03 | 1.04 |\n",
        "|$i$ | 3.10 | 3.12 | 3.14 | 3.18 | 3.24 |\n",
        "| | | | | | |\n",
        "\n",
        "\n",
        "donde $t$ se mide en segundos, $i$ se da en amperes, la inductancia $L$ es una constante $0.098$ henries y la resistencia es de $0.142$ ohms. \n",
        "\n",
        "Aproxime el voltaje $\\varepsilon(t)$ en los valores $t=1,1.01,1.02,1.03,1.04$."
      ],
      "metadata": {
        "id": "-lat2f0UDZqv"
      }
    },
    {
      "cell_type": "markdown",
      "source": [
        "**Solución:** Notemos que no podemos aplicar la misma fórmula a todos los valores de $t$: \n",
        "* Para $t = 1.0$ podemos utilizar la fórmula de diferencias hacia adelante o bien, la fórmula de 3 puntos (end-point)\n",
        "* Para $t = 1.01,1.02,1.03$ podemos utilizar diferencias centradas, diferencias hacia adelante o bien, de las fórmulas de 3 puntos, la fórmula del punto medio (midpoint)\n",
        "* Para $t=1.04$ sólo podríamos utilizar la fórmula de diferencias hacia atrás.\n",
        "\n",
        "Utilizar las fórmulas de diferencias puede ser poco ventajoso pues, como hemos observado, algunos valores de $h$ (paso) nos dan buenas aproximaciones, mientras que otros valores no. En este caso tenemos un tamaño de paso fijo $h=0.01$ (esto por los nodos dados).\n",
        "\n",
        "\n",
        "Siendo así que, he decidido que es más conveniente lo siguiente: para $t=1.0$ y para $t=1.01, 1.02, 1.03$ utilizaré fórmulas de 3 puntos, endpoint y midpoint respectivamente, mientras que para $t=1.04$ utilizaré la fórmula de diferencias hacia atrás."
      ],
      "metadata": {
        "id": "wHWMyFFsT9Y8"
      }
    },
    {
      "cell_type": "code",
      "source": [
        "x = [1.00, 1.01, 1.02, 1.03, 1.04] ; y = [3.1,3.12,3.14,3.18,3.24]\n",
        "#for j in range(5):\n",
        " # x.append(j*0.01 + 1)\n",
        "def f(x0):\n",
        "  if x0 == 0.99:\n",
        "    return y[0]\n",
        "  return y[x.index(x0)]\n",
        "\n",
        "L = 0.098\n",
        "R = 0.142\n",
        "\n",
        "def epsilon(t):\n",
        "  if t == 1.0:\n",
        "    d = endpoint_3(t)\n",
        "  if t < 1.04:\n",
        "    d = midpoint_3(t)\n",
        "  else:\n",
        "    h = 0.01\n",
        "    d = backward_difference(t)\n",
        "  return L*d + R \n",
        "\n",
        "h = 0.01\n",
        "print('| t   | 1.00 | 1.01 | 1.02 | 1.03 | 1.04 |')\n",
        "print('|-----|------|------|------|------|------|')\n",
        "print('|epsilon(t)' , round(epsilon(x[0]),3),\n",
        "      '|' , round(epsilon(x[1]),3),\n",
        "      '|' , round(epsilon(x[2]),3),\n",
        "      '|' , round(epsilon(x[3]),3),\n",
        "      '|' , round(epsilon(x[4]),3) , '|')"
      ],
      "metadata": {
        "id": "oaZUjGgEE8ml",
        "colab": {
          "base_uri": "https://localhost:8080/"
        },
        "outputId": "419c84d9-e378-4fb5-adda-2f0558aff865"
      },
      "execution_count": null,
      "outputs": [
        {
          "output_type": "stream",
          "name": "stdout",
          "text": [
            "| t   | 1.00 | 1.01 | 1.02 | 1.03 | 1.04 |\n",
            "|-----|------|------|------|------|------|\n",
            "|epsilon(t) 0.24 | 0.338 | 0.436 | 0.632 | 0.73 |\n"
          ]
        }
      ]
    },
    {
      "cell_type": "markdown",
      "source": [
        "Se obtienen las aproximaciones a la derivada $di/dt$ y dadas las constantes $L = 0.098 $ (inductancia) y $R = 0.142 $ (resistencia), se obtienen las siguientes aproximaciones para el voltaje ɛ(t) dada la primera ley de Kirchhoff:\n",
        "\n",
        "\n",
        "| t   | 1.00 | 1.01 | 1.02 | 1.03 | 1.04 |\n",
        "|-----|------|------|------|------|------|\n",
        "| ɛ(t) |  0.24 | 0.338 | 0.436 | 0.632 | 0.73 |"
      ],
      "metadata": {
        "id": "2ynY2-wPk09z"
      }
    },
    {
      "cell_type": "markdown",
      "source": [
        "## Problema 3"
      ],
      "metadata": {
        "id": "P47BhIasKGbL"
      }
    },
    {
      "cell_type": "markdown",
      "source": [
        "3. Dada la matriz \n",
        "\\begin{align*}\n",
        "    A = \\begin{pmatrix}\n",
        "    0 & 11 & -5\\\\\n",
        "    -2 & 17 & -7 \\\\\n",
        "    -4 & 26 & -10\n",
        "    \\end{pmatrix}.\n",
        "\\end{align*}\n",
        "se sabe que tiene un autovalor cercano a $0.5$. Implementa el método de la potencia inversa para obtener este autovalor de $A$ y su correspondiente autovector."
      ],
      "metadata": {
        "id": "gTfWnF5FE8wG"
      }
    },
    {
      "cell_type": "code",
      "source": [
        "def find_p(x): \n",
        "  n = len(x) ; p = n\n",
        "  for i in range(n):\n",
        "    if abs(x[i] ) == np.linalg.norm(x, np.inf) and i < p:\n",
        "      p = i\n",
        "  return p\n",
        "  \n",
        "def inverse_power_method(A, x , tol, N, q):\n",
        "    #q = (np.transpose(x) @ A @ x)/(np.transpose(x) @ x) #para hallar el dominante\n",
        "    k = 1 ; n = len(A) ;  I = np.eye(n) #identidad n x n   \n",
        "    p = find_p(x)\n",
        "    x = x / x[p]   \n",
        "    mu = -1/q ; y = 0\n",
        "    \n",
        "    while k <= N:  \n",
        "        y = np.linalg.solve(A - q * I, x)    #If the system does not have a unique solution, then\n",
        "                                             #return(‘q is an eigenvalue’, q);\n",
        "        print(k,x, mu  )\n",
        "        mu = y[p]\n",
        "        p = find_p(y) \n",
        "\n",
        "        error = np.linalg.norm(x - y/y[p], np.inf)\n",
        "        x = y / y[p]\n",
        "\n",
        "        mu = 1. / mu + q \n",
        "\n",
        "        if error < tol:\n",
        "            print('Tolerancia alcanzada en',k,'iteraciones')\n",
        "            print('Eigenvalor dominante aproximado',mu)\n",
        "            print('Eigenvector unitario asociado',x)\n",
        "            return mu,x\n",
        "        k = k + 1\n",
        "    print('Tolerancia no alcanzada en el max de iteraciones')\n",
        "    return"
      ],
      "metadata": {
        "id": "96i1LoEPv8gd"
      },
      "execution_count": null,
      "outputs": []
    },
    {
      "cell_type": "code",
      "source": [
        "A = np.array([ [0,11,-5],\n",
        "             [-2,17,-7],\n",
        "             [-4,26,-10]] )\n",
        "\n",
        "x = np.array([1,1,1])\n",
        "tol = 10**-8\n",
        "N = 100\n",
        "q = 0.5\n",
        "print('Iteraciones del método de la potencia inversa')\n",
        "eig_inv = inverse_power_method(A,x,tol,N, q)"
      ],
      "metadata": {
        "id": "Ztb9bYOZFCIt",
        "colab": {
          "base_uri": "https://localhost:8080/"
        },
        "outputId": "2c1cd6b2-8bad-472d-96f2-48106476fc8f"
      },
      "execution_count": null,
      "outputs": [
        {
          "output_type": "stream",
          "name": "stdout",
          "text": [
            "Iteraciones del método de la potencia inversa\n",
            "1 [1. 1. 1.] -2.0\n",
            "2 [0.07692308 0.38461538 1.        ] -10.000000000000185\n",
            "3 [0.20529801 0.47019868 1.        ] 1.40397350993378\n",
            "4 [0.23362975 0.4890865  1.        ] 1.781729991915949\n",
            "5 [0.24339602 0.49559735 1.        ] 1.9119469507555957\n",
            "6 [0.24723918 0.49815945 1.        ] 1.9631890688200164\n",
            "7 [0.24882911 0.4992194  1.        ] 1.98438808354696\n",
            "8 [0.24950042 0.49966694 1.        ] 1.9933388908589713\n",
            "9 [0.2497863  0.49985753 1.        ] 1.9971506617317982\n",
            "10 [0.24990849 0.49993899 1.        ] 1.9987798483660995\n",
            "11 [0.24996079 0.49997386 1.        ] 1.9994772601564739\n",
            "12 [0.2499832 0.4999888 1.       ] 1.9997760022448852\n",
            "13 [0.2499928 0.4999952 1.       ] 1.999904007559664\n",
            "14 [0.24999691 0.49999794 1.        ] 1.9999588628732579\n",
            "15 [0.24999868 0.49999912 1.        ] 1.999982374096844\n",
            "16 [0.24999943 0.49999962 1.        ] 1.9999924583399884\n",
            "17 [0.24999975 0.49999984 1.        ] 1.9999968046483094\n",
            "18 [0.24999986 0.49999993 1.        ] 1.999998740908906\n",
            "19 [0.24999986 0.49999997 1.        ] 1.9999997914221448\n",
            "20 [0.24999969 0.49999999 1.        ] 2.0000009037076465\n",
            "21 [0.24999912 0.49999999 1.        ] 2.0000033666054646\n",
            "22 [0.24999739 0.5        1.        ] 2.000010380806713\n",
            "23 [0.24999218 0.5        1.        ] 2.0000312634661945\n",
            "24 [0.24997654 0.5        1.        ] 2.000093847868534\n",
            "25 [0.24992959 0.5        1.        ] 2.000281618583471\n",
            "26 [0.24978866 0.5        1.        ] 2.0008453413631138\n",
            "27 [0.24936492 0.5        1.        ] 2.002540323041522\n",
            "28 [0.24808503 0.5        1.        ] 2.0076598880588357\n",
            "29 [0.2441657 0.5       1.       ] 2.0233371853953885\n",
            "30 [0.23164018 0.5        1.        ] 2.073439289141352\n",
            "31 [0.18543772 0.5        1.        ] 2.2582491331104593\n",
            "32 [-0.15059184  0.5         1.        ] 3.6023673657356006\n",
            "33 [0.79508849 0.5        1.        ] -0.1803539575799057\n",
            "34 [0.55504655 0.5        1.        ] 0.7798137902189568\n",
            "35 [0.51600017 0.5        1.        ] 0.9359993096882915\n",
            "36 [0.50511514 0.5        1.        ] 0.9795394302866356\n",
            "37 [0.5016821 0.5       1.       ] 0.9932715881881686\n",
            "38 [0.5005582 0.5       1.       ] 0.9977672114765073\n",
            "39 [0.50018579 0.5        1.        ] 0.9992568433665714\n",
            "40 [0.5000619 0.5       1.       ] 0.9997524037907016\n",
            "41 [0.50002063 0.5        1.        ] 0.9999174815510716\n",
            "42 [0.50000688 0.5        1.        ] 0.9999724953634513\n",
            "43 [0.50000229 0.5        1.        ] 0.9999908319559274\n",
            "44 [0.50000076 0.5        1.        ] 0.999996944003988\n",
            "45 [0.50000025 0.5        1.        ] 0.999998981336739\n",
            "46 [0.50000008 0.5        1.        ] 0.999999660445811\n",
            "47 [0.50000003 0.5        1.        ] 0.9999998868152966\n",
            "48 [0.50000001 0.5        1.        ] 0.9999999622717695\n",
            "Tolerancia alcanzada en 48 iteraciones\n",
            "Eigenvalor dominante aproximado 0.9999999874239243\n",
            "Eigenvector unitario asociado [0.5 0.5 1. ]\n"
          ]
        }
      ]
    },
    {
      "cell_type": "markdown",
      "source": [
        "Se ha encontrado que el autovalor cercano a 0.5 es λ $\\approx 0.9999999622717695 $ y su correspondiente autovector aproximado es [0.5 0.5 1. ] (o bien, un múltiplo del autovector asociado exacto)."
      ],
      "metadata": {
        "id": "jCZx4CHZFB9R"
      }
    },
    {
      "cell_type": "markdown",
      "source": [
        "## Problema 4"
      ],
      "metadata": {
        "id": "R-3dOuEEKHi9"
      }
    },
    {
      "cell_type": "markdown",
      "source": [
        "4. Mediante un algoritmo computacional determina los valores propios de la matriz:\n",
        "\\begin{align*}\n",
        "    \\begin{bmatrix}\n",
        "        5 & -2 & 2 & -4 \\\\\n",
        "        7 & -4 & 2 & -4 \\\\\n",
        "        4 & -4 & 2 & 0\\\\\n",
        "        3 & -1 & 1 & -3\n",
        "    \\end{bmatrix}.\n",
        "\\end{align*}\n",
        "¿Qué tan confiable es tu aproximación del espectro?"
      ],
      "metadata": {
        "id": "rlBVUOQOFDGw"
      }
    },
    {
      "cell_type": "code",
      "source": [
        "A = np.array([[5 , -2 ,2 , -4],\n",
        "              [7,-4,2,-4],\n",
        "              [4,-4,2,0],\n",
        "              [3,-1,1,-3]])"
      ],
      "metadata": {
        "id": "LND8yrLOFH2-"
      },
      "execution_count": null,
      "outputs": []
    },
    {
      "cell_type": "code",
      "source": [
        "def find_p(x):\n",
        "  n = len(x) ; p = n\n",
        "  for j in range(n):\n",
        "    if abs(x[j]) == np.linalg.norm(x,np.inf) and j < p:\n",
        "      p = j\n",
        "  return p\n",
        "  \n",
        "def power_method(A,x,tol,N): #burden\n",
        "  n = len(A)\n",
        "  k = 1\n",
        "  p = find_p(x)\n",
        "  \n",
        "  print(0,x,'-') # primera iteración\n",
        "\n",
        "  x = x / x[p]\n",
        "\n",
        "\n",
        "  while k <= N:\n",
        "    y = A @ x\n",
        "    mu = y[p]\n",
        "    print(k,x,mu)\n",
        "    \n",
        "    p = find_p(y)\n",
        "\n",
        "    if y[p] == 0:\n",
        "      print('Eigenvector',x)\n",
        "      print('Eigenvalor',0,' Escoge un nuevo vector inicial')\n",
        "      return (x,0)\n",
        "    \n",
        "    error = np.linalg.norm(x-y/y[p], np.inf)\n",
        "    x = y/y[p]\n",
        "\n",
        "    if error < tol:\n",
        "      print('\\nTolerancia alcanzada en ',k,'iteraciones')\n",
        "      print('Eigenvalor:',mu)\n",
        "      print('Eigenvector:',x)\n",
        "      return(mu,x)\n",
        "    \n",
        "    k = k + 1\n",
        "\n",
        "  print('Tolerancia no alcanzada')\n",
        "  return ('FALLA', 'FALLA')\n",
        "\n",
        "\n",
        "def encuentra_i(v):\n",
        "  n = len(v)-1 ; i = n+1\n",
        "  for j in range(n):\n",
        "    if abs(v[j]) == max(abs(v)) and j < i:\n",
        "      i = j\n",
        "  return i\n",
        "\n",
        "\n",
        "\n",
        "\n",
        "\n",
        "def wielantDeflation(A,lambda_1,v,x,tol,N):\n",
        "  n = len(A) \n",
        "  i = encuentra_i(v)\n",
        "  \n",
        "  b = np.zeros((n-1,n-1))\n",
        "  w = np.zeros(n-1)\n",
        "  u = np.ones(n)\n",
        "  if i != 0 :\n",
        "    for k in range(0,i): #//\n",
        "      for j in range(0,i): #//\n",
        "        b[k,j] = A[k][j] - (v[k]/v[i]) * A[i][j]\n",
        "  if i != 0 and i != n-1:\n",
        "    for k in range(i,n-1): #//\n",
        "      for j in range(0,i): #//\n",
        "        b[k,j] = A[k+1][j] - (v[k+1]/v[i]) * A[i][j]\n",
        "        b[j,k] = A[j][k+1] - (v[j]/v[i])*A[i][k+1]\n",
        "  if i != n-1:\n",
        "    for k in range(i,n-1): #//\n",
        "      for j in range(i,n-1): #//\n",
        "        b[k,j] = A[k+1][j+1] - (v[k+1]/v[i]) * A[i][j+1]\n",
        "  \n",
        "  print(b)\n",
        "  print('\\nINICIO POWER METHOD ----------------------\\n')\n",
        "  mu,w1 = power_method(b,x,tol,N)\n",
        "  print('\\nFIN POWER METHOD ----------------------\\n')\n",
        "  \n",
        "  if mu == 'FALLA':\n",
        "    print('Metodo fallido\\n')\n",
        "    return\n",
        "\n",
        "  if i != 0:\n",
        "    for k in range(0,i-1):\n",
        "      w[k] = w1[k]\n",
        "\n",
        "  w[i] = 0\n",
        "\n",
        "  if i != n:\n",
        "    for k in range(i,n-1): #\n",
        "      w[k] = w1[k-1]\n",
        "\n",
        "  suma = 0\n",
        "  for j in range(0,n-1):\n",
        "    suma = suma + A[i][j]*w[j]\n",
        "  \n",
        "  for k in range(0,n-1):\n",
        "    u[k] = (mu-lambda_1)*w[k] + suma * v[k]/v[i]\n",
        "    #u[k] = (mu-complex(lambda_1,0))*complex(w[k],0) + complex(suma * v[k]/v[i],0)\n",
        "    #print(k,(mu-complex(lambda_1,0))*complex(w[k],0)+ complex(suma * v[k]/v[i],0))\n",
        "\n",
        "  #print('Deflación - correcto')\n",
        "  print(mu, u, '\\n')\n",
        "  return mu,u"
      ],
      "metadata": {
        "id": "qikflj0c9F8Y"
      },
      "execution_count": null,
      "outputs": []
    },
    {
      "cell_type": "code",
      "source": [
        "# encontrar el eigenvalor dominante:\n",
        "inicial = np.array([1,1,1,1])\n",
        "l = power_method(A,inicial, 10**-2 , 100)\n",
        "print('El eigenvalor dominante es (aprox)', l[0])"
      ],
      "metadata": {
        "colab": {
          "base_uri": "https://localhost:8080/"
        },
        "id": "6D-s3FzT-IBC",
        "outputId": "6ba5a715-f7bf-43d7-e044-34dc27106ad7"
      },
      "execution_count": null,
      "outputs": [
        {
          "output_type": "stream",
          "name": "stdout",
          "text": [
            "0 [1 1 1 1] -\n",
            "1 [1. 1. 1. 1.] 1.0\n",
            "2 [0.5 0.5 1.  0. ] 2.0\n",
            "3 [1.         1.         0.57142857 0.57142857] 1.8571428571428568\n",
            "4 [1.         1.         0.61538462 0.46153846] 2.384615384615384\n",
            "5 [1.         1.         0.51612903 0.51612903] 1.96774193548387\n",
            "6 [1.         1.         0.52459016 0.49180328] 2.0819672131147544\n",
            "7 [1.         1.         0.50393701 0.50393701] 1.9921259842519667\n",
            "\n",
            "Tolerancia alcanzada en  7 iteraciones\n",
            "Eigenvalor: 1.9921259842519667\n",
            "Eigenvector: [1.         1.         0.50592885 0.49802372]\n",
            "El eigenvalor dominante es (aprox) 1.9921259842519667\n"
          ]
        }
      ]
    },
    {
      "cell_type": "code",
      "source": [
        "inicial2 = np.array([1,1,1])\n",
        "l2 = wielantDeflation(A, l[0], l[1], inicial2 , 10**-2 , 100 )"
      ],
      "metadata": {
        "colab": {
          "base_uri": "https://localhost:8080/"
        },
        "id": "FB0myFnwAffp",
        "outputId": "2ae5bf62-24ea-43fc-b6e7-b7a859394a0d"
      },
      "execution_count": null,
      "outputs": [
        {
          "output_type": "stream",
          "name": "stdout",
          "text": [
            "[[-2.          0.          0.        ]\n",
            " [-2.98814229  0.98814229  2.02371542]\n",
            " [-0.00395257  0.00395257 -1.00790514]]\n",
            "\n",
            "INICIO POWER METHOD ----------------------\n",
            "\n",
            "0 [1 1 1] -\n",
            "1 [1. 1. 1.] -2.0\n",
            "2 [ 1.         -0.01185771  0.50395257] -2.0\n",
            "3 [1.         0.99000141 0.25596791] -2.0\n",
            "4 [1.         0.74593691 0.12901545] -2.0\n",
            "5 [1.         0.99497997 0.06551977] -2.0\n",
            "6 [1.         0.93618357 0.03302878] -2.0\n",
            "7 [1.         0.99810943 0.01677106] -2.0\n",
            "8 [1.         0.98396415 0.00845555] -2.0\n",
            "9 [1.         0.99936703 0.00429289] -2.0\n",
            "\n",
            "Tolerancia alcanzada en  9 iteraciones\n",
            "Eigenvalor: -2.0\n",
            "Eigenvector: [1.         0.99596894 0.00216466]\n",
            "\n",
            "FIN POWER METHOD ----------------------\n",
            "\n",
            "-2.0 [-0.00588042 -3.98936479 -3.97463651  1.        ] \n",
            "\n"
          ]
        }
      ]
    },
    {
      "cell_type": "code",
      "source": [
        "# igual que lo anterior, se ejecuta esta celda y la siguiente\n",
        "b = np.array([[-2., 0.,0. ],\n",
        " [-2.98814229 , 0.98814229 , 2.02371542],\n",
        " [-0.00395257 , 0.00395257 , -1.00790514]])\n",
        "\n",
        "inicial3 = np.array([1,1])\n",
        "\n",
        "l3 = wielantDeflation(b, l2[0] , l2[1] , inicial3 , 10**-2,50)"
      ],
      "metadata": {
        "colab": {
          "base_uri": "https://localhost:8080/"
        },
        "id": "yfqH-E1aBuYL",
        "outputId": "e75d83ea-933c-4d7a-fa27-2c33fc5a93da"
      },
      "execution_count": null,
      "outputs": [
        {
          "output_type": "stream",
          "name": "stdout",
          "text": [
            "[[-1.99559541e+00 -2.98300368e-03]\n",
            " [ 2.97315784e+00 -3.02414923e+00]]\n",
            "\n",
            "INICIO POWER METHOD ----------------------\n",
            "\n",
            "0 [1 1] -\n",
            "1 [1. 1.] -1.9985784123253216\n",
            "2 [1.         0.02551383] -1.9956715165057237\n",
            "3 [-0.68911305  1.        ] -5.072991082411591\n",
            "4 [-0.27049285  1.        ] -3.828367174046922\n",
            "5 [-0.14021938  1.        ] -3.44104359426911\n",
            "6 [-0.0804518  1.       ] -3.26334513627253\n",
            "7 [-0.04828366  1.        ] -3.167704169570356\n",
            "8 [-0.02947612  1.        ] -3.1117864034144223\n",
            "9 [-0.01794449  1.        ] -3.077501028809006\n",
            "\n",
            "Tolerancia alcanzada en  9 iteraciones\n",
            "Eigenvalor: -3.077501028809006\n",
            "Eigenvector: [-0.01066675  1.        ]\n",
            "\n",
            "FIN POWER METHOD ----------------------\n",
            "\n",
            "-3.077501028809006 [-1.55365994e-05  9.53167367e-04  1.00000000e+00] \n",
            "\n"
          ]
        }
      ]
    },
    {
      "cell_type": "code",
      "source": [
        "b = np.array([[-1.99397759, -0.00407867],\n",
        " [ 2.96919311, -3.02146413]])\n",
        "\n",
        "inicial4 = np.array([1])\n",
        "\n",
        "wielantDeflation(b, l3[0] , l3[1] , inicial4 , 10**-2,50)"
      ],
      "metadata": {
        "id": "4qWqTy8VGYWZ"
      },
      "execution_count": null,
      "outputs": []
    },
    {
      "cell_type": "markdown",
      "source": [
        "Con el método de deflación, se obtiene entonces que los eigenvalores de la matriz dada son, aproximadamente⁉\n",
        "\n",
        "$\\lambda_1 \\approx 2$\n",
        "\n",
        "$\\lambda_2 \\approx -2$\n",
        "\n",
        "$\\lambda_3 \\approx -1.000007750102880$\n",
        "\n",
        "$\\lambda_4 \\approx 1.00000000e+00$\n",
        "\n",
        "\n",
        "Sabemos que el método de la potencia y el de deflación convergen, de modo que se calcula un error y se le asigna una tolerancia para establecer la condición de paro. A cada ejecución de dichos métodos asigné una tolerancia de $10^{-2}$."
      ],
      "metadata": {
        "id": "khpVWPrFU0Tq"
      }
    },
    {
      "cell_type": "markdown",
      "source": [
        "## Problema 5"
      ],
      "metadata": {
        "id": "MiBhZ_M_KIwr"
      }
    },
    {
      "cell_type": "markdown",
      "source": [
        "5. (a) Suponga que se te pide aproximar el valor de la siguiente integral. ¿Qué método sería\n",
        "apropiado usar? Jutifica la elección. Hint: Puede que se tenga que reescribir el argumento de la integral.\n",
        "\n",
        "\\begin{align*}\n",
        "    I = \\int_{10^{-6}}^1 \\frac{e^{-x}}{x} dx\n",
        "\\end{align*}\n",
        "\n",
        "Sólo comente la elección del método, no realice más.\n",
        "\n",
        "\n",
        "(b) Utiliza las fórmulas de Newton compuestas: Trapecio y Simpson para aproximar el valor de la\n",
        "siguiente integral\n",
        "\n",
        "\\begin{align*}\n",
        "    I_1 = \\int_0 ^{2\\pi} e^{\\sin (2x)} dx.\n",
        "\\end{align*}"
      ],
      "metadata": {
        "id": "eHvsUs8nFH9e"
      }
    },
    {
      "cell_type": "markdown",
      "source": [
        "**Solución:** (a) El dominio de la función está dado por $\\mathbb{R} \\setminus \\{0\\} $.\n",
        "\n",
        "Notemos que la función, en el intervalo a evaluar, crece/decrece rápido en valores cercanos a 0. \n",
        "\n",
        "Para elegir un método adecuado, debemos considerar métodos que no utilicen los valores de la función en puntos cercanos al 0 o que incluso evaluen la función en 0: Se debe utilizar una fórmula abierta\n",
        "\n",
        "Podríamos entonces utilizar la fórmula del punto medio (abierta) para algún $n \\in \\mathbb{N}$ (la normal tanto como la compuesta).\n",
        "\n",
        "\n",
        "\n",
        "(b)"
      ],
      "metadata": {
        "id": "9U6G-KTgHFIL"
      }
    },
    {
      "cell_type": "code",
      "source": [
        "# inciso b)\n",
        "a = 0\n",
        "b = 2*math.pi\n",
        "n = 10\n",
        "def f(x):\n",
        "  return math.exp(math.sin(2*x))"
      ],
      "metadata": {
        "id": "ohBEMJBCFKbb"
      },
      "execution_count": null,
      "outputs": []
    },
    {
      "cell_type": "code",
      "source": [
        "def regla_simpson_compuesta(a,b,n,f):\n",
        "  if n == 0:\n",
        "    return 0\n",
        "  h = (b-a)/n\n",
        "  XI0 = f(a) + f(b)\n",
        "  XI1 = 0\n",
        "  XI2 = 0\n",
        "\n",
        "  for i in range(1,n):\n",
        "    X = a + i*h\n",
        "    if i % 2 == 0:\n",
        "      XI2 = XI2 + f(X)\n",
        "    else:\n",
        "      XI1 = XI1 + f(X)\n",
        "    \n",
        "  XI = h*(XI0 + 2*XI2 + 4*XI1)/3\n",
        "\n",
        "  return XI\n",
        "\n",
        "def regla_trapecio_compuesta(a,b,n,f):\n",
        "  if n == 0:\n",
        "    return 0\n",
        "  h = (b-a)/n\n",
        "  suma = 0\n",
        "\n",
        "  for i in range(1,n):\n",
        "    x = a + i*h\n",
        "    suma = suma + f(x)\n",
        "    \n",
        "  XI = h/2 * (f(a) + f(b) + 2 * suma) \n",
        "\n",
        "  return XI"
      ],
      "metadata": {
        "id": "v784fu4uks_4"
      },
      "execution_count": null,
      "outputs": []
    },
    {
      "cell_type": "code",
      "source": [
        "regla_simpson_compuesta(a,b,n,f)"
      ],
      "metadata": {
        "colab": {
          "base_uri": "https://localhost:8080/"
        },
        "id": "38LRvlwKl6PC",
        "outputId": "e9d6e60b-5553-450d-b8a3-f7026d9a7102"
      },
      "execution_count": null,
      "outputs": [
        {
          "output_type": "execute_result",
          "data": {
            "text/plain": [
              "7.954926517553389"
            ]
          },
          "metadata": {},
          "execution_count": 4
        }
      ]
    },
    {
      "cell_type": "code",
      "source": [
        "regla_trapecio_compuesta(a,b,n,f)"
      ],
      "metadata": {
        "colab": {
          "base_uri": "https://localhost:8080/"
        },
        "id": "XRI-rwvHl_SH",
        "outputId": "a9131047-c29e-45af-f736-e12ddca4bba1"
      },
      "execution_count": null,
      "outputs": [
        {
          "output_type": "execute_result",
          "data": {
            "text/plain": [
              "7.954926517553388"
            ]
          },
          "metadata": {},
          "execution_count": 5
        }
      ]
    },
    {
      "cell_type": "markdown",
      "source": [
        "## Problema 6"
      ],
      "metadata": {
        "id": "3n5Jh8o8KKQf"
      }
    },
    {
      "cell_type": "markdown",
      "source": [
        "6. Aproxima el valor de la siguiente integral utiliza al menos 2 métodos. Justifica los\n",
        "métodos elegidos. Sugerencia: Realiza un cambio de variable adecuado.\n",
        "\n",
        "\\begin{align*}\n",
        "    \\int_0^1 \\frac{2x+1}{\\sqrt{x(1-x)}} dx\n",
        "\\end{align*}\n",
        "Respecto a los métodos vistos en clase, ¿Hay alguno que no sea recomendable usar para este caso?\n",
        "Justifica con propias tus palabras."
      ],
      "metadata": {
        "id": "PEh_5kf4FMtl"
      }
    },
    {
      "cell_type": "markdown",
      "source": [
        "**Solución**\n",
        "Notemos que la función a integrar no está bien definida en $x=1$ pues se tendría una división entre 0, de modo que únicamente es posible utilizar alguna de las fórmulas de cuadratura abiertas; no es recomendable utilizar las fórmulas de cuadratura cerradas.\n",
        "\n",
        "Veamos los valores aproximados obtenidos mediante las fórmulas abiertas de Newton Cotes:"
      ],
      "metadata": {
        "id": "w6OUcng-oejO"
      }
    },
    {
      "cell_type": "markdown",
      "source": [
        "![image.png](data:image/png;base64,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)"
      ],
      "metadata": {
        "id": "EIAz0MmsrDgz"
      }
    },
    {
      "cell_type": "code",
      "source": [
        "def f(x):\n",
        "  return (2*x + 1) / (math.sqrt(x*(1-x)))\n",
        "\n",
        "def midpoint_rule_n0(a,b,f):\n",
        "  n = 0\n",
        "  h = (b-a)/(n+2) # 2 = n+2\n",
        "  x = a + h\n",
        "  return 2*h*f(x)\n",
        "\n",
        "print('La aproximación de la integral en el intervalo (0,1), con n = 0 es:', midpoint_rule_n0(0,1,f))"
      ],
      "metadata": {
        "id": "WW1ynAcAFOCz",
        "colab": {
          "base_uri": "https://localhost:8080/"
        },
        "outputId": "760e461d-c5b2-4587-adef-d27e1cabfbdf"
      },
      "execution_count": null,
      "outputs": [
        {
          "output_type": "stream",
          "name": "stdout",
          "text": [
            "La aproximación de la integral en el intervalo (0,1), con n = 0 es: 4.0\n"
          ]
        }
      ]
    },
    {
      "cell_type": "markdown",
      "source": [
        "![image.png](data:image/png;base64,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)"
      ],
      "metadata": {
        "id": "zIkoiGtstLeK"
      }
    },
    {
      "cell_type": "code",
      "source": [
        "def midpoint_rule_n1(a,b,f):\n",
        "  n = 1\n",
        "  h = (b-a)/(n+2) # 3 = n+2\n",
        "  x = a + h\n",
        "  return (3*h/2) * (f(x)+f(x + h))\n",
        "\n",
        "print('La aproximación de la integral en el intervalo (0,1), con n = 1 es:', midpoint_rule_n1(0,1,f))"
      ],
      "metadata": {
        "colab": {
          "base_uri": "https://localhost:8080/"
        },
        "id": "Lyo5ouVOtSI5",
        "outputId": "694df1fe-1d1b-40aa-f16d-46207d32703a"
      },
      "execution_count": null,
      "outputs": [
        {
          "output_type": "stream",
          "name": "stdout",
          "text": [
            "La aproximación de la integral en el intervalo (0,1), con n = 1 es: 4.242640687119285\n"
          ]
        }
      ]
    },
    {
      "cell_type": "markdown",
      "source": [
        "![image.png](data:image/png;base64,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)"
      ],
      "metadata": {
        "id": "V6sQG8dNtSPv"
      }
    },
    {
      "cell_type": "code",
      "source": [
        "def midpoint_rule_n2(a,b,f):\n",
        "  n = 2\n",
        "  h = (b-a)/(n+2) # 3 = n+2\n",
        "  x = a + h\n",
        "  return (4*h/3) * (2*f(x)-f(x + h) + 2*f(x + 2*h))\n",
        "\n",
        "print('La aproximación de la integral en el intervalo (0,1), con n = 1 es:', midpoint_rule_n2(0,1,f))"
      ],
      "metadata": {
        "colab": {
          "base_uri": "https://localhost:8080/"
        },
        "id": "nbHXAAXwtS9r",
        "outputId": "cae32faf-9c52-4ba4-a6f6-3f053fea55f0"
      },
      "execution_count": null,
      "outputs": [
        {
          "output_type": "stream",
          "name": "stdout",
          "text": [
            "La aproximación de la integral en el intervalo (0,1), con n = 1 es: 4.825069538022675\n"
          ]
        }
      ]
    },
    {
      "cell_type": "markdown",
      "source": [
        "![image.png](data:image/png;base64,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)"
      ],
      "metadata": {
        "id": "fwQQKunJtWaT"
      }
    },
    {
      "cell_type": "code",
      "source": [
        "def midpoint_rule_n3(a,b,f):\n",
        "  n = 3\n",
        "  h = (b-a)/(n+2) # 3 = n+2\n",
        "  x = a + h\n",
        "  return (5*h/24) * (11*f(x)+f(x + h) + f(x + 2*h) + 11*f(x + 3*h))\n",
        "\n",
        "print('La aproximación de la integral en el intervalo (0,1), con n = 3 es:', midpoint_rule_n3(0,1,f))"
      ],
      "metadata": {
        "colab": {
          "base_uri": "https://localhost:8080/"
        },
        "id": "4x9E2QxdtXV7",
        "outputId": "c81e059e-aff4-478b-fecc-bfc1ad70e909"
      },
      "execution_count": null,
      "outputs": [
        {
          "output_type": "stream",
          "name": "stdout",
          "text": [
            "La aproximación de la integral en el intervalo (0,1), con n = 3 es: 4.923540242053219\n"
          ]
        }
      ]
    },
    {
      "cell_type": "markdown",
      "source": [
        "Notemos que el valor de la integral va variando 'considerablemente' para las reglas del punto medio (abiertas) con $n=0,1,3$, por lo que podemos intuir que el error es grande, de modo que la aproximación no es tan precisa; lo cual se verificará a continuación:"
      ],
      "metadata": {
        "id": "mDLL8GHd9awb"
      }
    },
    {
      "cell_type": "markdown",
      "source": [
        "Sin embargo, al obtener la integral exacta por otros medios, se tiene que el resultado es $2\\pi \\approx 6.2832$  \n",
        "\n",
        "![image.png](data:image/png;base64,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)\n",
        "\n",
        "\n",
        "Entonces, se aplicará con un $h$ menor (i.e. un $n$ considerablemente mayor) para obtener una mejor aproximación:"
      ],
      "metadata": {
        "id": "B46dfIvV89w4"
      }
    },
    {
      "cell_type": "markdown",
      "source": [
        "![image.png](data:image/png;base64,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)"
      ],
      "metadata": {
        "id": "Ayh0pvtm_4Yl"
      }
    },
    {
      "cell_type": "code",
      "source": [
        "def composite_midpoint_rule(a,b,f,n): #n debe ser par\n",
        "  h = (b-a)/(n+2)\n",
        "  suma = 0\n",
        "  for j in range(int(n/2)):\n",
        "    suma = suma + f(a + (2*j + 1) * h)\n",
        "  return 2*h*suma\n",
        "\n",
        "a = 0\n",
        "b = 1\n",
        "\n",
        "print('La aproximación de la integral en el intervalo (0,1), con n = 0 es:', midpoint_rule_n0(0,1,f))\n",
        "print('La aproximación de la integral en el intervalo (0,1), con n = 1 es:', midpoint_rule_n1(0,1,f))\n",
        "print('La aproximación de la integral en el intervalo (0,1), con n = 2 es:', midpoint_rule_n2(0,1,f))\n",
        "print('La aproximación de la integral en el intervalo (0,1), con n = 3 es:', midpoint_rule_n3(0,1,f))\n",
        "\n",
        "\n",
        "print('n    -    Aproximación')\n",
        "for j in range(15,20):\n",
        "  print(40000*(j+10) , composite_midpoint_rule(a,b,f,40000*(j+10)))"
      ],
      "metadata": {
        "colab": {
          "base_uri": "https://localhost:8080/"
        },
        "id": "bLrCARdN_eMc",
        "outputId": "f1d16acf-a248-42b7-c2ae-6038afd000b0"
      },
      "execution_count": null,
      "outputs": [
        {
          "output_type": "stream",
          "name": "stdout",
          "text": [
            "La aproximación de la integral en el intervalo (0,1), con n = 0 es: 4.0\n",
            "La aproximación de la integral en el intervalo (0,1), con n = 1 es: 4.242640687119285\n",
            "La aproximación de la integral en el intervalo (0,1), con n = 2 es: 4.825069538022675\n",
            "La aproximación de la integral en el intervalo (0,1), con n = 3 es: 4.923540242053219\n",
            "n    -    Aproximación\n",
            "1000000 6.273763494484445\n",
            "1040000 6.273946459314648\n",
            "1080000 6.274119162918958\n",
            "1120000 6.274282529914301\n",
            "1160000 6.274437372327187\n"
          ]
        }
      ]
    },
    {
      "cell_type": "markdown",
      "source": [
        "Se necesitan $n$'s muy grandes para obtener una aproximación más cercana al valor real."
      ],
      "metadata": {
        "id": "tP-wSM_pBXh0"
      }
    },
    {
      "cell_type": "markdown",
      "source": [
        "Se puede efectuar un cambio de variable:\n",
        "$ u = x(1-x)=x-x^2$ , $du = 1-2x dx$, resulta en\n",
        "\\begin{align*}\n",
        "    \\int_0^1 \\frac{2x+1}{\\sqrt{x(1-x)}} dx = \\int_0^1 \\frac{2}{\\sqrt{x-x^2}}dx\n",
        "\\end{align*}\n",
        "\n",
        "Aún con el cambio de varible, sólo se pueden utilizar fórmulas de cuadratura abiertas. Veamos el comportamiento de las fómulas con este cambio de variable."
      ],
      "metadata": {
        "id": "3nnwx67e89Uy"
      }
    },
    {
      "cell_type": "code",
      "source": [
        "def g(x):\n",
        "  return 2/(math.sqrt(x-x**2))\n",
        "\n",
        "print('Aproximaciones con el cambio de variable:')\n",
        "\n",
        "print('La aproximación de la integral en el intervalo (0,1), con n = 0 es:', midpoint_rule_n0(0,1,g))\n",
        "print('La aproximación de la integral en el intervalo (0,1), con n = 1 es:', midpoint_rule_n1(0,1,g))\n",
        "print('La aproximación de la integral en el intervalo (0,1), con n = 2 es:', midpoint_rule_n2(0,1,g))\n",
        "print('La aproximación de la integral en el intervalo (0,1), con n = 3 es:', midpoint_rule_n3(0,1,g))\n",
        "\n",
        "print('\\n\\n n    -    Aproximación')\n",
        "for j in range(15,20):\n",
        "  print(40000*(j+10) , composite_midpoint_rule(a,b,g,40000*(j+10)))\n"
      ],
      "metadata": {
        "colab": {
          "base_uri": "https://localhost:8080/"
        },
        "id": "NLbXVkbJDTXY",
        "outputId": "16bfe777-4d0e-4291-e12b-f2a802adb560"
      },
      "execution_count": null,
      "outputs": [
        {
          "output_type": "stream",
          "name": "stdout",
          "text": [
            "Aproximaciones con el cambio de variable:\n",
            "La aproximación de la integral en el intervalo (0,1), con n = 0 es: 4.0\n",
            "La aproximación de la integral en el intervalo (0,1), con n = 1 es: 4.242640687119285\n",
            "La aproximación de la integral en el intervalo (0,1), con n = 2 es: 4.825069538022675\n",
            "La aproximación de la integral en el intervalo (0,1), con n = 3 es: 4.923540242053219\n",
            "\n",
            "\n",
            " n    -    Aproximación\n",
            "1000000 6.275763489483921\n",
            "1040000 6.275907615951764\n",
            "1080000 6.276043659361186\n",
            "1120000 6.276172348060921\n",
            "1160000 6.276294321707236\n"
          ]
        }
      ]
    },
    {
      "cell_type": "markdown",
      "source": [
        "No se observan diferencias al comparar los métodos del punto medio con $n=0,1,2,3$ al aplicarlo con la función original y con su cambio de variable.\n",
        "\n",
        "En cambio, se puede notar una mejora (mínima) en el método con $n$'s más grandes:"
      ],
      "metadata": {
        "id": "aTj168gjFhd-"
      }
    },
    {
      "cell_type": "code",
      "source": [
        "print('\\n\\n n    -    Original    -     Cambio de variable')\n",
        "for j in range(1,20):\n",
        "  print(40000*(j+10) , composite_midpoint_rule(a,b,f,40000*(j+10)) , composite_midpoint_rule(a,b,g,40000*(j+10)))"
      ],
      "metadata": {
        "colab": {
          "base_uri": "https://localhost:8080/"
        },
        "id": "EdMQqNoKGS4l",
        "outputId": "fa9437f4-2fd0-4e3a-e056-20fc304b8994"
      },
      "execution_count": null,
      "outputs": [
        {
          "output_type": "stream",
          "name": "stdout",
          "text": [
            "\n",
            "\n",
            " n    -    Original    -     Cambio de variable\n",
            "440000 6.268981410766187 6.27199650708071\n",
            "480000 6.26958610877443 6.272472845085512\n",
            "520000 6.270119617583868 6.272893105230986\n",
            "560000 6.270594891673521 6.2732674921613265\n",
            "600000 6.271021808559096 6.273603786698273\n",
            "640000 6.271408048880612 6.273908039114936\n",
            "680000 6.27175968716832 6.27418503450209\n",
            "720000 6.272081599367193 6.274438613787113\n",
            "760000 6.272377750710099 6.274671900502242\n",
            "800000 6.2726514033598155 6.274887464349587\n",
            "840000 6.272905268974257 6.27508744138207\n",
            "880000 6.273141622664725 6.27527362377153\n",
            "920000 6.273362389388272 6.275447527862286\n",
            "960000 6.273569210322525 6.275610446459017\n",
            "1000000 6.273763494484445 6.275763489483921\n",
            "1040000 6.273946459314648 6.275907615951764\n",
            "1080000 6.274119162918958 6.276043659361186\n",
            "1120000 6.274282529914301 6.276172348060921\n",
            "1160000 6.274437372327187 6.276294321707236\n"
          ]
        }
      ]
    },
    {
      "cell_type": "markdown",
      "source": [
        "En conclusión: el cambio de variable ayuda a obtener una mejor aproximación y es conveniente y necesario utilizar una fórmula de cuadratura abierta con una cantidad de nodos considerable."
      ],
      "metadata": {
        "id": "LWg-hcVHGvPa"
      }
    },
    {
      "cell_type": "markdown",
      "source": [
        "## Problema 7"
      ],
      "metadata": {
        "id": "Lrn0chXhKLeb"
      }
    },
    {
      "cell_type": "markdown",
      "source": [
        "7. (a) Mediante el método de ajuste por mínimos cuadrados ajusta una curva lineal y cuadrática a los datos\n",
        "\n",
        "\n",
        "\n",
        "|  |  |  |  |  | | | |  |\n",
        "| ----- | --- | ----- | ---- | ---  | ---- | ---- | ---- | ---- |\n",
        "$x$ | 1.0 | 2.5 | 3.5 | 4.0 | 1.1 | 1.8 | 2.2 | 3.7\n",
        "$y$ | 6.008 | 15.722 | 27.13 | 33.772 | 5.257 | 9.549 | 11.098 | 28.828\n",
        "|  |  |  |  |  | | | |  |\n",
        "\n",
        "\n",
        "¿Qué curva ajusta mejor y por qué?\n",
        "\n",
        "\n",
        "(b) Mediante el uso de un polinomio interpolador (Justificar la elección) determina el valor de y cuando $x = 0.46$ considerando la siguiente tabla.\n",
        "\n",
        "|  |  |  |  |  | | | |  |\n",
        "| ----- | --- | ----- | ---- | ---  | ---- | ---- | ---- | ---- |\n",
        "$x$ | 0 | 0.0204 | 0.1055 | 0.241 | 0.582 | 0.712 | 0.981\n",
        "$y$ | 0.385 | 1.04 | 1.79 | 2.63 | 4.39 | 4. 99 | 5.27\n",
        "|  |  |  |  |  | | | |  |\n"
      ],
      "metadata": {
        "id": "u1eDCwJBFOKz"
      }
    },
    {
      "cell_type": "code",
      "source": [
        "# inciso a)\n",
        "def minimos_cuad_lin(x,y):\n",
        "  plt.scatter(x,y,marker = '+', color = 'mediumvioletred')\n",
        "  m = len(x) # cantidad de nodos\n",
        "  suma_x = 0 # suma de las x's\n",
        "  suma_x2 = 0 # suma de las x^2\n",
        "  suma_y = 0\n",
        "  suma_xy = 0\n",
        "\n",
        "  for j in range(m):\n",
        "    suma_x = suma_x + x[j]\n",
        "    suma_x2 = suma_x2 + x[j]**2\n",
        "    suma_y = suma_y + y[j]\n",
        "    suma_xy = suma_xy + x[j]*y[j]\n",
        "  \n",
        "  #print(suma_x,suma_y,suma_x2,suma_xy)\n",
        "\n",
        "  a0 = (suma_x2 * suma_y - suma_xy*suma_x)/(m*suma_x2 - suma_x**2)\n",
        "  a1 = (m*suma_xy - suma_x * suma_y)/(m*suma_x2 - suma_x**2)\n",
        "  #print(a0,a1)\n",
        "  print('Recta obtenida:',a1,'x +',a0)\n",
        "\n",
        "  p1 = [min(x)-1 , a1*(min(x)-1) + a0]\n",
        "  p2 = [max(x)+1 , a1*(max(x)+1) + a0]\n",
        "  plt.plot( [p1[0],p2[0]] , [p1[1],p2[1]] , color = 'darkcyan')\n",
        "  plt.legend([\"Recta-aproximación: a1x+a0\" , \"nodos\"])\n",
        "\n",
        "  return a0,a1\n",
        "\n",
        "def evalua_min_cuad(punto, x,y): #regresa el valor de la aproximación de y (punto,y) en la recta obtenida\n",
        "  a0 , a1 = minimos_cuad_lin(x,y)\n",
        "  plt.plot([punto] , a1*punto + a0)\n",
        "  return a1*punto + a0\n",
        "\n",
        "\n",
        "def grafica_curva_mc(a,x):\n",
        "  plt.scatter(x,y,marker = '+', color = 'mediumvioletred')\n",
        "  L = np.linspace(min(x)-1 , max(x)+1)\n",
        "  plt.plot(L , a[0] + a[1]*L + a[2]*L*L , color = 'olive')\n",
        " \n",
        "\n",
        "def minimos_cuad_cuad(x,y):\n",
        "  m = len(x)\n",
        "  # sumas[0] |sumas[1] sumas[2] sumas[3] sumas[4] sumas[5]  sumas[6]   sumas[7] \n",
        "  # x[i]^0   | x[i]^1 | x[i]^2 | x[i]^3 | x[i]^4  | y[i]   | x[i]y[i] | x[i]^2y\n",
        "  sumas = np.zeros(8)\n",
        "  sumas[0] = m # suma de los x[i]^0\n",
        "  for j in range(m):\n",
        "    for k in range(1,4+1):\n",
        "      sumas[k] = sumas[k] + x[j]**k\n",
        "    for k in range(5, 7+1):\n",
        "      sumas[k] = sumas[k] + y[j]*(x[j]**(k-5))\n",
        "\n",
        "  A = np.array([[sumas[0] , sumas[1] , sumas[2]],\n",
        "                [sumas[1] , sumas[2] , sumas[3]],\n",
        "                [sumas[2] , sumas[3] , sumas[4]] ])\n",
        "  \n",
        "  b = np.array([sumas[5],sumas[6],sumas[7]]) \n",
        "  \n",
        "  a = np.linalg.solve(A,b) # sol al sist de ecs A*a = b\n",
        "\n",
        "  print('Curva obtenida:', a[0] , '+', a[1] , 'x +', a[2],'x^2' )\n",
        "\n",
        "  # grafica la curva\n",
        "  plt.scatter(x,y,marker = '+', color = 'mediumvioletred')\n",
        "  L = np.linspace(min(x)-1 , max(x)+1)\n",
        "  plt.plot(L , a[0] + a[1]*L + a[2]*L*L , color = 'olive')\n",
        "  plt.legend([\"Curva/aproximación\" , \"nodos\"])\n",
        "  # -fin graficar\n",
        "\n",
        "  return a\n",
        "\n",
        "def evalua_min_cuad_cuad(L,x,y):\n",
        "  a = minimos_cuad_cuad(x,y)\n",
        "  plt.plot([L], [a[0] + a[1]*L + a[2]*L*L], marker = '.' , color = 'black')\n",
        "  return a[0] + a[1]*L + a[2]*L*L"
      ],
      "metadata": {
        "id": "zIJs3vs8vtek"
      },
      "execution_count": null,
      "outputs": []
    },
    {
      "cell_type": "code",
      "source": [
        "x = [1.0 , 2.5, 3.5 , 4.0 , 1.1 , 1.8 , 2.2 , 3.7]\n",
        "y = [6.008 , 15.722 , 27.13 , 33.772 , 5.257 , 9.549 , 11.098 , 28.828]\n",
        "\n",
        "minimos_cuad_lin(x,y)"
      ],
      "metadata": {
        "id": "Hup1tujMDO_f",
        "colab": {
          "base_uri": "https://localhost:8080/",
          "height": 300
        },
        "outputId": "bb1fc336-602b-478a-c7f1-f9a9d26980f1"
      },
      "execution_count": null,
      "outputs": [
        {
          "output_type": "stream",
          "name": "stdout",
          "text": [
            "Recta obtenida: 9.43854353562004 x + -6.189895250659591\n"
          ]
        },
        {
          "output_type": "execute_result",
          "data": {
            "text/plain": [
              "(-6.189895250659591, 9.43854353562004)"
            ]
          },
          "metadata": {},
          "execution_count": 14
        },
        {
          "output_type": "display_data",
          "data": {
            "image/png": "[encoded data removed]",
            "text/plain": [
              "<Figure size 432x288 with 1 Axes>"
            ]
          },
          "metadata": {
            "needs_background": "light"
          }
        }
      ]
    },
    {
      "cell_type": "code",
      "source": [
        "minimos_cuad_cuad(x,y)"
      ],
      "metadata": {
        "colab": {
          "base_uri": "https://localhost:8080/",
          "height": 300
        },
        "id": "p8Kw6I-Hv_zJ",
        "outputId": "4eaa638f-a7cd-4c95-926a-a7971c1d2d92"
      },
      "execution_count": null,
      "outputs": [
        {
          "output_type": "stream",
          "name": "stdout",
          "text": [
            "Curva obtenida: 4.405673769461011 + -1.0688961309258682 x + 2.108118215400891 x^2\n"
          ]
        },
        {
          "output_type": "execute_result",
          "data": {
            "text/plain": [
              "array([ 4.40567377, -1.06889613,  2.10811822])"
            ]
          },
          "metadata": {},
          "execution_count": 15
        },
        {
          "output_type": "display_data",
          "data": {
            "image/png": "[encoded data removed]",
            "text/plain": [
              "<Figure size 432x288 with 1 Axes>"
            ]
          },
          "metadata": {
            "needs_background": "light"
          }
        }
      ]
    },
    {
      "cell_type": "code",
      "source": [
        "minimos_cuad_lin(x,y)\n",
        "minimos_cuad_cuad(x,y)\n",
        "plt.legend([\"Aproximación lineal\", \"Aproximación cuadrática\",\"Nodos\"])"
      ],
      "metadata": {
        "colab": {
          "base_uri": "https://localhost:8080/",
          "height": 317
        },
        "id": "mAdbLLbOBsrj",
        "outputId": "d57fdab9-0f62-4079-c861-e77ed157c05b"
      },
      "execution_count": null,
      "outputs": [
        {
          "output_type": "stream",
          "name": "stdout",
          "text": [
            "Recta obtenida: 9.43854353562004 x + -6.189895250659591\n",
            "Curva obtenida: 4.405673769461011 + -1.0688961309258682 x + 2.108118215400891 x^2\n"
          ]
        },
        {
          "output_type": "execute_result",
          "data": {
            "text/plain": [
              "<matplotlib.legend.Legend at 0x7f82ce078310>"
            ]
          },
          "metadata": {},
          "execution_count": 16
        },
        {
          "output_type": "display_data",
          "data": {
            "image/png": "[encoded data removed]",
            "text/plain": [
              "<Figure size 432x288 with 1 Axes>"
            ]
          },
          "metadata": {
            "needs_background": "light"
          }
        }
      ]
    },
    {
      "cell_type": "markdown",
      "source": [
        "¿Cuál ajusta mejor? La curva de la aproximación cuadrática aproxima mejor. Esto se da gracias al estudio del errpr"
      ],
      "metadata": {
        "id": "rnoA497WBKgC"
      }
    },
    {
      "cell_type": "code",
      "source": [
        "error_cuad = 0\n",
        "error_lin = 0\n",
        "for j in range(len(x)):\n",
        "  error_lin = error_lin + (y[j] - evalua_min_cuad(x[j],x,y) )**2\n",
        "  error_cuad = error_cuad + (y[j] - evalua_min_cuad_cuad(x[j],x,y) )**2"
      ],
      "metadata": {
        "colab": {
          "base_uri": "https://localhost:8080/",
          "height": 543
        },
        "id": "RxMxsIawJ-9c",
        "outputId": "28b48133-0b51-42b9-9f38-9241a2ac342c"
      },
      "execution_count": null,
      "outputs": [
        {
          "output_type": "stream",
          "name": "stdout",
          "text": [
            "Recta obtenida: 9.43854353562004 x + -6.189895250659591\n",
            "Curva obtenida: 4.405673769461011 + -1.0688961309258682 x + 2.108118215400891 x^2\n",
            "Recta obtenida: 9.43854353562004 x + -6.189895250659591\n",
            "Curva obtenida: 4.405673769461011 + -1.0688961309258682 x + 2.108118215400891 x^2\n",
            "Recta obtenida: 9.43854353562004 x + -6.189895250659591\n",
            "Curva obtenida: 4.405673769461011 + -1.0688961309258682 x + 2.108118215400891 x^2\n",
            "Recta obtenida: 9.43854353562004 x + -6.189895250659591\n",
            "Curva obtenida: 4.405673769461011 + -1.0688961309258682 x + 2.108118215400891 x^2\n",
            "Recta obtenida: 9.43854353562004 x + -6.189895250659591\n",
            "Curva obtenida: 4.405673769461011 + -1.0688961309258682 x + 2.108118215400891 x^2\n",
            "Recta obtenida: 9.43854353562004 x + -6.189895250659591\n",
            "Curva obtenida: 4.405673769461011 + -1.0688961309258682 x + 2.108118215400891 x^2\n",
            "Recta obtenida: 9.43854353562004 x + -6.189895250659591\n",
            "Curva obtenida: 4.405673769461011 + -1.0688961309258682 x + 2.108118215400891 x^2\n",
            "Recta obtenida: 9.43854353562004 x + -6.189895250659591\n",
            "Curva obtenida: 4.405673769461011 + -1.0688961309258682 x + 2.108118215400891 x^2\n"
          ]
        },
        {
          "output_type": "display_data",
          "data": {
            "image/png": "[encoded data removed]",
            "text/plain": [
              "<Figure size 432x288 with 1 Axes>"
            ]
          },
          "metadata": {
            "needs_background": "light"
          }
        }
      ]
    },
    {
      "cell_type": "code",
      "source": [
        "print('El error total de la aproximación lineal es ',error_lin)\n",
        "print('El error total de la aproximación cuadrática es ',error_cuad)\n",
        "\n",
        "print('De forma que el error de la aproximación cuadrática es mucho menor que el error de la aproximación lineal.\\n Por lo que la aproximación cuadrática es mejor (se observa también al empalmar las gráficas)')"
      ],
      "metadata": {
        "colab": {
          "base_uri": "https://localhost:8080/"
        },
        "id": "WT-gLJ6lBMqZ",
        "outputId": "4cac7f6b-9f37-471d-dbce-e0f871dcff85"
      },
      "execution_count": null,
      "outputs": [
        {
          "output_type": "stream",
          "name": "stdout",
          "text": [
            "El error total de la aproximación lineal es  30.20147190079154\n",
            "El error total de la aproximación cuadrática es  3.304259349317638\n",
            "De forma que el error de la aproximación cuadrática es mucho menor que el error de la aproximación lineal.\n",
            " Por lo que la aproximación cuadrática es mejor (se observa también al empalmar las gráficas)\n"
          ]
        }
      ]
    },
    {
      "cell_type": "markdown",
      "source": [
        "b) Se tienen 7 nodos; se puede utilizar cualquier polinomio interpolador, por conveniencia, compararé las aproximaciones obtenidas mediante el polinomio interpolador de Newton y el polinomio interpolador de Lagrange"
      ],
      "metadata": {
        "id": "9-q-HdtENOGG"
      }
    },
    {
      "cell_type": "code",
      "source": [
        "# b) \n",
        "def Newton(x,xj):\n",
        "  n = len(xj)\n",
        "  D = np.zeros((n,n))\n",
        "  for i in range(n):\n",
        "    D[i,0] = f(xj[i])\n",
        "\n",
        "  for j in range(1,n):\n",
        "    for i in range(n-j):\n",
        "      D[i,j] = (D[i+1,j-1]-D[i,j-1])/(xj[i+j]-xj[i])\n",
        "  \n",
        "  s = f(xj[0])\n",
        "\n",
        "  for j in range(1,n):\n",
        "    prod = 1\n",
        "    for i in range(j):\n",
        "      prod = prod*(x-xj[i])\n",
        "\n",
        "    s = s + D[0,j]*prod\n",
        "  \n",
        "  print('Aproximación',s)\n",
        "  return(s)\n",
        "\n",
        "\n",
        "x0 = 0.46\n",
        "x =  [0 , 0.0204 , 0.1055 , 0.241 , 0.582 , 0.712 , 0.981]\n",
        "y = [ 0.385 , 1.04 , 1.79 , 2.63 , 4.39 , 4.99 , 5.27]\n",
        "\n",
        "def f(x0):\n",
        "  return y[x.index(x0)]\n",
        "\n",
        "\n",
        "ap = Newton(x0,x)\n",
        "#print('Aproximación',Newton(x0,x))"
      ],
      "metadata": {
        "colab": {
          "base_uri": "https://localhost:8080/"
        },
        "id": "zyc4KGqyNUs4",
        "outputId": "5a51b244-1a96-409b-b730-aaed6c22b99b"
      },
      "execution_count": null,
      "outputs": [
        {
          "output_type": "stream",
          "name": "stdout",
          "text": [
            "Aproximación 4.878535591876114\n"
          ]
        }
      ]
    },
    {
      "cell_type": "code",
      "source": [
        "def L(x,xj,i):\n",
        "  n = len(xj)\n",
        "  l = 1\n",
        "  for j in range(n):\n",
        "    if j == i:\n",
        "      continue\n",
        "    l = l * (x-xj[j])/(xj[i]-xj[j])\n",
        "\n",
        "  return l \n",
        "\n",
        "def lagrange(x,xj):\n",
        "  n = len(xj)\n",
        "  s = 0\n",
        "  for i in range(n):\n",
        "    s = s + L(x,xj,i)*f(xj[i])\n",
        "  return s\n",
        "\n",
        "print('Aproximación con Lagrange',lagrange(x0,x))"
      ],
      "metadata": {
        "colab": {
          "base_uri": "https://localhost:8080/"
        },
        "id": "S1fYAZoYQZiL",
        "outputId": "27a08a5a-b701-4fbf-9dc3-6d5ee9339583"
      },
      "execution_count": null,
      "outputs": [
        {
          "output_type": "stream",
          "name": "stdout",
          "text": [
            "Aproximación con Lagrange 4.878535591876102\n"
          ]
        }
      ]
    },
    {
      "cell_type": "markdown",
      "source": [
        "Ambas aproximaciones son muy similales."
      ],
      "metadata": {
        "id": "KHzB9YXFQt-u"
      }
    }
  ]
}